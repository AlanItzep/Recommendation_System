{
 "cells": [
  {
   "cell_type": "markdown",
   "metadata": {},
   "source": [
    "## Movies Recommendation System "
   ]
  },
  {
   "cell_type": "markdown",
   "metadata": {},
   "source": [
    "A recommendation system is a tool that in recent years many companies had implemented in their common operations. This kind of systems can help in various fields like music, news, books, articles, retail finance, entertainment industry, in general therms tend to increase the page views and retention of the clients.  \n",
    "The any company that automatically suggest content, services or products it's posible to tell if they use a recommendation system.  \n",
    "\n",
    "In this practice it'll be used the datasets preseted by Simon Dooms i their repository of Github https://github.com/sidooms/MovieTweetings.  \n",
    "\n",
    "Simultaneusly it has used some techniques proposed by Jalaj Thanaki.\n",
    "\n",
    "Then here we go."
   ]
  },
  {
   "cell_type": "code",
   "execution_count": 1,
   "metadata": {},
   "outputs": [],
   "source": [
    "import pandas as pd\n",
    "import numpy as np\n",
    "import requests\n",
    "import io\n",
    "from datetime import datetime\n",
    "import matplotlib.pyplot as plt"
   ]
  },
  {
   "cell_type": "markdown",
   "metadata": {},
   "source": [
    "## Local load proof"
   ]
  },
  {
   "cell_type": "markdown",
   "metadata": {},
   "source": [
    "itm_file = pd.read_csv('movies.dat', sep='::', engine='python')\n",
    "use_file = pd.read_csv('users.dat', sep='::', engine='python')\n",
    "rat_file = pd.read_csv('ratings.dat', sep='::', engine='python')\n",
    "\n",
    "itm_file.columns = ['movie_id', 'movie_title', 'genre']\n",
    "use_file.columns = ['userid', 'twitter_id']\n",
    "rat_file.columns = ['user_id','movie_id','rating','rating_timestamp']"
   ]
  },
  {
   "cell_type": "markdown",
   "metadata": {},
   "source": [
    "## Load proofs from an URL"
   ]
  },
  {
   "cell_type": "markdown",
   "metadata": {},
   "source": [
    "url=\"https://raw.githubusercontent.com/sidooms/MovieTweetings/master/latest/movies.dat\"\n",
    "c=pd.read_csv(url, sep='::',encoding='utf8'm,error_bad_lines=False,engine='python')\n",
    "c.columns = ['movie_id', 'movie_title', 'genre']\n",
    "c"
   ]
  },
  {
   "cell_type": "markdown",
   "metadata": {},
   "source": [
    "## Beginning  \n",
    "* Save the URLs in some temporary variable.  \n",
    "* Convert the dataset that is saved in the temporal variables to Data Frames.  \n",
    "* Add appropriate names to the columns."
   ]
  },
  {
   "cell_type": "code",
   "execution_count": 2,
   "metadata": {
    "scrolled": true
   },
   "outputs": [],
   "source": [
    "url_items = \"https://raw.githubusercontent.com/sidooms/MovieTweetings/master/latest/movies.dat\"\n",
    "url_ratin = \"https://raw.githubusercontent.com/sidooms/MovieTweetings/master/latest/ratings.dat\"\n",
    "url_users = \"https://raw.githubusercontent.com/sidooms/MovieTweetings/master/latest/users.dat\"\n",
    "\n",
    "itm_file = pd.read_csv(url_items, sep='::',encoding='utf8',error_bad_lines=False,engine='python')\n",
    "use_file = pd.read_csv(url_users, sep='::',encoding='utf8',error_bad_lines=False,engine='python')\n",
    "rat_file = pd.read_csv(url_ratin, sep='::',encoding='utf8',error_bad_lines=False,engine='python')\n",
    "\n",
    "itm_file.columns = ['movie_id', 'movie_title', 'genre']\n",
    "use_file.columns = ['userid', 'twitter_id']\n",
    "rat_file.columns = ['user_id','movie_id','rating','rating_timestamp']"
   ]
  },
  {
   "cell_type": "markdown",
   "metadata": {},
   "source": [
    "## Items dataset"
   ]
  },
  {
   "cell_type": "code",
   "execution_count": 3,
   "metadata": {
    "scrolled": true
   },
   "outputs": [
    {
     "data": {
      "text/html": [
       "<div>\n",
       "<style scoped>\n",
       "    .dataframe tbody tr th:only-of-type {\n",
       "        vertical-align: middle;\n",
       "    }\n",
       "\n",
       "    .dataframe tbody tr th {\n",
       "        vertical-align: top;\n",
       "    }\n",
       "\n",
       "    .dataframe thead th {\n",
       "        text-align: right;\n",
       "    }\n",
       "</style>\n",
       "<table border=\"1\" class=\"dataframe\">\n",
       "  <thead>\n",
       "    <tr style=\"text-align: right;\">\n",
       "      <th></th>\n",
       "      <th>movie_id</th>\n",
       "      <th>movie_title</th>\n",
       "      <th>genre</th>\n",
       "    </tr>\n",
       "  </thead>\n",
       "  <tbody>\n",
       "    <tr>\n",
       "      <th>0</th>\n",
       "      <td>10</td>\n",
       "      <td>La sortie des usines Lumière (1895)</td>\n",
       "      <td>Documentary|Short</td>\n",
       "    </tr>\n",
       "    <tr>\n",
       "      <th>1</th>\n",
       "      <td>12</td>\n",
       "      <td>The Arrival of a Train (1896)</td>\n",
       "      <td>Documentary|Short</td>\n",
       "    </tr>\n",
       "    <tr>\n",
       "      <th>2</th>\n",
       "      <td>25</td>\n",
       "      <td>The Oxford and Cambridge University Boat Race ...</td>\n",
       "      <td>NaN</td>\n",
       "    </tr>\n",
       "    <tr>\n",
       "      <th>3</th>\n",
       "      <td>91</td>\n",
       "      <td>Le manoir du diable (1896)</td>\n",
       "      <td>Short|Horror</td>\n",
       "    </tr>\n",
       "    <tr>\n",
       "      <th>4</th>\n",
       "      <td>131</td>\n",
       "      <td>Une nuit terrible (1896)</td>\n",
       "      <td>Short|Comedy|Horror</td>\n",
       "    </tr>\n",
       "  </tbody>\n",
       "</table>\n",
       "</div>"
      ],
      "text/plain": [
       "   movie_id                                        movie_title  \\\n",
       "0        10                La sortie des usines Lumière (1895)   \n",
       "1        12                      The Arrival of a Train (1896)   \n",
       "2        25  The Oxford and Cambridge University Boat Race ...   \n",
       "3        91                         Le manoir du diable (1896)   \n",
       "4       131                           Une nuit terrible (1896)   \n",
       "\n",
       "                 genre  \n",
       "0    Documentary|Short  \n",
       "1    Documentary|Short  \n",
       "2                  NaN  \n",
       "3         Short|Horror  \n",
       "4  Short|Comedy|Horror  "
      ]
     },
     "execution_count": 3,
     "metadata": {},
     "output_type": "execute_result"
    }
   ],
   "source": [
    "itm_file.head() "
   ]
  },
  {
   "cell_type": "code",
   "execution_count": 4,
   "metadata": {},
   "outputs": [
    {
     "data": {
      "text/plain": [
       "(34523, 3)"
      ]
     },
     "execution_count": 4,
     "metadata": {},
     "output_type": "execute_result"
    }
   ],
   "source": [
    "itm_file.shape"
   ]
  },
  {
   "cell_type": "markdown",
   "metadata": {},
   "source": [
    "It'd be noticed that the column *movie_title* contains other important information furthermore the title. Then it is necessary to put apart the realisation year of the movie in another column. Finally, of course, it is very important to errase characters <<**(**>> and << **)**>>"
   ]
  },
  {
   "cell_type": "code",
   "execution_count": 5,
   "metadata": {},
   "outputs": [],
   "source": [
    "itm_file['movie_year'] = itm_file['movie_title']"
   ]
  },
  {
   "cell_type": "code",
   "execution_count": 6,
   "metadata": {},
   "outputs": [],
   "source": [
    "itm_file['movie_title'] = itm_file['movie_title'].str.split('(').str[0]\n",
    "itm_file['movie_title'] = itm_file['movie_title'].str.strip()\n",
    "itm_file['movie_year'] = itm_file['movie_year'].str[-6:]"
   ]
  },
  {
   "cell_type": "code",
   "execution_count": 7,
   "metadata": {},
   "outputs": [],
   "source": [
    "itm_file['movie_year'] = itm_file['movie_year'].str.split('(').str[1]\n",
    "itm_file['movie_year'] = itm_file['movie_year'].str.split(')').str[0]"
   ]
  },
  {
   "cell_type": "code",
   "execution_count": 8,
   "metadata": {
    "scrolled": false
   },
   "outputs": [
    {
     "data": {
      "text/html": [
       "<div>\n",
       "<style scoped>\n",
       "    .dataframe tbody tr th:only-of-type {\n",
       "        vertical-align: middle;\n",
       "    }\n",
       "\n",
       "    .dataframe tbody tr th {\n",
       "        vertical-align: top;\n",
       "    }\n",
       "\n",
       "    .dataframe thead th {\n",
       "        text-align: right;\n",
       "    }\n",
       "</style>\n",
       "<table border=\"1\" class=\"dataframe\">\n",
       "  <thead>\n",
       "    <tr style=\"text-align: right;\">\n",
       "      <th></th>\n",
       "      <th>movie_id</th>\n",
       "      <th>movie_title</th>\n",
       "      <th>genre</th>\n",
       "      <th>movie_year</th>\n",
       "    </tr>\n",
       "  </thead>\n",
       "  <tbody>\n",
       "    <tr>\n",
       "      <th>34518</th>\n",
       "      <td>11108064</td>\n",
       "      <td>Jeff Garlin: Our Man in Chicago</td>\n",
       "      <td>Comedy</td>\n",
       "      <td>2019</td>\n",
       "    </tr>\n",
       "    <tr>\n",
       "      <th>34519</th>\n",
       "      <td>11127056</td>\n",
       "      <td>Fire in Paradise</td>\n",
       "      <td>Documentary|Short</td>\n",
       "      <td>2019</td>\n",
       "    </tr>\n",
       "    <tr>\n",
       "      <th>34520</th>\n",
       "      <td>11163028</td>\n",
       "      <td>House Arrest</td>\n",
       "      <td>Comedy</td>\n",
       "      <td>2019</td>\n",
       "    </tr>\n",
       "    <tr>\n",
       "      <th>34521</th>\n",
       "      <td>11168100</td>\n",
       "      <td>Seth Meyers: Lobby Baby</td>\n",
       "      <td>Comedy</td>\n",
       "      <td>2019</td>\n",
       "    </tr>\n",
       "    <tr>\n",
       "      <th>34522</th>\n",
       "      <td>11212096</td>\n",
       "      <td>In Search of the Earth-Mother of Anatolia</td>\n",
       "      <td>NaN</td>\n",
       "      <td>2019</td>\n",
       "    </tr>\n",
       "  </tbody>\n",
       "</table>\n",
       "</div>"
      ],
      "text/plain": [
       "       movie_id                                movie_title              genre  \\\n",
       "34518  11108064            Jeff Garlin: Our Man in Chicago             Comedy   \n",
       "34519  11127056                           Fire in Paradise  Documentary|Short   \n",
       "34520  11163028                               House Arrest             Comedy   \n",
       "34521  11168100                    Seth Meyers: Lobby Baby             Comedy   \n",
       "34522  11212096  In Search of the Earth-Mother of Anatolia                NaN   \n",
       "\n",
       "      movie_year  \n",
       "34518       2019  \n",
       "34519       2019  \n",
       "34520       2019  \n",
       "34521       2019  \n",
       "34522       2019  "
      ]
     },
     "execution_count": 8,
     "metadata": {},
     "output_type": "execute_result"
    }
   ],
   "source": [
    "itm_file.tail() "
   ]
  },
  {
   "cell_type": "markdown",
   "metadata": {},
   "source": [
    "The dataset is almost ready but before at all, it's a good practice to check if there are null values. In this case have null values could mean conflicts in our future transformations."
   ]
  },
  {
   "cell_type": "code",
   "execution_count": 9,
   "metadata": {},
   "outputs": [
    {
     "data": {
      "text/plain": [
       "True"
      ]
     },
     "execution_count": 9,
     "metadata": {},
     "output_type": "execute_result"
    }
   ],
   "source": [
    "itm_file.isnull().values.any()"
   ]
  },
  {
   "cell_type": "code",
   "execution_count": 10,
   "metadata": {},
   "outputs": [
    {
     "data": {
      "text/plain": [
       "movie_id         0\n",
       "movie_title      0\n",
       "genre          280\n",
       "movie_year       0\n",
       "dtype: int64"
      ]
     },
     "execution_count": 10,
     "metadata": {},
     "output_type": "execute_result"
    }
   ],
   "source": [
    "itm_file.isnull().sum()"
   ]
  },
  {
   "cell_type": "markdown",
   "metadata": {},
   "source": [
    "Effectively theres are null values, however it is easy to fill the null values with some other specific value. "
   ]
  },
  {
   "cell_type": "code",
   "execution_count": 11,
   "metadata": {},
   "outputs": [],
   "source": [
    "itm_file = itm_file.fillna(value = 'noGenre')"
   ]
  },
  {
   "cell_type": "code",
   "execution_count": 12,
   "metadata": {},
   "outputs": [
    {
     "data": {
      "text/html": [
       "<div>\n",
       "<style scoped>\n",
       "    .dataframe tbody tr th:only-of-type {\n",
       "        vertical-align: middle;\n",
       "    }\n",
       "\n",
       "    .dataframe tbody tr th {\n",
       "        vertical-align: top;\n",
       "    }\n",
       "\n",
       "    .dataframe thead th {\n",
       "        text-align: right;\n",
       "    }\n",
       "</style>\n",
       "<table border=\"1\" class=\"dataframe\">\n",
       "  <thead>\n",
       "    <tr style=\"text-align: right;\">\n",
       "      <th></th>\n",
       "      <th>movie_id</th>\n",
       "      <th>movie_title</th>\n",
       "      <th>genre</th>\n",
       "      <th>movie_year</th>\n",
       "    </tr>\n",
       "  </thead>\n",
       "  <tbody>\n",
       "    <tr>\n",
       "      <th>0</th>\n",
       "      <td>10</td>\n",
       "      <td>La sortie des usines Lumière</td>\n",
       "      <td>Documentary|Short</td>\n",
       "      <td>1895</td>\n",
       "    </tr>\n",
       "    <tr>\n",
       "      <th>1</th>\n",
       "      <td>12</td>\n",
       "      <td>The Arrival of a Train</td>\n",
       "      <td>Documentary|Short</td>\n",
       "      <td>1896</td>\n",
       "    </tr>\n",
       "    <tr>\n",
       "      <th>2</th>\n",
       "      <td>25</td>\n",
       "      <td>The Oxford and Cambridge University Boat Race</td>\n",
       "      <td>noGenre</td>\n",
       "      <td>1895</td>\n",
       "    </tr>\n",
       "    <tr>\n",
       "      <th>3</th>\n",
       "      <td>91</td>\n",
       "      <td>Le manoir du diable</td>\n",
       "      <td>Short|Horror</td>\n",
       "      <td>1896</td>\n",
       "    </tr>\n",
       "    <tr>\n",
       "      <th>4</th>\n",
       "      <td>131</td>\n",
       "      <td>Une nuit terrible</td>\n",
       "      <td>Short|Comedy|Horror</td>\n",
       "      <td>1896</td>\n",
       "    </tr>\n",
       "  </tbody>\n",
       "</table>\n",
       "</div>"
      ],
      "text/plain": [
       "   movie_id                                    movie_title  \\\n",
       "0        10                   La sortie des usines Lumière   \n",
       "1        12                         The Arrival of a Train   \n",
       "2        25  The Oxford and Cambridge University Boat Race   \n",
       "3        91                            Le manoir du diable   \n",
       "4       131                              Une nuit terrible   \n",
       "\n",
       "                 genre movie_year  \n",
       "0    Documentary|Short       1895  \n",
       "1    Documentary|Short       1896  \n",
       "2              noGenre       1895  \n",
       "3         Short|Horror       1896  \n",
       "4  Short|Comedy|Horror       1896  "
      ]
     },
     "execution_count": 12,
     "metadata": {},
     "output_type": "execute_result"
    }
   ],
   "source": [
    "itm_file.head() "
   ]
  },
  {
   "cell_type": "code",
   "execution_count": 13,
   "metadata": {
    "scrolled": true
   },
   "outputs": [
    {
     "data": {
      "text/plain": [
       "(34523, 4)"
      ]
     },
     "execution_count": 13,
     "metadata": {},
     "output_type": "execute_result"
    }
   ],
   "source": [
    "itm_file.shape"
   ]
  },
  {
   "cell_type": "markdown",
   "metadata": {},
   "source": [
    "## Users dataset"
   ]
  },
  {
   "cell_type": "code",
   "execution_count": 14,
   "metadata": {
    "scrolled": false
   },
   "outputs": [
    {
     "data": {
      "text/html": [
       "<div>\n",
       "<style scoped>\n",
       "    .dataframe tbody tr th:only-of-type {\n",
       "        vertical-align: middle;\n",
       "    }\n",
       "\n",
       "    .dataframe tbody tr th {\n",
       "        vertical-align: top;\n",
       "    }\n",
       "\n",
       "    .dataframe thead th {\n",
       "        text-align: right;\n",
       "    }\n",
       "</style>\n",
       "<table border=\"1\" class=\"dataframe\">\n",
       "  <thead>\n",
       "    <tr style=\"text-align: right;\">\n",
       "      <th></th>\n",
       "      <th>userid</th>\n",
       "      <th>twitter_id</th>\n",
       "    </tr>\n",
       "  </thead>\n",
       "  <tbody>\n",
       "    <tr>\n",
       "      <th>0</th>\n",
       "      <td>2</td>\n",
       "      <td>40501255</td>\n",
       "    </tr>\n",
       "    <tr>\n",
       "      <th>1</th>\n",
       "      <td>3</td>\n",
       "      <td>417333257</td>\n",
       "    </tr>\n",
       "    <tr>\n",
       "      <th>2</th>\n",
       "      <td>4</td>\n",
       "      <td>138805259</td>\n",
       "    </tr>\n",
       "    <tr>\n",
       "      <th>3</th>\n",
       "      <td>5</td>\n",
       "      <td>2452094989</td>\n",
       "    </tr>\n",
       "    <tr>\n",
       "      <th>4</th>\n",
       "      <td>6</td>\n",
       "      <td>391774225</td>\n",
       "    </tr>\n",
       "  </tbody>\n",
       "</table>\n",
       "</div>"
      ],
      "text/plain": [
       "   userid  twitter_id\n",
       "0       2    40501255\n",
       "1       3   417333257\n",
       "2       4   138805259\n",
       "3       5  2452094989\n",
       "4       6   391774225"
      ]
     },
     "execution_count": 14,
     "metadata": {},
     "output_type": "execute_result"
    }
   ],
   "source": [
    "use_file.head()"
   ]
  },
  {
   "cell_type": "code",
   "execution_count": 15,
   "metadata": {},
   "outputs": [
    {
     "data": {
      "text/plain": [
       "(60469, 2)"
      ]
     },
     "execution_count": 15,
     "metadata": {},
     "output_type": "execute_result"
    }
   ],
   "source": [
    "use_file.shape"
   ]
  },
  {
   "cell_type": "code",
   "execution_count": 16,
   "metadata": {},
   "outputs": [],
   "source": [
    "use_file = use_file.rename(columns = {'userid':'user_id'})"
   ]
  },
  {
   "cell_type": "markdown",
   "metadata": {},
   "source": [
    "## Ratings dataset"
   ]
  },
  {
   "cell_type": "code",
   "execution_count": 17,
   "metadata": {
    "scrolled": false
   },
   "outputs": [
    {
     "data": {
      "text/html": [
       "<div>\n",
       "<style scoped>\n",
       "    .dataframe tbody tr th:only-of-type {\n",
       "        vertical-align: middle;\n",
       "    }\n",
       "\n",
       "    .dataframe tbody tr th {\n",
       "        vertical-align: top;\n",
       "    }\n",
       "\n",
       "    .dataframe thead th {\n",
       "        text-align: right;\n",
       "    }\n",
       "</style>\n",
       "<table border=\"1\" class=\"dataframe\">\n",
       "  <thead>\n",
       "    <tr style=\"text-align: right;\">\n",
       "      <th></th>\n",
       "      <th>user_id</th>\n",
       "      <th>movie_id</th>\n",
       "      <th>rating</th>\n",
       "      <th>rating_timestamp</th>\n",
       "    </tr>\n",
       "  </thead>\n",
       "  <tbody>\n",
       "    <tr>\n",
       "      <th>817075</th>\n",
       "      <td>60468</td>\n",
       "      <td>8695030</td>\n",
       "      <td>1</td>\n",
       "      <td>1567816456</td>\n",
       "    </tr>\n",
       "    <tr>\n",
       "      <th>817076</th>\n",
       "      <td>60468</td>\n",
       "      <td>9398640</td>\n",
       "      <td>1</td>\n",
       "      <td>1569026144</td>\n",
       "    </tr>\n",
       "    <tr>\n",
       "      <th>817077</th>\n",
       "      <td>60469</td>\n",
       "      <td>816711</td>\n",
       "      <td>8</td>\n",
       "      <td>1371972851</td>\n",
       "    </tr>\n",
       "    <tr>\n",
       "      <th>817078</th>\n",
       "      <td>60470</td>\n",
       "      <td>1559547</td>\n",
       "      <td>2</td>\n",
       "      <td>1373287369</td>\n",
       "    </tr>\n",
       "    <tr>\n",
       "      <th>817079</th>\n",
       "      <td>60470</td>\n",
       "      <td>2415464</td>\n",
       "      <td>2</td>\n",
       "      <td>1373772560</td>\n",
       "    </tr>\n",
       "  </tbody>\n",
       "</table>\n",
       "</div>"
      ],
      "text/plain": [
       "        user_id  movie_id  rating  rating_timestamp\n",
       "817075    60468   8695030       1        1567816456\n",
       "817076    60468   9398640       1        1569026144\n",
       "817077    60469    816711       8        1371972851\n",
       "817078    60470   1559547       2        1373287369\n",
       "817079    60470   2415464       2        1373772560"
      ]
     },
     "execution_count": 17,
     "metadata": {},
     "output_type": "execute_result"
    }
   ],
   "source": [
    "rat_file.tail()"
   ]
  },
  {
   "cell_type": "code",
   "execution_count": 18,
   "metadata": {},
   "outputs": [
    {
     "data": {
      "text/plain": [
       "(817080, 4)"
      ]
     },
     "execution_count": 18,
     "metadata": {},
     "output_type": "execute_result"
    }
   ],
   "source": [
    "rat_file.shape"
   ]
  },
  {
   "cell_type": "markdown",
   "metadata": {},
   "source": [
    "As it shows, the rating timestamp has a special format to compress the information about the date and time when the votation has done.  \n",
    "Then it is vital to convert this information to a format more comprehensible. "
   ]
  },
  {
   "cell_type": "code",
   "execution_count": 19,
   "metadata": {
    "scrolled": true
   },
   "outputs": [
    {
     "data": {
      "text/html": [
       "<div>\n",
       "<style scoped>\n",
       "    .dataframe tbody tr th:only-of-type {\n",
       "        vertical-align: middle;\n",
       "    }\n",
       "\n",
       "    .dataframe tbody tr th {\n",
       "        vertical-align: top;\n",
       "    }\n",
       "\n",
       "    .dataframe thead th {\n",
       "        text-align: right;\n",
       "    }\n",
       "</style>\n",
       "<table border=\"1\" class=\"dataframe\">\n",
       "  <thead>\n",
       "    <tr style=\"text-align: right;\">\n",
       "      <th></th>\n",
       "      <th>user_id</th>\n",
       "      <th>movie_id</th>\n",
       "      <th>rating</th>\n",
       "      <th>rating_timestamp</th>\n",
       "    </tr>\n",
       "  </thead>\n",
       "  <tbody>\n",
       "    <tr>\n",
       "      <th>817075</th>\n",
       "      <td>60468</td>\n",
       "      <td>8695030</td>\n",
       "      <td>1</td>\n",
       "      <td>2019-09-07 00:34:16</td>\n",
       "    </tr>\n",
       "    <tr>\n",
       "      <th>817076</th>\n",
       "      <td>60468</td>\n",
       "      <td>9398640</td>\n",
       "      <td>1</td>\n",
       "      <td>2019-09-21 00:35:44</td>\n",
       "    </tr>\n",
       "    <tr>\n",
       "      <th>817077</th>\n",
       "      <td>60469</td>\n",
       "      <td>816711</td>\n",
       "      <td>8</td>\n",
       "      <td>2013-06-23 07:34:11</td>\n",
       "    </tr>\n",
       "    <tr>\n",
       "      <th>817078</th>\n",
       "      <td>60470</td>\n",
       "      <td>1559547</td>\n",
       "      <td>2</td>\n",
       "      <td>2013-07-08 12:42:49</td>\n",
       "    </tr>\n",
       "    <tr>\n",
       "      <th>817079</th>\n",
       "      <td>60470</td>\n",
       "      <td>2415464</td>\n",
       "      <td>2</td>\n",
       "      <td>2013-07-14 03:29:20</td>\n",
       "    </tr>\n",
       "  </tbody>\n",
       "</table>\n",
       "</div>"
      ],
      "text/plain": [
       "        user_id  movie_id  rating    rating_timestamp\n",
       "817075    60468   8695030       1 2019-09-07 00:34:16\n",
       "817076    60468   9398640       1 2019-09-21 00:35:44\n",
       "817077    60469    816711       8 2013-06-23 07:34:11\n",
       "817078    60470   1559547       2 2013-07-08 12:42:49\n",
       "817079    60470   2415464       2 2013-07-14 03:29:20"
      ]
     },
     "execution_count": 19,
     "metadata": {},
     "output_type": "execute_result"
    }
   ],
   "source": [
    "rat_file['rating_timestamp'] = pd.to_datetime(rat_file['rating_timestamp'], unit='s')\n",
    "rat_file.tail()"
   ]
  },
  {
   "cell_type": "markdown",
   "metadata": {},
   "source": [
    "Besides, the column *rating_timestamp* content two fields of information that for our purposes it's more accurate to be used in separated columns, *date* as so *time*."
   ]
  },
  {
   "cell_type": "code",
   "execution_count": 20,
   "metadata": {},
   "outputs": [],
   "source": [
    "rat_file = rat_file.rename(columns = {'rating_timestamp':'date'})\n",
    "rat_file['time'] = rat_file['date'].astype(str)\n",
    "rat_file['date'] = rat_file['date'].astype(str)"
   ]
  },
  {
   "cell_type": "code",
   "execution_count": 21,
   "metadata": {},
   "outputs": [
    {
     "data": {
      "text/plain": [
       "dtype('O')"
      ]
     },
     "execution_count": 21,
     "metadata": {},
     "output_type": "execute_result"
    }
   ],
   "source": [
    "rat_file.time.dtype"
   ]
  },
  {
   "cell_type": "code",
   "execution_count": 22,
   "metadata": {},
   "outputs": [],
   "source": [
    "rat_file['date'] = rat_file['date'].str.split(' ').str[0]\n",
    "rat_file['time'] = rat_file['time'].str[-8:]"
   ]
  },
  {
   "cell_type": "code",
   "execution_count": 23,
   "metadata": {},
   "outputs": [
    {
     "data": {
      "text/html": [
       "<div>\n",
       "<style scoped>\n",
       "    .dataframe tbody tr th:only-of-type {\n",
       "        vertical-align: middle;\n",
       "    }\n",
       "\n",
       "    .dataframe tbody tr th {\n",
       "        vertical-align: top;\n",
       "    }\n",
       "\n",
       "    .dataframe thead th {\n",
       "        text-align: right;\n",
       "    }\n",
       "</style>\n",
       "<table border=\"1\" class=\"dataframe\">\n",
       "  <thead>\n",
       "    <tr style=\"text-align: right;\">\n",
       "      <th></th>\n",
       "      <th>user_id</th>\n",
       "      <th>movie_id</th>\n",
       "      <th>rating</th>\n",
       "      <th>date</th>\n",
       "      <th>time</th>\n",
       "    </tr>\n",
       "  </thead>\n",
       "  <tbody>\n",
       "    <tr>\n",
       "      <th>0</th>\n",
       "      <td>1</td>\n",
       "      <td>117060</td>\n",
       "      <td>7</td>\n",
       "      <td>2013-07-10</td>\n",
       "      <td>00:13:51</td>\n",
       "    </tr>\n",
       "    <tr>\n",
       "      <th>1</th>\n",
       "      <td>1</td>\n",
       "      <td>120755</td>\n",
       "      <td>6</td>\n",
       "      <td>2013-07-10</td>\n",
       "      <td>02:46:00</td>\n",
       "    </tr>\n",
       "    <tr>\n",
       "      <th>2</th>\n",
       "      <td>1</td>\n",
       "      <td>317919</td>\n",
       "      <td>6</td>\n",
       "      <td>2013-07-10</td>\n",
       "      <td>22:36:03</td>\n",
       "    </tr>\n",
       "    <tr>\n",
       "      <th>3</th>\n",
       "      <td>1</td>\n",
       "      <td>454876</td>\n",
       "      <td>10</td>\n",
       "      <td>2013-07-12</td>\n",
       "      <td>09:25:25</td>\n",
       "    </tr>\n",
       "    <tr>\n",
       "      <th>4</th>\n",
       "      <td>1</td>\n",
       "      <td>790724</td>\n",
       "      <td>8</td>\n",
       "      <td>2013-07-24</td>\n",
       "      <td>04:48:40</td>\n",
       "    </tr>\n",
       "  </tbody>\n",
       "</table>\n",
       "</div>"
      ],
      "text/plain": [
       "   user_id  movie_id  rating        date      time\n",
       "0        1    117060       7  2013-07-10  00:13:51\n",
       "1        1    120755       6  2013-07-10  02:46:00\n",
       "2        1    317919       6  2013-07-10  22:36:03\n",
       "3        1    454876      10  2013-07-12  09:25:25\n",
       "4        1    790724       8  2013-07-24  04:48:40"
      ]
     },
     "execution_count": 23,
     "metadata": {},
     "output_type": "execute_result"
    }
   ],
   "source": [
    "rat_file.head()"
   ]
  },
  {
   "cell_type": "markdown",
   "metadata": {},
   "source": [
    "## Connecting the datasets  \n",
    "Nowadays that all three datasets have a well format so it's time to put together two datasets: **ratings** and **items**."
   ]
  },
  {
   "cell_type": "code",
   "execution_count": 24,
   "metadata": {},
   "outputs": [],
   "source": [
    "df = rat_file"
   ]
  },
  {
   "cell_type": "code",
   "execution_count": 25,
   "metadata": {
    "scrolled": true
   },
   "outputs": [
    {
     "data": {
      "text/html": [
       "<div>\n",
       "<style scoped>\n",
       "    .dataframe tbody tr th:only-of-type {\n",
       "        vertical-align: middle;\n",
       "    }\n",
       "\n",
       "    .dataframe tbody tr th {\n",
       "        vertical-align: top;\n",
       "    }\n",
       "\n",
       "    .dataframe thead th {\n",
       "        text-align: right;\n",
       "    }\n",
       "</style>\n",
       "<table border=\"1\" class=\"dataframe\">\n",
       "  <thead>\n",
       "    <tr style=\"text-align: right;\">\n",
       "      <th></th>\n",
       "      <th>user_id</th>\n",
       "      <th>movie_id</th>\n",
       "      <th>rating</th>\n",
       "      <th>date</th>\n",
       "      <th>time</th>\n",
       "    </tr>\n",
       "  </thead>\n",
       "  <tbody>\n",
       "    <tr>\n",
       "      <th>0</th>\n",
       "      <td>1</td>\n",
       "      <td>117060</td>\n",
       "      <td>7</td>\n",
       "      <td>2013-07-10</td>\n",
       "      <td>00:13:51</td>\n",
       "    </tr>\n",
       "    <tr>\n",
       "      <th>1</th>\n",
       "      <td>1</td>\n",
       "      <td>120755</td>\n",
       "      <td>6</td>\n",
       "      <td>2013-07-10</td>\n",
       "      <td>02:46:00</td>\n",
       "    </tr>\n",
       "    <tr>\n",
       "      <th>2</th>\n",
       "      <td>1</td>\n",
       "      <td>317919</td>\n",
       "      <td>6</td>\n",
       "      <td>2013-07-10</td>\n",
       "      <td>22:36:03</td>\n",
       "    </tr>\n",
       "    <tr>\n",
       "      <th>3</th>\n",
       "      <td>1</td>\n",
       "      <td>454876</td>\n",
       "      <td>10</td>\n",
       "      <td>2013-07-12</td>\n",
       "      <td>09:25:25</td>\n",
       "    </tr>\n",
       "    <tr>\n",
       "      <th>4</th>\n",
       "      <td>1</td>\n",
       "      <td>790724</td>\n",
       "      <td>8</td>\n",
       "      <td>2013-07-24</td>\n",
       "      <td>04:48:40</td>\n",
       "    </tr>\n",
       "  </tbody>\n",
       "</table>\n",
       "</div>"
      ],
      "text/plain": [
       "   user_id  movie_id  rating        date      time\n",
       "0        1    117060       7  2013-07-10  00:13:51\n",
       "1        1    120755       6  2013-07-10  02:46:00\n",
       "2        1    317919       6  2013-07-10  22:36:03\n",
       "3        1    454876      10  2013-07-12  09:25:25\n",
       "4        1    790724       8  2013-07-24  04:48:40"
      ]
     },
     "execution_count": 25,
     "metadata": {},
     "output_type": "execute_result"
    }
   ],
   "source": [
    "df.head()"
   ]
  },
  {
   "cell_type": "code",
   "execution_count": 26,
   "metadata": {},
   "outputs": [],
   "source": [
    "df['date']=df['date'].astype(str)"
   ]
  },
  {
   "cell_type": "code",
   "execution_count": 27,
   "metadata": {},
   "outputs": [
    {
     "data": {
      "text/html": [
       "<div>\n",
       "<style scoped>\n",
       "    .dataframe tbody tr th:only-of-type {\n",
       "        vertical-align: middle;\n",
       "    }\n",
       "\n",
       "    .dataframe tbody tr th {\n",
       "        vertical-align: top;\n",
       "    }\n",
       "\n",
       "    .dataframe thead th {\n",
       "        text-align: right;\n",
       "    }\n",
       "</style>\n",
       "<table border=\"1\" class=\"dataframe\">\n",
       "  <thead>\n",
       "    <tr style=\"text-align: right;\">\n",
       "      <th></th>\n",
       "      <th>user_id</th>\n",
       "      <th>movie_id</th>\n",
       "      <th>rating</th>\n",
       "      <th>date</th>\n",
       "      <th>time</th>\n",
       "    </tr>\n",
       "  </thead>\n",
       "  <tbody>\n",
       "    <tr>\n",
       "      <th>0</th>\n",
       "      <td>1</td>\n",
       "      <td>117060</td>\n",
       "      <td>7</td>\n",
       "      <td>2013-07-10</td>\n",
       "      <td>00:13:51</td>\n",
       "    </tr>\n",
       "    <tr>\n",
       "      <th>1</th>\n",
       "      <td>1</td>\n",
       "      <td>120755</td>\n",
       "      <td>6</td>\n",
       "      <td>2013-07-10</td>\n",
       "      <td>02:46:00</td>\n",
       "    </tr>\n",
       "    <tr>\n",
       "      <th>2</th>\n",
       "      <td>1</td>\n",
       "      <td>317919</td>\n",
       "      <td>6</td>\n",
       "      <td>2013-07-10</td>\n",
       "      <td>22:36:03</td>\n",
       "    </tr>\n",
       "    <tr>\n",
       "      <th>3</th>\n",
       "      <td>1</td>\n",
       "      <td>454876</td>\n",
       "      <td>10</td>\n",
       "      <td>2013-07-12</td>\n",
       "      <td>09:25:25</td>\n",
       "    </tr>\n",
       "    <tr>\n",
       "      <th>4</th>\n",
       "      <td>1</td>\n",
       "      <td>790724</td>\n",
       "      <td>8</td>\n",
       "      <td>2013-07-24</td>\n",
       "      <td>04:48:40</td>\n",
       "    </tr>\n",
       "  </tbody>\n",
       "</table>\n",
       "</div>"
      ],
      "text/plain": [
       "   user_id  movie_id  rating        date      time\n",
       "0        1    117060       7  2013-07-10  00:13:51\n",
       "1        1    120755       6  2013-07-10  02:46:00\n",
       "2        1    317919       6  2013-07-10  22:36:03\n",
       "3        1    454876      10  2013-07-12  09:25:25\n",
       "4        1    790724       8  2013-07-24  04:48:40"
      ]
     },
     "execution_count": 27,
     "metadata": {},
     "output_type": "execute_result"
    }
   ],
   "source": [
    "df.head()"
   ]
  },
  {
   "cell_type": "code",
   "execution_count": 28,
   "metadata": {},
   "outputs": [],
   "source": [
    "df['date']= pd.to_datetime(df['date']) "
   ]
  },
  {
   "cell_type": "code",
   "execution_count": 29,
   "metadata": {
    "scrolled": true
   },
   "outputs": [
    {
     "data": {
      "text/plain": [
       "array(['2013-07-10T00:00:00.000000000', '2013-07-12T00:00:00.000000000',\n",
       "       '2013-07-24T00:00:00.000000000', ...,\n",
       "       '2015-09-25T00:00:00.000000000', '2015-09-30T00:00:00.000000000',\n",
       "       '2019-11-22T00:00:00.000000000'], dtype='datetime64[ns]')"
      ]
     },
     "execution_count": 29,
     "metadata": {},
     "output_type": "execute_result"
    }
   ],
   "source": [
    "df['date'].unique()"
   ]
  },
  {
   "cell_type": "code",
   "execution_count": 30,
   "metadata": {
    "scrolled": true
   },
   "outputs": [
    {
     "data": {
      "text/html": [
       "<div>\n",
       "<style scoped>\n",
       "    .dataframe tbody tr th:only-of-type {\n",
       "        vertical-align: middle;\n",
       "    }\n",
       "\n",
       "    .dataframe tbody tr th {\n",
       "        vertical-align: top;\n",
       "    }\n",
       "\n",
       "    .dataframe thead th {\n",
       "        text-align: right;\n",
       "    }\n",
       "</style>\n",
       "<table border=\"1\" class=\"dataframe\">\n",
       "  <thead>\n",
       "    <tr style=\"text-align: right;\">\n",
       "      <th></th>\n",
       "      <th>user_id</th>\n",
       "      <th>movie_id</th>\n",
       "      <th>rating</th>\n",
       "      <th>date</th>\n",
       "      <th>time</th>\n",
       "    </tr>\n",
       "  </thead>\n",
       "  <tbody>\n",
       "    <tr>\n",
       "      <th>0</th>\n",
       "      <td>1</td>\n",
       "      <td>117060</td>\n",
       "      <td>7</td>\n",
       "      <td>2013-07-10</td>\n",
       "      <td>00:13:51</td>\n",
       "    </tr>\n",
       "    <tr>\n",
       "      <th>1</th>\n",
       "      <td>1</td>\n",
       "      <td>120755</td>\n",
       "      <td>6</td>\n",
       "      <td>2013-07-10</td>\n",
       "      <td>02:46:00</td>\n",
       "    </tr>\n",
       "    <tr>\n",
       "      <th>2</th>\n",
       "      <td>1</td>\n",
       "      <td>317919</td>\n",
       "      <td>6</td>\n",
       "      <td>2013-07-10</td>\n",
       "      <td>22:36:03</td>\n",
       "    </tr>\n",
       "    <tr>\n",
       "      <th>3</th>\n",
       "      <td>1</td>\n",
       "      <td>454876</td>\n",
       "      <td>10</td>\n",
       "      <td>2013-07-12</td>\n",
       "      <td>09:25:25</td>\n",
       "    </tr>\n",
       "    <tr>\n",
       "      <th>4</th>\n",
       "      <td>1</td>\n",
       "      <td>790724</td>\n",
       "      <td>8</td>\n",
       "      <td>2013-07-24</td>\n",
       "      <td>04:48:40</td>\n",
       "    </tr>\n",
       "  </tbody>\n",
       "</table>\n",
       "</div>"
      ],
      "text/plain": [
       "   user_id  movie_id  rating       date      time\n",
       "0        1    117060       7 2013-07-10  00:13:51\n",
       "1        1    120755       6 2013-07-10  02:46:00\n",
       "2        1    317919       6 2013-07-10  22:36:03\n",
       "3        1    454876      10 2013-07-12  09:25:25\n",
       "4        1    790724       8 2013-07-24  04:48:40"
      ]
     },
     "execution_count": 30,
     "metadata": {},
     "output_type": "execute_result"
    }
   ],
   "source": [
    "df.head()"
   ]
  },
  {
   "cell_type": "markdown",
   "metadata": {},
   "source": [
    "Just to be fair it could be sort by date the rating dataset. "
   ]
  },
  {
   "cell_type": "code",
   "execution_count": 31,
   "metadata": {},
   "outputs": [
    {
     "data": {
      "text/html": [
       "<div>\n",
       "<style scoped>\n",
       "    .dataframe tbody tr th:only-of-type {\n",
       "        vertical-align: middle;\n",
       "    }\n",
       "\n",
       "    .dataframe tbody tr th {\n",
       "        vertical-align: top;\n",
       "    }\n",
       "\n",
       "    .dataframe thead th {\n",
       "        text-align: right;\n",
       "    }\n",
       "</style>\n",
       "<table border=\"1\" class=\"dataframe\">\n",
       "  <thead>\n",
       "    <tr style=\"text-align: right;\">\n",
       "      <th></th>\n",
       "      <th>user_id</th>\n",
       "      <th>movie_id</th>\n",
       "      <th>rating</th>\n",
       "      <th>date</th>\n",
       "      <th>time</th>\n",
       "    </tr>\n",
       "  </thead>\n",
       "  <tbody>\n",
       "    <tr>\n",
       "      <th>0</th>\n",
       "      <td>50594</td>\n",
       "      <td>1446714</td>\n",
       "      <td>10</td>\n",
       "      <td>2013-02-28</td>\n",
       "      <td>19:42:00</td>\n",
       "    </tr>\n",
       "    <tr>\n",
       "      <th>1</th>\n",
       "      <td>22328</td>\n",
       "      <td>493464</td>\n",
       "      <td>8</td>\n",
       "      <td>2013-02-28</td>\n",
       "      <td>18:38:41</td>\n",
       "    </tr>\n",
       "    <tr>\n",
       "      <th>2</th>\n",
       "      <td>22328</td>\n",
       "      <td>468569</td>\n",
       "      <td>8</td>\n",
       "      <td>2013-02-28</td>\n",
       "      <td>18:37:21</td>\n",
       "    </tr>\n",
       "    <tr>\n",
       "      <th>3</th>\n",
       "      <td>22328</td>\n",
       "      <td>467406</td>\n",
       "      <td>7</td>\n",
       "      <td>2013-02-28</td>\n",
       "      <td>18:40:16</td>\n",
       "    </tr>\n",
       "    <tr>\n",
       "      <th>4</th>\n",
       "      <td>22328</td>\n",
       "      <td>449088</td>\n",
       "      <td>8</td>\n",
       "      <td>2013-02-28</td>\n",
       "      <td>18:44:06</td>\n",
       "    </tr>\n",
       "  </tbody>\n",
       "</table>\n",
       "</div>"
      ],
      "text/plain": [
       "   user_id  movie_id  rating       date      time\n",
       "0    50594   1446714      10 2013-02-28  19:42:00\n",
       "1    22328    493464       8 2013-02-28  18:38:41\n",
       "2    22328    468569       8 2013-02-28  18:37:21\n",
       "3    22328    467406       7 2013-02-28  18:40:16\n",
       "4    22328    449088       8 2013-02-28  18:44:06"
      ]
     },
     "execution_count": 31,
     "metadata": {},
     "output_type": "execute_result"
    }
   ],
   "source": [
    "df = df.sort_values(by='date')\n",
    "df.reset_index(drop=True, inplace=True)\n",
    "df.head()"
   ]
  },
  {
   "cell_type": "markdown",
   "metadata": {},
   "source": [
    "When the dataset rating is available in other temporal variable then we merge both datasets and the link tha unite the information is the id of each movie. It's important to notice that itsn't recommend to use other column like movie title to make linking step because it could be possible to exist movies with the same name.  "
   ]
  },
  {
   "cell_type": "code",
   "execution_count": 32,
   "metadata": {},
   "outputs": [],
   "source": [
    "df_2 = pd.merge(df,itm_file, on='movie_id')"
   ]
  },
  {
   "cell_type": "code",
   "execution_count": 33,
   "metadata": {},
   "outputs": [
    {
     "data": {
      "text/html": [
       "<div>\n",
       "<style scoped>\n",
       "    .dataframe tbody tr th:only-of-type {\n",
       "        vertical-align: middle;\n",
       "    }\n",
       "\n",
       "    .dataframe tbody tr th {\n",
       "        vertical-align: top;\n",
       "    }\n",
       "\n",
       "    .dataframe thead th {\n",
       "        text-align: right;\n",
       "    }\n",
       "</style>\n",
       "<table border=\"1\" class=\"dataframe\">\n",
       "  <thead>\n",
       "    <tr style=\"text-align: right;\">\n",
       "      <th></th>\n",
       "      <th>user_id</th>\n",
       "      <th>movie_id</th>\n",
       "      <th>rating</th>\n",
       "      <th>date</th>\n",
       "      <th>time</th>\n",
       "      <th>movie_title</th>\n",
       "      <th>genre</th>\n",
       "      <th>movie_year</th>\n",
       "    </tr>\n",
       "  </thead>\n",
       "  <tbody>\n",
       "    <tr>\n",
       "      <th>0</th>\n",
       "      <td>50594</td>\n",
       "      <td>1446714</td>\n",
       "      <td>10</td>\n",
       "      <td>2013-02-28</td>\n",
       "      <td>19:42:00</td>\n",
       "      <td>Prometheus</td>\n",
       "      <td>Adventure|Mystery|Sci-Fi</td>\n",
       "      <td>2012</td>\n",
       "    </tr>\n",
       "    <tr>\n",
       "      <th>1</th>\n",
       "      <td>28348</td>\n",
       "      <td>1446714</td>\n",
       "      <td>7</td>\n",
       "      <td>2013-03-01</td>\n",
       "      <td>13:26:28</td>\n",
       "      <td>Prometheus</td>\n",
       "      <td>Adventure|Mystery|Sci-Fi</td>\n",
       "      <td>2012</td>\n",
       "    </tr>\n",
       "    <tr>\n",
       "      <th>2</th>\n",
       "      <td>44629</td>\n",
       "      <td>1446714</td>\n",
       "      <td>7</td>\n",
       "      <td>2013-03-02</td>\n",
       "      <td>22:59:10</td>\n",
       "      <td>Prometheus</td>\n",
       "      <td>Adventure|Mystery|Sci-Fi</td>\n",
       "      <td>2012</td>\n",
       "    </tr>\n",
       "    <tr>\n",
       "      <th>3</th>\n",
       "      <td>23764</td>\n",
       "      <td>1446714</td>\n",
       "      <td>6</td>\n",
       "      <td>2013-03-05</td>\n",
       "      <td>17:35:03</td>\n",
       "      <td>Prometheus</td>\n",
       "      <td>Adventure|Mystery|Sci-Fi</td>\n",
       "      <td>2012</td>\n",
       "    </tr>\n",
       "    <tr>\n",
       "      <th>4</th>\n",
       "      <td>16651</td>\n",
       "      <td>1446714</td>\n",
       "      <td>7</td>\n",
       "      <td>2013-03-07</td>\n",
       "      <td>12:14:14</td>\n",
       "      <td>Prometheus</td>\n",
       "      <td>Adventure|Mystery|Sci-Fi</td>\n",
       "      <td>2012</td>\n",
       "    </tr>\n",
       "  </tbody>\n",
       "</table>\n",
       "</div>"
      ],
      "text/plain": [
       "   user_id  movie_id  rating       date      time movie_title  \\\n",
       "0    50594   1446714      10 2013-02-28  19:42:00  Prometheus   \n",
       "1    28348   1446714       7 2013-03-01  13:26:28  Prometheus   \n",
       "2    44629   1446714       7 2013-03-02  22:59:10  Prometheus   \n",
       "3    23764   1446714       6 2013-03-05  17:35:03  Prometheus   \n",
       "4    16651   1446714       7 2013-03-07  12:14:14  Prometheus   \n",
       "\n",
       "                      genre movie_year  \n",
       "0  Adventure|Mystery|Sci-Fi       2012  \n",
       "1  Adventure|Mystery|Sci-Fi       2012  \n",
       "2  Adventure|Mystery|Sci-Fi       2012  \n",
       "3  Adventure|Mystery|Sci-Fi       2012  \n",
       "4  Adventure|Mystery|Sci-Fi       2012  "
      ]
     },
     "execution_count": 33,
     "metadata": {},
     "output_type": "execute_result"
    }
   ],
   "source": [
    "df_2.head()"
   ]
  },
  {
   "cell_type": "markdown",
   "metadata": {},
   "source": [
    "Finally we add the last dataset, the user information dataset. The linked column is the user id.  \n",
    "Until now we have constructed a better and robust dataset that contains important information and in the future it's posible to extract more external information using the twitter api."
   ]
  },
  {
   "cell_type": "code",
   "execution_count": 34,
   "metadata": {},
   "outputs": [
    {
     "data": {
      "text/html": [
       "<div>\n",
       "<style scoped>\n",
       "    .dataframe tbody tr th:only-of-type {\n",
       "        vertical-align: middle;\n",
       "    }\n",
       "\n",
       "    .dataframe tbody tr th {\n",
       "        vertical-align: top;\n",
       "    }\n",
       "\n",
       "    .dataframe thead th {\n",
       "        text-align: right;\n",
       "    }\n",
       "</style>\n",
       "<table border=\"1\" class=\"dataframe\">\n",
       "  <thead>\n",
       "    <tr style=\"text-align: right;\">\n",
       "      <th></th>\n",
       "      <th>user_id</th>\n",
       "      <th>movie_id</th>\n",
       "      <th>rating</th>\n",
       "      <th>date</th>\n",
       "      <th>time</th>\n",
       "      <th>movie_title</th>\n",
       "      <th>genre</th>\n",
       "      <th>movie_year</th>\n",
       "      <th>twitter_id</th>\n",
       "    </tr>\n",
       "  </thead>\n",
       "  <tbody>\n",
       "    <tr>\n",
       "      <th>817684</th>\n",
       "      <td>46716</td>\n",
       "      <td>1758692</td>\n",
       "      <td>7</td>\n",
       "      <td>2019-11-21</td>\n",
       "      <td>01:35:24</td>\n",
       "      <td>Like Crazy</td>\n",
       "      <td>Drama|Romance</td>\n",
       "      <td>2011</td>\n",
       "      <td>593070997</td>\n",
       "    </tr>\n",
       "    <tr>\n",
       "      <th>817685</th>\n",
       "      <td>38378</td>\n",
       "      <td>7286456</td>\n",
       "      <td>10</td>\n",
       "      <td>2019-11-21</td>\n",
       "      <td>20:06:34</td>\n",
       "      <td>Joker</td>\n",
       "      <td>Crime|Drama|Thriller</td>\n",
       "      <td>2019</td>\n",
       "      <td>1683965072</td>\n",
       "    </tr>\n",
       "    <tr>\n",
       "      <th>817686</th>\n",
       "      <td>47567</td>\n",
       "      <td>4729430</td>\n",
       "      <td>8</td>\n",
       "      <td>2019-11-21</td>\n",
       "      <td>15:22:35</td>\n",
       "      <td>Klaus</td>\n",
       "      <td>Animation|Adventure|Comedy|Family</td>\n",
       "      <td>2019</td>\n",
       "      <td>1163585270220042241</td>\n",
       "    </tr>\n",
       "    <tr>\n",
       "      <th>817687</th>\n",
       "      <td>36841</td>\n",
       "      <td>4729430</td>\n",
       "      <td>8</td>\n",
       "      <td>2019-11-21</td>\n",
       "      <td>13:27:45</td>\n",
       "      <td>Klaus</td>\n",
       "      <td>Animation|Adventure|Comedy|Family</td>\n",
       "      <td>2019</td>\n",
       "      <td>3173463026</td>\n",
       "    </tr>\n",
       "    <tr>\n",
       "      <th>817688</th>\n",
       "      <td>15840</td>\n",
       "      <td>2140479</td>\n",
       "      <td>9</td>\n",
       "      <td>2019-11-22</td>\n",
       "      <td>00:02:48</td>\n",
       "      <td>The Accountant</td>\n",
       "      <td>Action|Crime|Drama|Thriller</td>\n",
       "      <td>2016</td>\n",
       "      <td>635733585</td>\n",
       "    </tr>\n",
       "  </tbody>\n",
       "</table>\n",
       "</div>"
      ],
      "text/plain": [
       "        user_id  movie_id  rating       date      time     movie_title  \\\n",
       "817684    46716   1758692       7 2019-11-21  01:35:24      Like Crazy   \n",
       "817685    38378   7286456      10 2019-11-21  20:06:34           Joker   \n",
       "817686    47567   4729430       8 2019-11-21  15:22:35           Klaus   \n",
       "817687    36841   4729430       8 2019-11-21  13:27:45           Klaus   \n",
       "817688    15840   2140479       9 2019-11-22  00:02:48  The Accountant   \n",
       "\n",
       "                                    genre movie_year           twitter_id  \n",
       "817684                      Drama|Romance       2011            593070997  \n",
       "817685               Crime|Drama|Thriller       2019           1683965072  \n",
       "817686  Animation|Adventure|Comedy|Family       2019  1163585270220042241  \n",
       "817687  Animation|Adventure|Comedy|Family       2019           3173463026  \n",
       "817688        Action|Crime|Drama|Thriller       2016            635733585  "
      ]
     },
     "execution_count": 34,
     "metadata": {},
     "output_type": "execute_result"
    }
   ],
   "source": [
    "df_final =pd.merge(df_2, use_file, on='user_id')\n",
    "df_final = df_final.sort_values(by='date')\n",
    "df_final.reset_index(drop=True, inplace=True)\n",
    "df_final.tail()"
   ]
  },
  {
   "cell_type": "markdown",
   "metadata": {},
   "source": [
    "The only column that looks different in this new dataset is the genre column, so it'll try to change it.  Whit this in mind the idea is to change all this information contained in just one column to multiple categorical columns. Moreover it'll have one column for each genre and according to the genres of each movie this columns could be marqued with 1 if they have the genre and 0 in the oposite case."
   ]
  },
  {
   "cell_type": "code",
   "execution_count": 35,
   "metadata": {},
   "outputs": [],
   "source": [
    "df_cross = pd.DataFrame(df_final.genre)\n",
    "\n",
    "numeration = int(len(df_final))+1\n",
    "df_cross['id'] = pd.Series(range(1,numeration))"
   ]
  },
  {
   "cell_type": "markdown",
   "metadata": {},
   "source": [
    "The first step is to create a dataset that only contains the column genre and another column that in this case it called id and this is just an enummeration of each register. It is necessary because in the future transformation it'll be helpful to the purposes."
   ]
  },
  {
   "cell_type": "code",
   "execution_count": 36,
   "metadata": {
    "scrolled": true
   },
   "outputs": [
    {
     "data": {
      "text/html": [
       "<div>\n",
       "<style scoped>\n",
       "    .dataframe tbody tr th:only-of-type {\n",
       "        vertical-align: middle;\n",
       "    }\n",
       "\n",
       "    .dataframe tbody tr th {\n",
       "        vertical-align: top;\n",
       "    }\n",
       "\n",
       "    .dataframe thead th {\n",
       "        text-align: right;\n",
       "    }\n",
       "</style>\n",
       "<table border=\"1\" class=\"dataframe\">\n",
       "  <thead>\n",
       "    <tr style=\"text-align: right;\">\n",
       "      <th></th>\n",
       "      <th>genre</th>\n",
       "      <th>id</th>\n",
       "    </tr>\n",
       "  </thead>\n",
       "  <tbody>\n",
       "    <tr>\n",
       "      <th>0</th>\n",
       "      <td>Adventure|Mystery|Sci-Fi</td>\n",
       "      <td>1</td>\n",
       "    </tr>\n",
       "    <tr>\n",
       "      <th>1</th>\n",
       "      <td>Action|Drama|Mystery|Sci-Fi</td>\n",
       "      <td>2</td>\n",
       "    </tr>\n",
       "    <tr>\n",
       "      <th>2</th>\n",
       "      <td>Comedy|Romance</td>\n",
       "      <td>3</td>\n",
       "    </tr>\n",
       "    <tr>\n",
       "      <th>3</th>\n",
       "      <td>Mystery|Thriller</td>\n",
       "      <td>4</td>\n",
       "    </tr>\n",
       "    <tr>\n",
       "      <th>4</th>\n",
       "      <td>Drama|Romance</td>\n",
       "      <td>5</td>\n",
       "    </tr>\n",
       "  </tbody>\n",
       "</table>\n",
       "</div>"
      ],
      "text/plain": [
       "                         genre  id\n",
       "0     Adventure|Mystery|Sci-Fi   1\n",
       "1  Action|Drama|Mystery|Sci-Fi   2\n",
       "2               Comedy|Romance   3\n",
       "3             Mystery|Thriller   4\n",
       "4                Drama|Romance   5"
      ]
     },
     "execution_count": 36,
     "metadata": {},
     "output_type": "execute_result"
    }
   ],
   "source": [
    "df_cross.head()"
   ]
  },
  {
   "cell_type": "markdown",
   "metadata": {},
   "source": [
    "Now here happens the magic. Using the Id of each register it tries to split the values saved in each row of the genre column. On average it could takes between 4-6 minutes to execute this process. (If anyone knows about a more efficient way, please contact to me to fix it)"
   ]
  },
  {
   "cell_type": "code",
   "execution_count": 37,
   "metadata": {},
   "outputs": [],
   "source": [
    "newdf_cross = pd.concat([pd.Series(row['id'], row['genre'].split('|'))\n",
    "           for _, row in df_cross.iterrows()]).reset_index()"
   ]
  },
  {
   "cell_type": "code",
   "execution_count": 38,
   "metadata": {},
   "outputs": [
    {
     "data": {
      "text/plain": [
       "Index(['index', 0], dtype='object')"
      ]
     },
     "execution_count": 38,
     "metadata": {},
     "output_type": "execute_result"
    }
   ],
   "source": [
    "newdf_cross.columns"
   ]
  },
  {
   "cell_type": "code",
   "execution_count": 39,
   "metadata": {},
   "outputs": [],
   "source": [
    "new_dfcross = pd.crosstab(newdf_cross[0], newdf_cross['index'])"
   ]
  },
  {
   "cell_type": "code",
   "execution_count": 40,
   "metadata": {},
   "outputs": [
    {
     "data": {
      "text/html": [
       "<div>\n",
       "<style scoped>\n",
       "    .dataframe tbody tr th:only-of-type {\n",
       "        vertical-align: middle;\n",
       "    }\n",
       "\n",
       "    .dataframe tbody tr th {\n",
       "        vertical-align: top;\n",
       "    }\n",
       "\n",
       "    .dataframe thead th {\n",
       "        text-align: right;\n",
       "    }\n",
       "</style>\n",
       "<table border=\"1\" class=\"dataframe\">\n",
       "  <thead>\n",
       "    <tr style=\"text-align: right;\">\n",
       "      <th>index</th>\n",
       "      <th>Action</th>\n",
       "      <th>Adult</th>\n",
       "      <th>Adventure</th>\n",
       "      <th>Animation</th>\n",
       "      <th>Biography</th>\n",
       "      <th>Comedy</th>\n",
       "      <th>Crime</th>\n",
       "      <th>Documentary</th>\n",
       "      <th>Drama</th>\n",
       "      <th>Family</th>\n",
       "      <th>...</th>\n",
       "      <th>Reality-TV</th>\n",
       "      <th>Romance</th>\n",
       "      <th>Sci-Fi</th>\n",
       "      <th>Short</th>\n",
       "      <th>Sport</th>\n",
       "      <th>Talk-Show</th>\n",
       "      <th>Thriller</th>\n",
       "      <th>War</th>\n",
       "      <th>Western</th>\n",
       "      <th>noGenre</th>\n",
       "    </tr>\n",
       "    <tr>\n",
       "      <th>0</th>\n",
       "      <th></th>\n",
       "      <th></th>\n",
       "      <th></th>\n",
       "      <th></th>\n",
       "      <th></th>\n",
       "      <th></th>\n",
       "      <th></th>\n",
       "      <th></th>\n",
       "      <th></th>\n",
       "      <th></th>\n",
       "      <th></th>\n",
       "      <th></th>\n",
       "      <th></th>\n",
       "      <th></th>\n",
       "      <th></th>\n",
       "      <th></th>\n",
       "      <th></th>\n",
       "      <th></th>\n",
       "      <th></th>\n",
       "      <th></th>\n",
       "      <th></th>\n",
       "    </tr>\n",
       "  </thead>\n",
       "  <tbody>\n",
       "    <tr>\n",
       "      <th>1</th>\n",
       "      <td>0</td>\n",
       "      <td>0</td>\n",
       "      <td>1</td>\n",
       "      <td>0</td>\n",
       "      <td>0</td>\n",
       "      <td>0</td>\n",
       "      <td>0</td>\n",
       "      <td>0</td>\n",
       "      <td>0</td>\n",
       "      <td>0</td>\n",
       "      <td>...</td>\n",
       "      <td>0</td>\n",
       "      <td>0</td>\n",
       "      <td>1</td>\n",
       "      <td>0</td>\n",
       "      <td>0</td>\n",
       "      <td>0</td>\n",
       "      <td>0</td>\n",
       "      <td>0</td>\n",
       "      <td>0</td>\n",
       "      <td>0</td>\n",
       "    </tr>\n",
       "    <tr>\n",
       "      <th>2</th>\n",
       "      <td>1</td>\n",
       "      <td>0</td>\n",
       "      <td>0</td>\n",
       "      <td>0</td>\n",
       "      <td>0</td>\n",
       "      <td>0</td>\n",
       "      <td>0</td>\n",
       "      <td>0</td>\n",
       "      <td>1</td>\n",
       "      <td>0</td>\n",
       "      <td>...</td>\n",
       "      <td>0</td>\n",
       "      <td>0</td>\n",
       "      <td>1</td>\n",
       "      <td>0</td>\n",
       "      <td>0</td>\n",
       "      <td>0</td>\n",
       "      <td>0</td>\n",
       "      <td>0</td>\n",
       "      <td>0</td>\n",
       "      <td>0</td>\n",
       "    </tr>\n",
       "    <tr>\n",
       "      <th>3</th>\n",
       "      <td>0</td>\n",
       "      <td>0</td>\n",
       "      <td>0</td>\n",
       "      <td>0</td>\n",
       "      <td>0</td>\n",
       "      <td>1</td>\n",
       "      <td>0</td>\n",
       "      <td>0</td>\n",
       "      <td>0</td>\n",
       "      <td>0</td>\n",
       "      <td>...</td>\n",
       "      <td>0</td>\n",
       "      <td>1</td>\n",
       "      <td>0</td>\n",
       "      <td>0</td>\n",
       "      <td>0</td>\n",
       "      <td>0</td>\n",
       "      <td>0</td>\n",
       "      <td>0</td>\n",
       "      <td>0</td>\n",
       "      <td>0</td>\n",
       "    </tr>\n",
       "    <tr>\n",
       "      <th>4</th>\n",
       "      <td>0</td>\n",
       "      <td>0</td>\n",
       "      <td>0</td>\n",
       "      <td>0</td>\n",
       "      <td>0</td>\n",
       "      <td>0</td>\n",
       "      <td>0</td>\n",
       "      <td>0</td>\n",
       "      <td>0</td>\n",
       "      <td>0</td>\n",
       "      <td>...</td>\n",
       "      <td>0</td>\n",
       "      <td>0</td>\n",
       "      <td>0</td>\n",
       "      <td>0</td>\n",
       "      <td>0</td>\n",
       "      <td>0</td>\n",
       "      <td>1</td>\n",
       "      <td>0</td>\n",
       "      <td>0</td>\n",
       "      <td>0</td>\n",
       "    </tr>\n",
       "    <tr>\n",
       "      <th>5</th>\n",
       "      <td>0</td>\n",
       "      <td>0</td>\n",
       "      <td>0</td>\n",
       "      <td>0</td>\n",
       "      <td>0</td>\n",
       "      <td>0</td>\n",
       "      <td>0</td>\n",
       "      <td>0</td>\n",
       "      <td>1</td>\n",
       "      <td>0</td>\n",
       "      <td>...</td>\n",
       "      <td>0</td>\n",
       "      <td>1</td>\n",
       "      <td>0</td>\n",
       "      <td>0</td>\n",
       "      <td>0</td>\n",
       "      <td>0</td>\n",
       "      <td>0</td>\n",
       "      <td>0</td>\n",
       "      <td>0</td>\n",
       "      <td>0</td>\n",
       "    </tr>\n",
       "  </tbody>\n",
       "</table>\n",
       "<p>5 rows × 29 columns</p>\n",
       "</div>"
      ],
      "text/plain": [
       "index  Action  Adult  Adventure  Animation  Biography  Comedy  Crime  \\\n",
       "0                                                                      \n",
       "1           0      0          1          0          0       0      0   \n",
       "2           1      0          0          0          0       0      0   \n",
       "3           0      0          0          0          0       1      0   \n",
       "4           0      0          0          0          0       0      0   \n",
       "5           0      0          0          0          0       0      0   \n",
       "\n",
       "index  Documentary  Drama  Family   ...     Reality-TV  Romance  Sci-Fi  \\\n",
       "0                                   ...                                   \n",
       "1                0      0       0   ...              0        0       1   \n",
       "2                0      1       0   ...              0        0       1   \n",
       "3                0      0       0   ...              0        1       0   \n",
       "4                0      0       0   ...              0        0       0   \n",
       "5                0      1       0   ...              0        1       0   \n",
       "\n",
       "index  Short  Sport  Talk-Show  Thriller  War  Western  noGenre  \n",
       "0                                                                \n",
       "1          0      0          0         0    0        0        0  \n",
       "2          0      0          0         0    0        0        0  \n",
       "3          0      0          0         0    0        0        0  \n",
       "4          0      0          0         1    0        0        0  \n",
       "5          0      0          0         0    0        0        0  \n",
       "\n",
       "[5 rows x 29 columns]"
      ]
     },
     "execution_count": 40,
     "metadata": {},
     "output_type": "execute_result"
    }
   ],
   "source": [
    "new_dfcross.head()"
   ]
  },
  {
   "cell_type": "raw",
   "metadata": {},
   "source": [
    "new_dfcross.rename(columns={'index': 'genre', 0: 'id'}, inplace=True)"
   ]
  },
  {
   "cell_type": "markdown",
   "metadata": {},
   "source": [
    "It's posible to look how many and wich are the genres of the films in this dataset as follows."
   ]
  },
  {
   "cell_type": "code",
   "execution_count": 41,
   "metadata": {
    "scrolled": false
   },
   "outputs": [
    {
     "data": {
      "text/plain": [
       "Index(['Action', 'Adult', 'Adventure', 'Animation', 'Biography', 'Comedy',\n",
       "       'Crime', 'Documentary', 'Drama', 'Family', 'Fantasy', 'Film-Noir',\n",
       "       'Game-Show', 'History', 'Horror', 'Music', 'Musical', 'Mystery', 'News',\n",
       "       'Reality-TV', 'Romance', 'Sci-Fi', 'Short', 'Sport', 'Talk-Show',\n",
       "       'Thriller', 'War', 'Western', 'noGenre'],\n",
       "      dtype='object', name='index')"
      ]
     },
     "execution_count": 41,
     "metadata": {},
     "output_type": "execute_result"
    }
   ],
   "source": [
    "new_dfcross.columns"
   ]
  },
  {
   "cell_type": "markdown",
   "metadata": {},
   "source": [
    "Lastly we merge both datasets to have a more robust information."
   ]
  },
  {
   "cell_type": "code",
   "execution_count": 42,
   "metadata": {},
   "outputs": [
    {
     "data": {
      "text/html": [
       "<div>\n",
       "<style scoped>\n",
       "    .dataframe tbody tr th:only-of-type {\n",
       "        vertical-align: middle;\n",
       "    }\n",
       "\n",
       "    .dataframe tbody tr th {\n",
       "        vertical-align: top;\n",
       "    }\n",
       "\n",
       "    .dataframe thead th {\n",
       "        text-align: right;\n",
       "    }\n",
       "</style>\n",
       "<table border=\"1\" class=\"dataframe\">\n",
       "  <thead>\n",
       "    <tr style=\"text-align: right;\">\n",
       "      <th></th>\n",
       "      <th>index</th>\n",
       "      <th>user_id</th>\n",
       "      <th>movie_id</th>\n",
       "      <th>rating</th>\n",
       "      <th>date</th>\n",
       "      <th>time</th>\n",
       "      <th>movie_title</th>\n",
       "      <th>genre</th>\n",
       "      <th>movie_year</th>\n",
       "      <th>twitter_id</th>\n",
       "      <th>...</th>\n",
       "      <th>Reality-TV</th>\n",
       "      <th>Romance</th>\n",
       "      <th>Sci-Fi</th>\n",
       "      <th>Short</th>\n",
       "      <th>Sport</th>\n",
       "      <th>Talk-Show</th>\n",
       "      <th>Thriller</th>\n",
       "      <th>War</th>\n",
       "      <th>Western</th>\n",
       "      <th>noGenre</th>\n",
       "    </tr>\n",
       "  </thead>\n",
       "  <tbody>\n",
       "    <tr>\n",
       "      <th>0</th>\n",
       "      <td>0</td>\n",
       "      <td>50594</td>\n",
       "      <td>1446714</td>\n",
       "      <td>10</td>\n",
       "      <td>2013-02-28</td>\n",
       "      <td>19:42:00</td>\n",
       "      <td>Prometheus</td>\n",
       "      <td>Adventure|Mystery|Sci-Fi</td>\n",
       "      <td>2012</td>\n",
       "      <td>951692364</td>\n",
       "      <td>...</td>\n",
       "      <td>0</td>\n",
       "      <td>0</td>\n",
       "      <td>1</td>\n",
       "      <td>0</td>\n",
       "      <td>0</td>\n",
       "      <td>0</td>\n",
       "      <td>0</td>\n",
       "      <td>0</td>\n",
       "      <td>0</td>\n",
       "      <td>0</td>\n",
       "    </tr>\n",
       "    <tr>\n",
       "      <th>1</th>\n",
       "      <td>1</td>\n",
       "      <td>49333</td>\n",
       "      <td>1371111</td>\n",
       "      <td>6</td>\n",
       "      <td>2013-02-28</td>\n",
       "      <td>16:08:29</td>\n",
       "      <td>Cloud Atlas</td>\n",
       "      <td>Action|Drama|Mystery|Sci-Fi</td>\n",
       "      <td>2012</td>\n",
       "      <td>15835543</td>\n",
       "      <td>...</td>\n",
       "      <td>0</td>\n",
       "      <td>0</td>\n",
       "      <td>1</td>\n",
       "      <td>0</td>\n",
       "      <td>0</td>\n",
       "      <td>0</td>\n",
       "      <td>0</td>\n",
       "      <td>0</td>\n",
       "      <td>0</td>\n",
       "      <td>0</td>\n",
       "    </tr>\n",
       "    <tr>\n",
       "      <th>2</th>\n",
       "      <td>2</td>\n",
       "      <td>28606</td>\n",
       "      <td>1920849</td>\n",
       "      <td>7</td>\n",
       "      <td>2013-02-28</td>\n",
       "      <td>19:34:59</td>\n",
       "      <td>Bachelorette</td>\n",
       "      <td>Comedy|Romance</td>\n",
       "      <td>2012</td>\n",
       "      <td>23654986</td>\n",
       "      <td>...</td>\n",
       "      <td>0</td>\n",
       "      <td>1</td>\n",
       "      <td>0</td>\n",
       "      <td>0</td>\n",
       "      <td>0</td>\n",
       "      <td>0</td>\n",
       "      <td>0</td>\n",
       "      <td>0</td>\n",
       "      <td>0</td>\n",
       "      <td>0</td>\n",
       "    </tr>\n",
       "    <tr>\n",
       "      <th>3</th>\n",
       "      <td>3</td>\n",
       "      <td>9616</td>\n",
       "      <td>209144</td>\n",
       "      <td>10</td>\n",
       "      <td>2013-02-28</td>\n",
       "      <td>23:07:08</td>\n",
       "      <td>Memento</td>\n",
       "      <td>Mystery|Thriller</td>\n",
       "      <td>2000</td>\n",
       "      <td>610685478</td>\n",
       "      <td>...</td>\n",
       "      <td>0</td>\n",
       "      <td>0</td>\n",
       "      <td>0</td>\n",
       "      <td>0</td>\n",
       "      <td>0</td>\n",
       "      <td>0</td>\n",
       "      <td>1</td>\n",
       "      <td>0</td>\n",
       "      <td>0</td>\n",
       "      <td>0</td>\n",
       "    </tr>\n",
       "    <tr>\n",
       "      <th>4</th>\n",
       "      <td>4</td>\n",
       "      <td>13068</td>\n",
       "      <td>462683</td>\n",
       "      <td>8</td>\n",
       "      <td>2013-02-28</td>\n",
       "      <td>17:06:50</td>\n",
       "      <td>L'homme de sa vie</td>\n",
       "      <td>Drama|Romance</td>\n",
       "      <td>2006</td>\n",
       "      <td>137260735</td>\n",
       "      <td>...</td>\n",
       "      <td>0</td>\n",
       "      <td>1</td>\n",
       "      <td>0</td>\n",
       "      <td>0</td>\n",
       "      <td>0</td>\n",
       "      <td>0</td>\n",
       "      <td>0</td>\n",
       "      <td>0</td>\n",
       "      <td>0</td>\n",
       "      <td>0</td>\n",
       "    </tr>\n",
       "  </tbody>\n",
       "</table>\n",
       "<p>5 rows × 40 columns</p>\n",
       "</div>"
      ],
      "text/plain": [
       "   index  user_id  movie_id  rating       date      time        movie_title  \\\n",
       "0      0    50594   1446714      10 2013-02-28  19:42:00         Prometheus   \n",
       "1      1    49333   1371111       6 2013-02-28  16:08:29        Cloud Atlas   \n",
       "2      2    28606   1920849       7 2013-02-28  19:34:59       Bachelorette   \n",
       "3      3     9616    209144      10 2013-02-28  23:07:08            Memento   \n",
       "4      4    13068    462683       8 2013-02-28  17:06:50  L'homme de sa vie   \n",
       "\n",
       "                         genre movie_year  twitter_id   ...     Reality-TV  \\\n",
       "0     Adventure|Mystery|Sci-Fi       2012   951692364   ...              0   \n",
       "1  Action|Drama|Mystery|Sci-Fi       2012    15835543   ...              0   \n",
       "2               Comedy|Romance       2012    23654986   ...              0   \n",
       "3             Mystery|Thriller       2000   610685478   ...              0   \n",
       "4                Drama|Romance       2006   137260735   ...              0   \n",
       "\n",
       "   Romance  Sci-Fi  Short  Sport  Talk-Show  Thriller  War  Western  noGenre  \n",
       "0        0       1      0      0          0         0    0        0        0  \n",
       "1        0       1      0      0          0         0    0        0        0  \n",
       "2        1       0      0      0          0         0    0        0        0  \n",
       "3        0       0      0      0          0         1    0        0        0  \n",
       "4        1       0      0      0          0         0    0        0        0  \n",
       "\n",
       "[5 rows x 40 columns]"
      ]
     },
     "execution_count": 42,
     "metadata": {},
     "output_type": "execute_result"
    }
   ],
   "source": [
    "result = pd.merge(df_final.reset_index(),\n",
    "                  new_dfcross.reset_index(), \n",
    "                  left_index=True, \n",
    "                  right_index=True)\n",
    "result.head()"
   ]
  },
  {
   "cell_type": "code",
   "execution_count": 43,
   "metadata": {},
   "outputs": [
    {
     "data": {
      "text/plain": [
       "Index([      'index',     'user_id',    'movie_id',      'rating',\n",
       "              'date',        'time', 'movie_title',       'genre',\n",
       "        'movie_year',  'twitter_id',             0,      'Action',\n",
       "             'Adult',   'Adventure',   'Animation',   'Biography',\n",
       "            'Comedy',       'Crime', 'Documentary',       'Drama',\n",
       "            'Family',     'Fantasy',   'Film-Noir',   'Game-Show',\n",
       "           'History',      'Horror',       'Music',     'Musical',\n",
       "           'Mystery',        'News',  'Reality-TV',     'Romance',\n",
       "            'Sci-Fi',       'Short',       'Sport',   'Talk-Show',\n",
       "          'Thriller',         'War',     'Western',     'noGenre'],\n",
       "      dtype='object')"
      ]
     },
     "execution_count": 43,
     "metadata": {},
     "output_type": "execute_result"
    }
   ],
   "source": [
    "result.columns"
   ]
  },
  {
   "cell_type": "code",
   "execution_count": 44,
   "metadata": {},
   "outputs": [
    {
     "data": {
      "text/html": [
       "<div>\n",
       "<style scoped>\n",
       "    .dataframe tbody tr th:only-of-type {\n",
       "        vertical-align: middle;\n",
       "    }\n",
       "\n",
       "    .dataframe tbody tr th {\n",
       "        vertical-align: top;\n",
       "    }\n",
       "\n",
       "    .dataframe thead th {\n",
       "        text-align: right;\n",
       "    }\n",
       "</style>\n",
       "<table border=\"1\" class=\"dataframe\">\n",
       "  <thead>\n",
       "    <tr style=\"text-align: right;\">\n",
       "      <th></th>\n",
       "      <th>user_id</th>\n",
       "      <th>movie_id</th>\n",
       "      <th>rating</th>\n",
       "      <th>date</th>\n",
       "      <th>time</th>\n",
       "      <th>movie_title</th>\n",
       "      <th>genre</th>\n",
       "      <th>movie_year</th>\n",
       "      <th>twitter_id</th>\n",
       "      <th>Action</th>\n",
       "      <th>...</th>\n",
       "      <th>Reality-TV</th>\n",
       "      <th>Romance</th>\n",
       "      <th>Sci-Fi</th>\n",
       "      <th>Short</th>\n",
       "      <th>Sport</th>\n",
       "      <th>Talk-Show</th>\n",
       "      <th>Thriller</th>\n",
       "      <th>War</th>\n",
       "      <th>Western</th>\n",
       "      <th>noGenre</th>\n",
       "    </tr>\n",
       "  </thead>\n",
       "  <tbody>\n",
       "    <tr>\n",
       "      <th>0</th>\n",
       "      <td>50594</td>\n",
       "      <td>1446714</td>\n",
       "      <td>10</td>\n",
       "      <td>2013-02-28</td>\n",
       "      <td>19:42:00</td>\n",
       "      <td>Prometheus</td>\n",
       "      <td>Adventure|Mystery|Sci-Fi</td>\n",
       "      <td>2012</td>\n",
       "      <td>951692364</td>\n",
       "      <td>0</td>\n",
       "      <td>...</td>\n",
       "      <td>0</td>\n",
       "      <td>0</td>\n",
       "      <td>1</td>\n",
       "      <td>0</td>\n",
       "      <td>0</td>\n",
       "      <td>0</td>\n",
       "      <td>0</td>\n",
       "      <td>0</td>\n",
       "      <td>0</td>\n",
       "      <td>0</td>\n",
       "    </tr>\n",
       "    <tr>\n",
       "      <th>1</th>\n",
       "      <td>49333</td>\n",
       "      <td>1371111</td>\n",
       "      <td>6</td>\n",
       "      <td>2013-02-28</td>\n",
       "      <td>16:08:29</td>\n",
       "      <td>Cloud Atlas</td>\n",
       "      <td>Action|Drama|Mystery|Sci-Fi</td>\n",
       "      <td>2012</td>\n",
       "      <td>15835543</td>\n",
       "      <td>1</td>\n",
       "      <td>...</td>\n",
       "      <td>0</td>\n",
       "      <td>0</td>\n",
       "      <td>1</td>\n",
       "      <td>0</td>\n",
       "      <td>0</td>\n",
       "      <td>0</td>\n",
       "      <td>0</td>\n",
       "      <td>0</td>\n",
       "      <td>0</td>\n",
       "      <td>0</td>\n",
       "    </tr>\n",
       "    <tr>\n",
       "      <th>2</th>\n",
       "      <td>28606</td>\n",
       "      <td>1920849</td>\n",
       "      <td>7</td>\n",
       "      <td>2013-02-28</td>\n",
       "      <td>19:34:59</td>\n",
       "      <td>Bachelorette</td>\n",
       "      <td>Comedy|Romance</td>\n",
       "      <td>2012</td>\n",
       "      <td>23654986</td>\n",
       "      <td>0</td>\n",
       "      <td>...</td>\n",
       "      <td>0</td>\n",
       "      <td>1</td>\n",
       "      <td>0</td>\n",
       "      <td>0</td>\n",
       "      <td>0</td>\n",
       "      <td>0</td>\n",
       "      <td>0</td>\n",
       "      <td>0</td>\n",
       "      <td>0</td>\n",
       "      <td>0</td>\n",
       "    </tr>\n",
       "    <tr>\n",
       "      <th>3</th>\n",
       "      <td>9616</td>\n",
       "      <td>209144</td>\n",
       "      <td>10</td>\n",
       "      <td>2013-02-28</td>\n",
       "      <td>23:07:08</td>\n",
       "      <td>Memento</td>\n",
       "      <td>Mystery|Thriller</td>\n",
       "      <td>2000</td>\n",
       "      <td>610685478</td>\n",
       "      <td>0</td>\n",
       "      <td>...</td>\n",
       "      <td>0</td>\n",
       "      <td>0</td>\n",
       "      <td>0</td>\n",
       "      <td>0</td>\n",
       "      <td>0</td>\n",
       "      <td>0</td>\n",
       "      <td>1</td>\n",
       "      <td>0</td>\n",
       "      <td>0</td>\n",
       "      <td>0</td>\n",
       "    </tr>\n",
       "    <tr>\n",
       "      <th>4</th>\n",
       "      <td>13068</td>\n",
       "      <td>462683</td>\n",
       "      <td>8</td>\n",
       "      <td>2013-02-28</td>\n",
       "      <td>17:06:50</td>\n",
       "      <td>L'homme de sa vie</td>\n",
       "      <td>Drama|Romance</td>\n",
       "      <td>2006</td>\n",
       "      <td>137260735</td>\n",
       "      <td>0</td>\n",
       "      <td>...</td>\n",
       "      <td>0</td>\n",
       "      <td>1</td>\n",
       "      <td>0</td>\n",
       "      <td>0</td>\n",
       "      <td>0</td>\n",
       "      <td>0</td>\n",
       "      <td>0</td>\n",
       "      <td>0</td>\n",
       "      <td>0</td>\n",
       "      <td>0</td>\n",
       "    </tr>\n",
       "  </tbody>\n",
       "</table>\n",
       "<p>5 rows × 38 columns</p>\n",
       "</div>"
      ],
      "text/plain": [
       "   user_id  movie_id  rating       date      time        movie_title  \\\n",
       "0    50594   1446714      10 2013-02-28  19:42:00         Prometheus   \n",
       "1    49333   1371111       6 2013-02-28  16:08:29        Cloud Atlas   \n",
       "2    28606   1920849       7 2013-02-28  19:34:59       Bachelorette   \n",
       "3     9616    209144      10 2013-02-28  23:07:08            Memento   \n",
       "4    13068    462683       8 2013-02-28  17:06:50  L'homme de sa vie   \n",
       "\n",
       "                         genre movie_year  twitter_id  Action   ...     \\\n",
       "0     Adventure|Mystery|Sci-Fi       2012   951692364       0   ...      \n",
       "1  Action|Drama|Mystery|Sci-Fi       2012    15835543       1   ...      \n",
       "2               Comedy|Romance       2012    23654986       0   ...      \n",
       "3             Mystery|Thriller       2000   610685478       0   ...      \n",
       "4                Drama|Romance       2006   137260735       0   ...      \n",
       "\n",
       "   Reality-TV  Romance  Sci-Fi  Short  Sport  Talk-Show  Thriller  War  \\\n",
       "0           0        0       1      0      0          0         0    0   \n",
       "1           0        0       1      0      0          0         0    0   \n",
       "2           0        1       0      0      0          0         0    0   \n",
       "3           0        0       0      0      0          0         1    0   \n",
       "4           0        1       0      0      0          0         0    0   \n",
       "\n",
       "   Western  noGenre  \n",
       "0        0        0  \n",
       "1        0        0  \n",
       "2        0        0  \n",
       "3        0        0  \n",
       "4        0        0  \n",
       "\n",
       "[5 rows x 38 columns]"
      ]
     },
     "execution_count": 44,
     "metadata": {},
     "output_type": "execute_result"
    }
   ],
   "source": [
    "result = result.drop(['index'], axis=1)\n",
    "result = result.drop([0], axis=1)\n",
    "result.head()"
   ]
  },
  {
   "cell_type": "code",
   "execution_count": 45,
   "metadata": {
    "scrolled": true
   },
   "outputs": [
    {
     "data": {
      "text/plain": [
       "(34521,)"
      ]
     },
     "execution_count": 45,
     "metadata": {},
     "output_type": "execute_result"
    }
   ],
   "source": [
    "itm_file.movie_id.unique().shape"
   ]
  },
  {
   "cell_type": "code",
   "execution_count": 46,
   "metadata": {
    "scrolled": true
   },
   "outputs": [
    {
     "data": {
      "text/plain": [
       "(34521,)"
      ]
     },
     "execution_count": 46,
     "metadata": {},
     "output_type": "execute_result"
    }
   ],
   "source": [
    "result.movie_id.unique().shape"
   ]
  },
  {
   "cell_type": "markdown",
   "metadata": {},
   "source": [
    "## Get the count and mean   \n",
    "The next step is to calculate the total of votes made by each user for the different movies. So, for this purpose we use a temporal variable that refeers the original item dataset. And after that the next step, using the result dataset, we'll get the information counting all the voted films. "
   ]
  },
  {
   "cell_type": "code",
   "execution_count": 47,
   "metadata": {},
   "outputs": [],
   "source": [
    "mv_df = itm_file"
   ]
  },
  {
   "cell_type": "code",
   "execution_count": 48,
   "metadata": {},
   "outputs": [],
   "source": [
    "tes_coid = pd.DataFrame(data = pd.value_counts(result[['movie_id']].values.ravel()),columns=['count'])\n",
    "tes_coid.shape\n",
    "tes_coid.reset_index(level=0, inplace=True) \n",
    "tes_coid.columns = ['movie_id','count']"
   ]
  },
  {
   "cell_type": "code",
   "execution_count": 49,
   "metadata": {},
   "outputs": [
    {
     "data": {
      "text/html": [
       "<div>\n",
       "<style scoped>\n",
       "    .dataframe tbody tr th:only-of-type {\n",
       "        vertical-align: middle;\n",
       "    }\n",
       "\n",
       "    .dataframe tbody tr th {\n",
       "        vertical-align: top;\n",
       "    }\n",
       "\n",
       "    .dataframe thead th {\n",
       "        text-align: right;\n",
       "    }\n",
       "</style>\n",
       "<table border=\"1\" class=\"dataframe\">\n",
       "  <thead>\n",
       "    <tr style=\"text-align: right;\">\n",
       "      <th></th>\n",
       "      <th>movie_id</th>\n",
       "      <th>count</th>\n",
       "    </tr>\n",
       "  </thead>\n",
       "  <tbody>\n",
       "    <tr>\n",
       "      <th>0</th>\n",
       "      <td>1454468</td>\n",
       "      <td>3067</td>\n",
       "    </tr>\n",
       "    <tr>\n",
       "      <th>1</th>\n",
       "      <td>816692</td>\n",
       "      <td>2748</td>\n",
       "    </tr>\n",
       "    <tr>\n",
       "      <th>2</th>\n",
       "      <td>993846</td>\n",
       "      <td>2737</td>\n",
       "    </tr>\n",
       "    <tr>\n",
       "      <th>3</th>\n",
       "      <td>770828</td>\n",
       "      <td>2663</td>\n",
       "    </tr>\n",
       "    <tr>\n",
       "      <th>4</th>\n",
       "      <td>816711</td>\n",
       "      <td>2402</td>\n",
       "    </tr>\n",
       "  </tbody>\n",
       "</table>\n",
       "</div>"
      ],
      "text/plain": [
       "   movie_id  count\n",
       "0   1454468   3067\n",
       "1    816692   2748\n",
       "2    993846   2737\n",
       "3    770828   2663\n",
       "4    816711   2402"
      ]
     },
     "execution_count": 49,
     "metadata": {},
     "output_type": "execute_result"
    }
   ],
   "source": [
    "tes_coid.head()"
   ]
  },
  {
   "cell_type": "markdown",
   "metadata": {},
   "source": [
    "Now it is available the dataset that contains the information of how many votes has for each movie. Just for demostrative pusposes below it shows an espefic title and how it looks, theres are only 3 votes an a mean of 6.33. "
   ]
  },
  {
   "cell_type": "code",
   "execution_count": 50,
   "metadata": {},
   "outputs": [
    {
     "data": {
      "text/html": [
       "<div>\n",
       "<style scoped>\n",
       "    .dataframe tbody tr th:only-of-type {\n",
       "        vertical-align: middle;\n",
       "    }\n",
       "\n",
       "    .dataframe tbody tr th {\n",
       "        vertical-align: top;\n",
       "    }\n",
       "\n",
       "    .dataframe thead th {\n",
       "        text-align: right;\n",
       "    }\n",
       "</style>\n",
       "<table border=\"1\" class=\"dataframe\">\n",
       "  <thead>\n",
       "    <tr style=\"text-align: right;\">\n",
       "      <th></th>\n",
       "      <th>user_id</th>\n",
       "      <th>movie_id</th>\n",
       "      <th>rating</th>\n",
       "      <th>date</th>\n",
       "      <th>time</th>\n",
       "      <th>movie_title</th>\n",
       "      <th>genre</th>\n",
       "      <th>movie_year</th>\n",
       "      <th>twitter_id</th>\n",
       "      <th>Action</th>\n",
       "      <th>...</th>\n",
       "      <th>Reality-TV</th>\n",
       "      <th>Romance</th>\n",
       "      <th>Sci-Fi</th>\n",
       "      <th>Short</th>\n",
       "      <th>Sport</th>\n",
       "      <th>Talk-Show</th>\n",
       "      <th>Thriller</th>\n",
       "      <th>War</th>\n",
       "      <th>Western</th>\n",
       "      <th>noGenre</th>\n",
       "    </tr>\n",
       "  </thead>\n",
       "  <tbody>\n",
       "    <tr>\n",
       "      <th>20675</th>\n",
       "      <td>47444</td>\n",
       "      <td>68152</td>\n",
       "      <td>8</td>\n",
       "      <td>2013-04-07</td>\n",
       "      <td>22:16:20</td>\n",
       "      <td>$</td>\n",
       "      <td>Comedy|Crime|Drama</td>\n",
       "      <td>1971</td>\n",
       "      <td>14782875</td>\n",
       "      <td>0</td>\n",
       "      <td>...</td>\n",
       "      <td>0</td>\n",
       "      <td>0</td>\n",
       "      <td>0</td>\n",
       "      <td>0</td>\n",
       "      <td>0</td>\n",
       "      <td>0</td>\n",
       "      <td>0</td>\n",
       "      <td>0</td>\n",
       "      <td>0</td>\n",
       "      <td>0</td>\n",
       "    </tr>\n",
       "    <tr>\n",
       "      <th>230030</th>\n",
       "      <td>4261</td>\n",
       "      <td>68152</td>\n",
       "      <td>7</td>\n",
       "      <td>2014-04-18</td>\n",
       "      <td>12:41:46</td>\n",
       "      <td>$</td>\n",
       "      <td>Comedy|Crime|Drama</td>\n",
       "      <td>1971</td>\n",
       "      <td>78128381</td>\n",
       "      <td>0</td>\n",
       "      <td>...</td>\n",
       "      <td>0</td>\n",
       "      <td>0</td>\n",
       "      <td>0</td>\n",
       "      <td>0</td>\n",
       "      <td>0</td>\n",
       "      <td>0</td>\n",
       "      <td>0</td>\n",
       "      <td>0</td>\n",
       "      <td>0</td>\n",
       "      <td>0</td>\n",
       "    </tr>\n",
       "    <tr>\n",
       "      <th>375251</th>\n",
       "      <td>17105</td>\n",
       "      <td>68152</td>\n",
       "      <td>4</td>\n",
       "      <td>2015-04-25</td>\n",
       "      <td>03:05:01</td>\n",
       "      <td>$</td>\n",
       "      <td>Comedy|Crime|Drama</td>\n",
       "      <td>1971</td>\n",
       "      <td>532582706</td>\n",
       "      <td>0</td>\n",
       "      <td>...</td>\n",
       "      <td>0</td>\n",
       "      <td>0</td>\n",
       "      <td>0</td>\n",
       "      <td>0</td>\n",
       "      <td>0</td>\n",
       "      <td>0</td>\n",
       "      <td>0</td>\n",
       "      <td>0</td>\n",
       "      <td>0</td>\n",
       "      <td>0</td>\n",
       "    </tr>\n",
       "  </tbody>\n",
       "</table>\n",
       "<p>3 rows × 38 columns</p>\n",
       "</div>"
      ],
      "text/plain": [
       "        user_id  movie_id  rating       date      time movie_title  \\\n",
       "20675     47444     68152       8 2013-04-07  22:16:20           $   \n",
       "230030     4261     68152       7 2014-04-18  12:41:46           $   \n",
       "375251    17105     68152       4 2015-04-25  03:05:01           $   \n",
       "\n",
       "                     genre movie_year  twitter_id  Action   ...     \\\n",
       "20675   Comedy|Crime|Drama       1971    14782875       0   ...      \n",
       "230030  Comedy|Crime|Drama       1971    78128381       0   ...      \n",
       "375251  Comedy|Crime|Drama       1971   532582706       0   ...      \n",
       "\n",
       "        Reality-TV  Romance  Sci-Fi  Short  Sport  Talk-Show  Thriller  War  \\\n",
       "20675            0        0       0      0      0          0         0    0   \n",
       "230030           0        0       0      0      0          0         0    0   \n",
       "375251           0        0       0      0      0          0         0    0   \n",
       "\n",
       "        Western  noGenre  \n",
       "20675         0        0  \n",
       "230030        0        0  \n",
       "375251        0        0  \n",
       "\n",
       "[3 rows x 38 columns]"
      ]
     },
     "execution_count": 50,
     "metadata": {},
     "output_type": "execute_result"
    }
   ],
   "source": [
    "dolar = result['movie_title'] == '$'\n",
    "result_dolar = result[dolar]\n",
    "result_dolar"
   ]
  },
  {
   "cell_type": "markdown",
   "metadata": {},
   "source": [
    "The the next step is to achieve the rating average of each title. This is posible just grouped the date in id information and then making the mean of all register of this new column."
   ]
  },
  {
   "cell_type": "code",
   "execution_count": 51,
   "metadata": {
    "scrolled": true
   },
   "outputs": [
    {
     "data": {
      "text/html": [
       "<div>\n",
       "<style scoped>\n",
       "    .dataframe tbody tr th:only-of-type {\n",
       "        vertical-align: middle;\n",
       "    }\n",
       "\n",
       "    .dataframe tbody tr th {\n",
       "        vertical-align: top;\n",
       "    }\n",
       "\n",
       "    .dataframe thead th {\n",
       "        text-align: right;\n",
       "    }\n",
       "</style>\n",
       "<table border=\"1\" class=\"dataframe\">\n",
       "  <thead>\n",
       "    <tr style=\"text-align: right;\">\n",
       "      <th></th>\n",
       "      <th>movie_id</th>\n",
       "      <th>rating</th>\n",
       "    </tr>\n",
       "  </thead>\n",
       "  <tbody>\n",
       "    <tr>\n",
       "      <th>0</th>\n",
       "      <td>10</td>\n",
       "      <td>10.0</td>\n",
       "    </tr>\n",
       "    <tr>\n",
       "      <th>1</th>\n",
       "      <td>12</td>\n",
       "      <td>10.0</td>\n",
       "    </tr>\n",
       "    <tr>\n",
       "      <th>2</th>\n",
       "      <td>25</td>\n",
       "      <td>8.0</td>\n",
       "    </tr>\n",
       "    <tr>\n",
       "      <th>3</th>\n",
       "      <td>91</td>\n",
       "      <td>6.0</td>\n",
       "    </tr>\n",
       "    <tr>\n",
       "      <th>4</th>\n",
       "      <td>131</td>\n",
       "      <td>7.0</td>\n",
       "    </tr>\n",
       "  </tbody>\n",
       "</table>\n",
       "</div>"
      ],
      "text/plain": [
       "   movie_id  rating\n",
       "0        10    10.0\n",
       "1        12    10.0\n",
       "2        25     8.0\n",
       "3        91     6.0\n",
       "4       131     7.0"
      ]
     },
     "execution_count": 51,
     "metadata": {},
     "output_type": "execute_result"
    }
   ],
   "source": [
    "grouped_data = result.groupby('movie_id')\n",
    "rating = pd.DataFrame(grouped_data['rating'].mean().round(2))\n",
    "rating.reset_index(level=0, inplace=True) \n",
    "rating.head()"
   ]
  },
  {
   "cell_type": "code",
   "execution_count": 52,
   "metadata": {},
   "outputs": [
    {
     "data": {
      "text/plain": [
       "(34521, 2)"
      ]
     },
     "execution_count": 52,
     "metadata": {},
     "output_type": "execute_result"
    }
   ],
   "source": [
    "rating.shape"
   ]
  },
  {
   "cell_type": "markdown",
   "metadata": {},
   "source": [
    "Finally it is posible to merge the three datasets: the test_coid dataset, the rating dataset and the mv_df dataset. At the end we can observe a dataset more or less similar to the ortiginal item dataset but with two new columns: count and rating."
   ]
  },
  {
   "cell_type": "code",
   "execution_count": 53,
   "metadata": {},
   "outputs": [
    {
     "data": {
      "text/html": [
       "<div>\n",
       "<style scoped>\n",
       "    .dataframe tbody tr th:only-of-type {\n",
       "        vertical-align: middle;\n",
       "    }\n",
       "\n",
       "    .dataframe tbody tr th {\n",
       "        vertical-align: top;\n",
       "    }\n",
       "\n",
       "    .dataframe thead th {\n",
       "        text-align: right;\n",
       "    }\n",
       "</style>\n",
       "<table border=\"1\" class=\"dataframe\">\n",
       "  <thead>\n",
       "    <tr style=\"text-align: right;\">\n",
       "      <th></th>\n",
       "      <th>movie_id</th>\n",
       "      <th>movie_title</th>\n",
       "      <th>genre</th>\n",
       "      <th>movie_year</th>\n",
       "      <th>count</th>\n",
       "      <th>rating</th>\n",
       "    </tr>\n",
       "  </thead>\n",
       "  <tbody>\n",
       "    <tr>\n",
       "      <th>0</th>\n",
       "      <td>10</td>\n",
       "      <td>La sortie des usines Lumière</td>\n",
       "      <td>Documentary|Short</td>\n",
       "      <td>1895</td>\n",
       "      <td>1</td>\n",
       "      <td>10.0</td>\n",
       "    </tr>\n",
       "    <tr>\n",
       "      <th>1</th>\n",
       "      <td>12</td>\n",
       "      <td>The Arrival of a Train</td>\n",
       "      <td>Documentary|Short</td>\n",
       "      <td>1896</td>\n",
       "      <td>1</td>\n",
       "      <td>10.0</td>\n",
       "    </tr>\n",
       "    <tr>\n",
       "      <th>2</th>\n",
       "      <td>25</td>\n",
       "      <td>The Oxford and Cambridge University Boat Race</td>\n",
       "      <td>noGenre</td>\n",
       "      <td>1895</td>\n",
       "      <td>1</td>\n",
       "      <td>8.0</td>\n",
       "    </tr>\n",
       "    <tr>\n",
       "      <th>3</th>\n",
       "      <td>91</td>\n",
       "      <td>Le manoir du diable</td>\n",
       "      <td>Short|Horror</td>\n",
       "      <td>1896</td>\n",
       "      <td>3</td>\n",
       "      <td>6.0</td>\n",
       "    </tr>\n",
       "    <tr>\n",
       "      <th>4</th>\n",
       "      <td>131</td>\n",
       "      <td>Une nuit terrible</td>\n",
       "      <td>Short|Comedy|Horror</td>\n",
       "      <td>1896</td>\n",
       "      <td>1</td>\n",
       "      <td>7.0</td>\n",
       "    </tr>\n",
       "  </tbody>\n",
       "</table>\n",
       "</div>"
      ],
      "text/plain": [
       "   movie_id                                    movie_title  \\\n",
       "0        10                   La sortie des usines Lumière   \n",
       "1        12                         The Arrival of a Train   \n",
       "2        25  The Oxford and Cambridge University Boat Race   \n",
       "3        91                            Le manoir du diable   \n",
       "4       131                              Une nuit terrible   \n",
       "\n",
       "                 genre movie_year  count  rating  \n",
       "0    Documentary|Short       1895      1    10.0  \n",
       "1    Documentary|Short       1896      1    10.0  \n",
       "2              noGenre       1895      1     8.0  \n",
       "3         Short|Horror       1896      3     6.0  \n",
       "4  Short|Comedy|Horror       1896      1     7.0  "
      ]
     },
     "execution_count": 53,
     "metadata": {},
     "output_type": "execute_result"
    }
   ],
   "source": [
    "tes_coid = pd.merge(tes_coid,rating, on='movie_id',how='outer')\n",
    "tes_coid = pd.merge(mv_df,tes_coid, on='movie_id',how='outer')\n",
    "tes_coid.head()"
   ]
  },
  {
   "cell_type": "markdown",
   "metadata": {},
   "source": [
    "## Construct a simple recommendation system  \n",
    "The implementation of this model is very trivial.  \n",
    "Depending to some values it is posible to assing a weight to decide how well or bad a film goes in the opinion of the people. \n",
    "\n",
    "* The basic idea behind this system is that movies with a higher probablitiy of being liked by the average audience are more popular in a measurable therms."
   ]
  },
  {
   "cell_type": "markdown",
   "metadata": {},
   "source": [
    "### *Weighted Rating (WR)* = ($\\frac{v}{v+m}*R$) + ($\\frac{m}{v+m}*C$)  \n",
    "Where:  \n",
    "  * v is the number of votes for the movie\n",
    "  * m is the minimum votes required to be listed in the chart\n",
    "  * R is the average rating of the movie\n",
    "  * C is the mean vote across the whole report"
   ]
  },
  {
   "cell_type": "code",
   "execution_count": 54,
   "metadata": {},
   "outputs": [
    {
     "data": {
      "text/plain": [
       "6.460736320713727"
      ]
     },
     "execution_count": 54,
     "metadata": {},
     "output_type": "execute_result"
    }
   ],
   "source": [
    "vote_counts = tes_coid[tes_coid['count'].notnull()]['count'].astype('int')\n",
    "vote_avergs = tes_coid[tes_coid['rating'].notnull()]['rating'].astype('int')\n",
    "C = vote_avergs.mean()\n",
    "C"
   ]
  },
  {
   "cell_type": "code",
   "execution_count": 55,
   "metadata": {},
   "outputs": [
    {
     "data": {
      "text/plain": [
       "89.90000000000146"
      ]
     },
     "execution_count": 55,
     "metadata": {},
     "output_type": "execute_result"
    }
   ],
   "source": [
    "m= vote_counts.quantile(0.95)\n",
    "m"
   ]
  },
  {
   "cell_type": "code",
   "execution_count": 56,
   "metadata": {},
   "outputs": [
    {
     "data": {
      "text/plain": [
       "(1727, 5)"
      ]
     },
     "execution_count": 56,
     "metadata": {},
     "output_type": "execute_result"
    }
   ],
   "source": [
    "qualified = tes_coid[(tes_coid['count'] >= m) &\n",
    "                  (tes_coid['count'].notnull())&\n",
    "                  (tes_coid['rating'].notnull())][['movie_title',\n",
    "                                                'movie_year',\n",
    "                                                'count',\n",
    "                                                'rating',\n",
    "                                                'genre']]\n",
    "qualified['count'] = qualified['count'].astype('int')\n",
    "qualified['rating'] = qualified['rating'].astype('int')\n",
    "qualified.shape"
   ]
  },
  {
   "cell_type": "code",
   "execution_count": 57,
   "metadata": {},
   "outputs": [],
   "source": [
    "def weighted_rating(x):\n",
    "    V = x['count']\n",
    "    R = x['rating']\n",
    "    return (V/(V+m) * R) +(m/(m+V) * C)"
   ]
  },
  {
   "cell_type": "code",
   "execution_count": 58,
   "metadata": {},
   "outputs": [],
   "source": [
    "qualified['wr'] = qualified.apply(weighted_rating, axis=1)"
   ]
  },
  {
   "cell_type": "code",
   "execution_count": 59,
   "metadata": {},
   "outputs": [],
   "source": [
    "qualified = qualified.sort_values('wr', ascending = False).head(250)"
   ]
  },
  {
   "cell_type": "markdown",
   "metadata": {},
   "source": [
    "### Top Movies"
   ]
  },
  {
   "cell_type": "code",
   "execution_count": 60,
   "metadata": {},
   "outputs": [
    {
     "data": {
      "text/html": [
       "<div>\n",
       "<style scoped>\n",
       "    .dataframe tbody tr th:only-of-type {\n",
       "        vertical-align: middle;\n",
       "    }\n",
       "\n",
       "    .dataframe tbody tr th {\n",
       "        vertical-align: top;\n",
       "    }\n",
       "\n",
       "    .dataframe thead th {\n",
       "        text-align: right;\n",
       "    }\n",
       "</style>\n",
       "<table border=\"1\" class=\"dataframe\">\n",
       "  <thead>\n",
       "    <tr style=\"text-align: right;\">\n",
       "      <th></th>\n",
       "      <th>movie_title</th>\n",
       "      <th>movie_year</th>\n",
       "      <th>count</th>\n",
       "      <th>rating</th>\n",
       "      <th>genre</th>\n",
       "      <th>wr</th>\n",
       "    </tr>\n",
       "  </thead>\n",
       "  <tbody>\n",
       "    <tr>\n",
       "      <th>33196</th>\n",
       "      <td>Joker</td>\n",
       "      <td>2019</td>\n",
       "      <td>2249</td>\n",
       "      <td>9</td>\n",
       "      <td>Crime|Drama|Thriller</td>\n",
       "      <td>8.902399</td>\n",
       "    </tr>\n",
       "    <tr>\n",
       "      <th>28651</th>\n",
       "      <td>Avengers: Endgame</td>\n",
       "      <td>2019</td>\n",
       "      <td>1363</td>\n",
       "      <td>9</td>\n",
       "      <td>Action|Adventure|Fantasy|Sci-Fi</td>\n",
       "      <td>8.842880</td>\n",
       "    </tr>\n",
       "    <tr>\n",
       "      <th>8427</th>\n",
       "      <td>The Shawshank Redemption</td>\n",
       "      <td>1994</td>\n",
       "      <td>998</td>\n",
       "      <td>9</td>\n",
       "      <td>Drama</td>\n",
       "      <td>8.790165</td>\n",
       "    </tr>\n",
       "    <tr>\n",
       "      <th>17996</th>\n",
       "      <td>Inception</td>\n",
       "      <td>2010</td>\n",
       "      <td>875</td>\n",
       "      <td>9</td>\n",
       "      <td>Action|Adventure|Sci-Fi|Thriller</td>\n",
       "      <td>8.763416</td>\n",
       "    </tr>\n",
       "    <tr>\n",
       "      <th>8273</th>\n",
       "      <td>Forrest Gump</td>\n",
       "      <td>1994</td>\n",
       "      <td>774</td>\n",
       "      <td>9</td>\n",
       "      <td>Drama|Romance</td>\n",
       "      <td>8.735757</td>\n",
       "    </tr>\n",
       "    <tr>\n",
       "      <th>2038</th>\n",
       "      <td>12 Angry Men</td>\n",
       "      <td>1957</td>\n",
       "      <td>691</td>\n",
       "      <td>9</td>\n",
       "      <td>Crime|Drama</td>\n",
       "      <td>8.707671</td>\n",
       "    </tr>\n",
       "    <tr>\n",
       "      <th>14479</th>\n",
       "      <td>The Dark Knight</td>\n",
       "      <td>2008</td>\n",
       "      <td>665</td>\n",
       "      <td>9</td>\n",
       "      <td>Action|Crime|Drama|Thriller</td>\n",
       "      <td>8.697603</td>\n",
       "    </tr>\n",
       "    <tr>\n",
       "      <th>3893</th>\n",
       "      <td>The Godfather</td>\n",
       "      <td>1972</td>\n",
       "      <td>593</td>\n",
       "      <td>9</td>\n",
       "      <td>Crime|Drama</td>\n",
       "      <td>8.665720</td>\n",
       "    </tr>\n",
       "    <tr>\n",
       "      <th>9480</th>\n",
       "      <td>The Green Mile</td>\n",
       "      <td>1999</td>\n",
       "      <td>438</td>\n",
       "      <td>9</td>\n",
       "      <td>Crime|Drama|Fantasy|Mystery</td>\n",
       "      <td>8.567570</td>\n",
       "    </tr>\n",
       "    <tr>\n",
       "      <th>8120</th>\n",
       "      <td>Schindler's List</td>\n",
       "      <td>1993</td>\n",
       "      <td>415</td>\n",
       "      <td>9</td>\n",
       "      <td>Biography|Drama|History</td>\n",
       "      <td>8.547871</td>\n",
       "    </tr>\n",
       "    <tr>\n",
       "      <th>31013</th>\n",
       "      <td>Be Somebody</td>\n",
       "      <td>2016</td>\n",
       "      <td>353</td>\n",
       "      <td>9</td>\n",
       "      <td>Comedy|Drama|Romance</td>\n",
       "      <td>8.484579</td>\n",
       "    </tr>\n",
       "    <tr>\n",
       "      <th>10255</th>\n",
       "      <td>The Lord of the Rings: The Return of the King</td>\n",
       "      <td>2003</td>\n",
       "      <td>332</td>\n",
       "      <td>9</td>\n",
       "      <td>Adventure|Drama|Fantasy</td>\n",
       "      <td>8.458924</td>\n",
       "    </tr>\n",
       "    <tr>\n",
       "      <th>4204</th>\n",
       "      <td>The Godfather: Part II</td>\n",
       "      <td>1974</td>\n",
       "      <td>326</td>\n",
       "      <td>9</td>\n",
       "      <td>Crime|Drama</td>\n",
       "      <td>8.451119</td>\n",
       "    </tr>\n",
       "    <tr>\n",
       "      <th>3007</th>\n",
       "      <td>Il buono, il brutto, il cattivo</td>\n",
       "      <td>1966</td>\n",
       "      <td>323</td>\n",
       "      <td>9</td>\n",
       "      <td>Western</td>\n",
       "      <td>8.447131</td>\n",
       "    </tr>\n",
       "    <tr>\n",
       "      <th>1143</th>\n",
       "      <td>It's a Wonderful Life</td>\n",
       "      <td>1946</td>\n",
       "      <td>285</td>\n",
       "      <td>9</td>\n",
       "      <td>Drama|Family|Fantasy</td>\n",
       "      <td>8.391091</td>\n",
       "    </tr>\n",
       "  </tbody>\n",
       "</table>\n",
       "</div>"
      ],
      "text/plain": [
       "                                         movie_title movie_year  count  \\\n",
       "33196                                          Joker       2019   2249   \n",
       "28651                              Avengers: Endgame       2019   1363   \n",
       "8427                        The Shawshank Redemption       1994    998   \n",
       "17996                                      Inception       2010    875   \n",
       "8273                                    Forrest Gump       1994    774   \n",
       "2038                                    12 Angry Men       1957    691   \n",
       "14479                                The Dark Knight       2008    665   \n",
       "3893                                   The Godfather       1972    593   \n",
       "9480                                  The Green Mile       1999    438   \n",
       "8120                                Schindler's List       1993    415   \n",
       "31013                                    Be Somebody       2016    353   \n",
       "10255  The Lord of the Rings: The Return of the King       2003    332   \n",
       "4204                          The Godfather: Part II       1974    326   \n",
       "3007                 Il buono, il brutto, il cattivo       1966    323   \n",
       "1143                           It's a Wonderful Life       1946    285   \n",
       "\n",
       "       rating                             genre        wr  \n",
       "33196       9              Crime|Drama|Thriller  8.902399  \n",
       "28651       9   Action|Adventure|Fantasy|Sci-Fi  8.842880  \n",
       "8427        9                             Drama  8.790165  \n",
       "17996       9  Action|Adventure|Sci-Fi|Thriller  8.763416  \n",
       "8273        9                     Drama|Romance  8.735757  \n",
       "2038        9                       Crime|Drama  8.707671  \n",
       "14479       9       Action|Crime|Drama|Thriller  8.697603  \n",
       "3893        9                       Crime|Drama  8.665720  \n",
       "9480        9       Crime|Drama|Fantasy|Mystery  8.567570  \n",
       "8120        9           Biography|Drama|History  8.547871  \n",
       "31013       9              Comedy|Drama|Romance  8.484579  \n",
       "10255       9           Adventure|Drama|Fantasy  8.458924  \n",
       "4204        9                       Crime|Drama  8.451119  \n",
       "3007        9                           Western  8.447131  \n",
       "1143        9              Drama|Family|Fantasy  8.391091  "
      ]
     },
     "execution_count": 60,
     "metadata": {},
     "output_type": "execute_result"
    }
   ],
   "source": [
    "qualified.head(15)"
   ]
  },
  {
   "cell_type": "markdown",
   "metadata": {},
   "source": [
    "**Note:** This is the principal reason why itsn't correct to use the *movie_title* instead the *movie_id*. Here, we observe that exist two diferents movies with the same title."
   ]
  },
  {
   "cell_type": "code",
   "execution_count": 61,
   "metadata": {},
   "outputs": [
    {
     "data": {
      "text/html": [
       "<div>\n",
       "<style scoped>\n",
       "    .dataframe tbody tr th:only-of-type {\n",
       "        vertical-align: middle;\n",
       "    }\n",
       "\n",
       "    .dataframe tbody tr th {\n",
       "        vertical-align: top;\n",
       "    }\n",
       "\n",
       "    .dataframe thead th {\n",
       "        text-align: right;\n",
       "    }\n",
       "</style>\n",
       "<table border=\"1\" class=\"dataframe\">\n",
       "  <thead>\n",
       "    <tr style=\"text-align: right;\">\n",
       "      <th></th>\n",
       "      <th>movie_id</th>\n",
       "      <th>movie_title</th>\n",
       "      <th>genre</th>\n",
       "      <th>movie_year</th>\n",
       "    </tr>\n",
       "  </thead>\n",
       "  <tbody>\n",
       "    <tr>\n",
       "      <th>21116</th>\n",
       "      <td>1918886</td>\n",
       "      <td>Joker</td>\n",
       "      <td>Comedy|Family|Sci-Fi</td>\n",
       "      <td>2012</td>\n",
       "    </tr>\n",
       "    <tr>\n",
       "      <th>33196</th>\n",
       "      <td>7286456</td>\n",
       "      <td>Joker</td>\n",
       "      <td>Crime|Drama|Thriller</td>\n",
       "      <td>2019</td>\n",
       "    </tr>\n",
       "  </tbody>\n",
       "</table>\n",
       "</div>"
      ],
      "text/plain": [
       "       movie_id movie_title                 genre movie_year\n",
       "21116   1918886       Joker  Comedy|Family|Sci-Fi       2012\n",
       "33196   7286456       Joker  Crime|Drama|Thriller       2019"
      ]
     },
     "execution_count": 61,
     "metadata": {},
     "output_type": "execute_result"
    }
   ],
   "source": [
    "joker = itm_file['movie_title'] == 'Joker'\n",
    "df_joker = itm_file[joker]\n",
    "df_joker"
   ]
  },
  {
   "cell_type": "code",
   "execution_count": 62,
   "metadata": {},
   "outputs": [
    {
     "data": {
      "text/plain": [
       "(34521,)"
      ]
     },
     "execution_count": 62,
     "metadata": {},
     "output_type": "execute_result"
    }
   ],
   "source": [
    "itm_file['movie_id'].unique().shape"
   ]
  },
  {
   "cell_type": "code",
   "execution_count": 63,
   "metadata": {},
   "outputs": [
    {
     "data": {
      "text/plain": [
       "(33128,)"
      ]
     },
     "execution_count": 63,
     "metadata": {},
     "output_type": "execute_result"
    }
   ],
   "source": [
    "itm_file['movie_title'].unique().shape"
   ]
  },
  {
   "cell_type": "markdown",
   "metadata": {},
   "source": [
    "## Construct list of movies depending in the genre  \n",
    "To do this new aprochment it's necessary to separete the genre column in each value of the movies. Then those are availables.\n",
    "Finally our function that builds charts for particular genres is posible to declare."
   ]
  },
  {
   "cell_type": "code",
   "execution_count": 64,
   "metadata": {},
   "outputs": [
    {
     "data": {
      "text/html": [
       "<div>\n",
       "<style scoped>\n",
       "    .dataframe tbody tr th:only-of-type {\n",
       "        vertical-align: middle;\n",
       "    }\n",
       "\n",
       "    .dataframe tbody tr th {\n",
       "        vertical-align: top;\n",
       "    }\n",
       "\n",
       "    .dataframe thead th {\n",
       "        text-align: right;\n",
       "    }\n",
       "</style>\n",
       "<table border=\"1\" class=\"dataframe\">\n",
       "  <thead>\n",
       "    <tr style=\"text-align: right;\">\n",
       "      <th></th>\n",
       "      <th>movie_id</th>\n",
       "      <th>movie_title</th>\n",
       "      <th>genre</th>\n",
       "      <th>movie_year</th>\n",
       "      <th>count</th>\n",
       "      <th>rating</th>\n",
       "      <th>genres</th>\n",
       "    </tr>\n",
       "  </thead>\n",
       "  <tbody>\n",
       "    <tr>\n",
       "      <th>0</th>\n",
       "      <td>10</td>\n",
       "      <td>La sortie des usines Lumière</td>\n",
       "      <td>Documentary|Short</td>\n",
       "      <td>1895</td>\n",
       "      <td>1</td>\n",
       "      <td>10.0</td>\n",
       "      <td>Documentary</td>\n",
       "    </tr>\n",
       "    <tr>\n",
       "      <th>0</th>\n",
       "      <td>10</td>\n",
       "      <td>La sortie des usines Lumière</td>\n",
       "      <td>Documentary|Short</td>\n",
       "      <td>1895</td>\n",
       "      <td>1</td>\n",
       "      <td>10.0</td>\n",
       "      <td>Short</td>\n",
       "    </tr>\n",
       "    <tr>\n",
       "      <th>1</th>\n",
       "      <td>12</td>\n",
       "      <td>The Arrival of a Train</td>\n",
       "      <td>Documentary|Short</td>\n",
       "      <td>1896</td>\n",
       "      <td>1</td>\n",
       "      <td>10.0</td>\n",
       "      <td>Documentary</td>\n",
       "    </tr>\n",
       "    <tr>\n",
       "      <th>1</th>\n",
       "      <td>12</td>\n",
       "      <td>The Arrival of a Train</td>\n",
       "      <td>Documentary|Short</td>\n",
       "      <td>1896</td>\n",
       "      <td>1</td>\n",
       "      <td>10.0</td>\n",
       "      <td>Short</td>\n",
       "    </tr>\n",
       "    <tr>\n",
       "      <th>2</th>\n",
       "      <td>25</td>\n",
       "      <td>The Oxford and Cambridge University Boat Race</td>\n",
       "      <td>noGenre</td>\n",
       "      <td>1895</td>\n",
       "      <td>1</td>\n",
       "      <td>8.0</td>\n",
       "      <td>noGenre</td>\n",
       "    </tr>\n",
       "  </tbody>\n",
       "</table>\n",
       "</div>"
      ],
      "text/plain": [
       "   movie_id                                    movie_title              genre  \\\n",
       "0        10                   La sortie des usines Lumière  Documentary|Short   \n",
       "0        10                   La sortie des usines Lumière  Documentary|Short   \n",
       "1        12                         The Arrival of a Train  Documentary|Short   \n",
       "1        12                         The Arrival of a Train  Documentary|Short   \n",
       "2        25  The Oxford and Cambridge University Boat Race            noGenre   \n",
       "\n",
       "  movie_year  count  rating       genres  \n",
       "0       1895      1    10.0  Documentary  \n",
       "0       1895      1    10.0        Short  \n",
       "1       1896      1    10.0  Documentary  \n",
       "1       1896      1    10.0        Short  \n",
       "2       1895      1     8.0      noGenre  "
      ]
     },
     "execution_count": 64,
     "metadata": {},
     "output_type": "execute_result"
    }
   ],
   "source": [
    "s = tes_coid['genre'].str.split('|').apply(pd.Series, 1).stack()\n",
    "s.index = s.index.droplevel(-1)\n",
    "s.name = 'genres'\n",
    "tes_coid.join(s.apply(lambda x: pd.Series(x.split('|'))))\n",
    "tes_coid = tes_coid.join(s)\n",
    "tes_coid.head()"
   ]
  },
  {
   "cell_type": "code",
   "execution_count": 65,
   "metadata": {},
   "outputs": [],
   "source": [
    "def build_chart(genre,percentile = 0.85):\n",
    "    df = tes_coid[tes_coid['genres'] == genre]\n",
    "    vote_counts = df[df['count'].notnull()]['count'].astype('int')\n",
    "    vote_averag = df[df['rating'].notnull()]['rating'].astype('int')\n",
    "    C = vote_averag.mean()\n",
    "    m = vote_counts.quantile(percentile)\n",
    "    qualified = df[(df['count']>=m)&\n",
    "                   (df['count'].notnull()) &\n",
    "                   (df['rating'].notnull())][['movie_title',\n",
    "                                              'movie_year',\n",
    "                                              'count',\n",
    "                                              'rating',\n",
    "                                              'genre']]\n",
    "    qualified['count'] = qualified['count'].astype('int')\n",
    "    qualified['rating'] = qualified['rating'].astype('int')\n",
    "    \n",
    "    qualified['wr'] = qualified.apply(lambda x:(x['count']/(x['count']+m)*x['rating'])+(m/(m+x['count'])*C), axis = 1)\n",
    "    qualified = qualified.sort_values('wr', ascending = False).head(250)\n",
    "    \n",
    "\n",
    "    return qualified"
   ]
  },
  {
   "cell_type": "markdown",
   "metadata": {},
   "source": [
    "### Top 15 Movies according to the genre  \n",
    "Try to change the genre in the code below."
   ]
  },
  {
   "cell_type": "code",
   "execution_count": 66,
   "metadata": {},
   "outputs": [
    {
     "data": {
      "text/html": [
       "<div>\n",
       "<style scoped>\n",
       "    .dataframe tbody tr th:only-of-type {\n",
       "        vertical-align: middle;\n",
       "    }\n",
       "\n",
       "    .dataframe tbody tr th {\n",
       "        vertical-align: top;\n",
       "    }\n",
       "\n",
       "    .dataframe thead th {\n",
       "        text-align: right;\n",
       "    }\n",
       "</style>\n",
       "<table border=\"1\" class=\"dataframe\">\n",
       "  <thead>\n",
       "    <tr style=\"text-align: right;\">\n",
       "      <th></th>\n",
       "      <th>movie_title</th>\n",
       "      <th>movie_year</th>\n",
       "      <th>count</th>\n",
       "      <th>rating</th>\n",
       "      <th>genre</th>\n",
       "      <th>wr</th>\n",
       "    </tr>\n",
       "  </thead>\n",
       "  <tbody>\n",
       "    <tr>\n",
       "      <th>28651</th>\n",
       "      <td>Avengers: Endgame</td>\n",
       "      <td>2019</td>\n",
       "      <td>1363</td>\n",
       "      <td>9</td>\n",
       "      <td>Action|Adventure|Fantasy|Sci-Fi</td>\n",
       "      <td>8.853379</td>\n",
       "    </tr>\n",
       "    <tr>\n",
       "      <th>17996</th>\n",
       "      <td>Inception</td>\n",
       "      <td>2010</td>\n",
       "      <td>875</td>\n",
       "      <td>9</td>\n",
       "      <td>Action|Adventure|Sci-Fi|Thriller</td>\n",
       "      <td>8.777423</td>\n",
       "    </tr>\n",
       "    <tr>\n",
       "      <th>7644</th>\n",
       "      <td>Terminator 2: Judgment Day</td>\n",
       "      <td>1991</td>\n",
       "      <td>234</td>\n",
       "      <td>9</td>\n",
       "      <td>Action|Sci-Fi</td>\n",
       "      <td>8.303429</td>\n",
       "    </tr>\n",
       "    <tr>\n",
       "      <th>18413</th>\n",
       "      <td>Gravity</td>\n",
       "      <td>2013</td>\n",
       "      <td>3067</td>\n",
       "      <td>8</td>\n",
       "      <td>Drama|Sci-Fi|Thriller</td>\n",
       "      <td>7.954477</td>\n",
       "    </tr>\n",
       "    <tr>\n",
       "      <th>15341</th>\n",
       "      <td>Interstellar</td>\n",
       "      <td>2014</td>\n",
       "      <td>2748</td>\n",
       "      <td>8</td>\n",
       "      <td>Adventure|Drama|Sci-Fi</td>\n",
       "      <td>7.949319</td>\n",
       "    </tr>\n",
       "    <tr>\n",
       "      <th>18077</th>\n",
       "      <td>Mad Max: Fury Road</td>\n",
       "      <td>2015</td>\n",
       "      <td>1911</td>\n",
       "      <td>8</td>\n",
       "      <td>Action|Adventure|Sci-Fi|Thriller</td>\n",
       "      <td>7.927873</td>\n",
       "    </tr>\n",
       "    <tr>\n",
       "      <th>18154</th>\n",
       "      <td>Star Trek Into Darkness</td>\n",
       "      <td>2013</td>\n",
       "      <td>1879</td>\n",
       "      <td>8</td>\n",
       "      <td>Action|Adventure|Sci-Fi</td>\n",
       "      <td>7.926687</td>\n",
       "    </tr>\n",
       "    <tr>\n",
       "      <th>18284</th>\n",
       "      <td>Deadpool</td>\n",
       "      <td>2016</td>\n",
       "      <td>1843</td>\n",
       "      <td>8</td>\n",
       "      <td>Action|Adventure|Comedy|Sci-Fi</td>\n",
       "      <td>7.925305</td>\n",
       "    </tr>\n",
       "    <tr>\n",
       "      <th>20493</th>\n",
       "      <td>Her</td>\n",
       "      <td>2013</td>\n",
       "      <td>1772</td>\n",
       "      <td>8</td>\n",
       "      <td>Drama|Romance|Sci-Fi</td>\n",
       "      <td>7.922421</td>\n",
       "    </tr>\n",
       "    <tr>\n",
       "      <th>20970</th>\n",
       "      <td>X-Men: Days of Future Past</td>\n",
       "      <td>2014</td>\n",
       "      <td>1752</td>\n",
       "      <td>8</td>\n",
       "      <td>Action|Adventure|Sci-Fi|Thriller</td>\n",
       "      <td>7.921568</td>\n",
       "    </tr>\n",
       "    <tr>\n",
       "      <th>20766</th>\n",
       "      <td>Captain America: The Winter Soldier</td>\n",
       "      <td>2014</td>\n",
       "      <td>1701</td>\n",
       "      <td>8</td>\n",
       "      <td>Action|Adventure|Sci-Fi|Thriller</td>\n",
       "      <td>7.919305</td>\n",
       "    </tr>\n",
       "    <tr>\n",
       "      <th>21590</th>\n",
       "      <td>Guardians of the Galaxy</td>\n",
       "      <td>2014</td>\n",
       "      <td>1624</td>\n",
       "      <td>8</td>\n",
       "      <td>Action|Adventure|Comedy|Sci-Fi</td>\n",
       "      <td>7.915631</td>\n",
       "    </tr>\n",
       "    <tr>\n",
       "      <th>24178</th>\n",
       "      <td>Star Wars: The Force Awakens</td>\n",
       "      <td>2015</td>\n",
       "      <td>1539</td>\n",
       "      <td>8</td>\n",
       "      <td>Action|Adventure|Fantasy|Sci-Fi</td>\n",
       "      <td>7.911166</td>\n",
       "    </tr>\n",
       "    <tr>\n",
       "      <th>27075</th>\n",
       "      <td>Captain America: Civil War</td>\n",
       "      <td>2016</td>\n",
       "      <td>1445</td>\n",
       "      <td>8</td>\n",
       "      <td>Action|Adventure|Sci-Fi</td>\n",
       "      <td>7.905643</td>\n",
       "    </tr>\n",
       "    <tr>\n",
       "      <th>26561</th>\n",
       "      <td>Logan</td>\n",
       "      <td>2017</td>\n",
       "      <td>1443</td>\n",
       "      <td>8</td>\n",
       "      <td>Action|Drama|Sci-Fi|Thriller</td>\n",
       "      <td>7.905518</td>\n",
       "    </tr>\n",
       "  </tbody>\n",
       "</table>\n",
       "</div>"
      ],
      "text/plain": [
       "                               movie_title movie_year  count  rating  \\\n",
       "28651                    Avengers: Endgame       2019   1363       9   \n",
       "17996                            Inception       2010    875       9   \n",
       "7644            Terminator 2: Judgment Day       1991    234       9   \n",
       "18413                              Gravity       2013   3067       8   \n",
       "15341                         Interstellar       2014   2748       8   \n",
       "18077                   Mad Max: Fury Road       2015   1911       8   \n",
       "18154              Star Trek Into Darkness       2013   1879       8   \n",
       "18284                             Deadpool       2016   1843       8   \n",
       "20493                                  Her       2013   1772       8   \n",
       "20970           X-Men: Days of Future Past       2014   1752       8   \n",
       "20766  Captain America: The Winter Soldier       2014   1701       8   \n",
       "21590              Guardians of the Galaxy       2014   1624       8   \n",
       "24178         Star Wars: The Force Awakens       2015   1539       8   \n",
       "27075           Captain America: Civil War       2016   1445       8   \n",
       "26561                                Logan       2017   1443       8   \n",
       "\n",
       "                                  genre        wr  \n",
       "28651   Action|Adventure|Fantasy|Sci-Fi  8.853379  \n",
       "17996  Action|Adventure|Sci-Fi|Thriller  8.777423  \n",
       "7644                      Action|Sci-Fi  8.303429  \n",
       "18413             Drama|Sci-Fi|Thriller  7.954477  \n",
       "15341            Adventure|Drama|Sci-Fi  7.949319  \n",
       "18077  Action|Adventure|Sci-Fi|Thriller  7.927873  \n",
       "18154           Action|Adventure|Sci-Fi  7.926687  \n",
       "18284    Action|Adventure|Comedy|Sci-Fi  7.925305  \n",
       "20493              Drama|Romance|Sci-Fi  7.922421  \n",
       "20970  Action|Adventure|Sci-Fi|Thriller  7.921568  \n",
       "20766  Action|Adventure|Sci-Fi|Thriller  7.919305  \n",
       "21590    Action|Adventure|Comedy|Sci-Fi  7.915631  \n",
       "24178   Action|Adventure|Fantasy|Sci-Fi  7.911166  \n",
       "27075           Action|Adventure|Sci-Fi  7.905643  \n",
       "26561      Action|Drama|Sci-Fi|Thriller  7.905518  "
      ]
     },
     "execution_count": 66,
     "metadata": {},
     "output_type": "execute_result"
    }
   ],
   "source": [
    "build_chart('Sci-Fi').head(15)"
   ]
  },
  {
   "cell_type": "markdown",
   "metadata": {},
   "source": [
    "## Content based recommendation system"
   ]
  },
  {
   "cell_type": "markdown",
   "metadata": {},
   "source": [
    "To construct a content based recommendation system is necessary more information. The better option to begin in this project is with the item dataset thus there we can found movie id but, how much special could be this id?"
   ]
  },
  {
   "cell_type": "code",
   "execution_count": 67,
   "metadata": {},
   "outputs": [],
   "source": [
    "original = itm_file\n",
    "temp = original.head()"
   ]
  },
  {
   "cell_type": "code",
   "execution_count": 68,
   "metadata": {},
   "outputs": [
    {
     "data": {
      "text/html": [
       "<div>\n",
       "<style scoped>\n",
       "    .dataframe tbody tr th:only-of-type {\n",
       "        vertical-align: middle;\n",
       "    }\n",
       "\n",
       "    .dataframe tbody tr th {\n",
       "        vertical-align: top;\n",
       "    }\n",
       "\n",
       "    .dataframe thead th {\n",
       "        text-align: right;\n",
       "    }\n",
       "</style>\n",
       "<table border=\"1\" class=\"dataframe\">\n",
       "  <thead>\n",
       "    <tr style=\"text-align: right;\">\n",
       "      <th></th>\n",
       "      <th>movie_id</th>\n",
       "      <th>movie_title</th>\n",
       "      <th>genre</th>\n",
       "      <th>movie_year</th>\n",
       "    </tr>\n",
       "  </thead>\n",
       "  <tbody>\n",
       "    <tr>\n",
       "      <th>0</th>\n",
       "      <td>10</td>\n",
       "      <td>La sortie des usines Lumière</td>\n",
       "      <td>Documentary|Short</td>\n",
       "      <td>1895</td>\n",
       "    </tr>\n",
       "    <tr>\n",
       "      <th>1</th>\n",
       "      <td>12</td>\n",
       "      <td>The Arrival of a Train</td>\n",
       "      <td>Documentary|Short</td>\n",
       "      <td>1896</td>\n",
       "    </tr>\n",
       "    <tr>\n",
       "      <th>2</th>\n",
       "      <td>25</td>\n",
       "      <td>The Oxford and Cambridge University Boat Race</td>\n",
       "      <td>noGenre</td>\n",
       "      <td>1895</td>\n",
       "    </tr>\n",
       "    <tr>\n",
       "      <th>3</th>\n",
       "      <td>91</td>\n",
       "      <td>Le manoir du diable</td>\n",
       "      <td>Short|Horror</td>\n",
       "      <td>1896</td>\n",
       "    </tr>\n",
       "    <tr>\n",
       "      <th>4</th>\n",
       "      <td>131</td>\n",
       "      <td>Une nuit terrible</td>\n",
       "      <td>Short|Comedy|Horror</td>\n",
       "      <td>1896</td>\n",
       "    </tr>\n",
       "  </tbody>\n",
       "</table>\n",
       "</div>"
      ],
      "text/plain": [
       "   movie_id                                    movie_title  \\\n",
       "0        10                   La sortie des usines Lumière   \n",
       "1        12                         The Arrival of a Train   \n",
       "2        25  The Oxford and Cambridge University Boat Race   \n",
       "3        91                            Le manoir du diable   \n",
       "4       131                              Une nuit terrible   \n",
       "\n",
       "                 genre movie_year  \n",
       "0    Documentary|Short       1895  \n",
       "1    Documentary|Short       1896  \n",
       "2              noGenre       1895  \n",
       "3         Short|Horror       1896  \n",
       "4  Short|Comedy|Horror       1896  "
      ]
     },
     "execution_count": 68,
     "metadata": {},
     "output_type": "execute_result"
    }
   ],
   "source": [
    "temp.head()"
   ]
  },
  {
   "cell_type": "markdown",
   "metadata": {},
   "source": [
    "As it's posible to see above it seems like normal ids but it is not. Let me explain:\n",
    "\n",
    "I thank to Simon Dooms (Github @sidooms) because the offer the very curated datasets that we use until now. Besides he explain that all the ids of the movies are also part of page link of each movie. Then with this information it's just necessary to normalize the movie_id column and add the other part of the page link that will be:  \n",
    "http://www.imdb.com/title/tt  \n",
    "All the links refers to the page of IMBD and from that using some Web Scraping techniques it's posible to obtain more information. It will be our next objetive.  \n",
    "However, we can't use the movie_id column as we have right now. I find that the correct format is a number with seven characters and if they have less it's necessary to fill with 0 (zeros) at left. Then here we use zfill to fix it."
   ]
  },
  {
   "cell_type": "code",
   "execution_count": 69,
   "metadata": {},
   "outputs": [
    {
     "data": {
      "text/plain": [
       "'0000010'"
      ]
     },
     "execution_count": 69,
     "metadata": {},
     "output_type": "execute_result"
    }
   ],
   "source": [
    "'10'.zfill(7)"
   ]
  },
  {
   "cell_type": "code",
   "execution_count": 70,
   "metadata": {},
   "outputs": [
    {
     "name": "stderr",
     "output_type": "stream",
     "text": [
      "C:\\Users\\alter\\Anaconda3\\lib\\site-packages\\ipykernel_launcher.py:1: SettingWithCopyWarning: \n",
      "A value is trying to be set on a copy of a slice from a DataFrame.\n",
      "Try using .loc[row_indexer,col_indexer] = value instead\n",
      "\n",
      "See the caveats in the documentation: http://pandas.pydata.org/pandas-docs/stable/indexing.html#indexing-view-versus-copy\n",
      "  \"\"\"Entry point for launching an IPython kernel.\n",
      "C:\\Users\\alter\\Anaconda3\\lib\\site-packages\\ipykernel_launcher.py:2: SettingWithCopyWarning: \n",
      "A value is trying to be set on a copy of a slice from a DataFrame.\n",
      "Try using .loc[row_indexer,col_indexer] = value instead\n",
      "\n",
      "See the caveats in the documentation: http://pandas.pydata.org/pandas-docs/stable/indexing.html#indexing-view-versus-copy\n",
      "  \n",
      "C:\\Users\\alter\\Anaconda3\\lib\\site-packages\\ipykernel_launcher.py:3: SettingWithCopyWarning: \n",
      "A value is trying to be set on a copy of a slice from a DataFrame.\n",
      "Try using .loc[row_indexer,col_indexer] = value instead\n",
      "\n",
      "See the caveats in the documentation: http://pandas.pydata.org/pandas-docs/stable/indexing.html#indexing-view-versus-copy\n",
      "  This is separate from the ipykernel package so we can avoid doing imports until\n"
     ]
    }
   ],
   "source": [
    "temp['count_mv_id'] = temp['movie_id'].astype(str).str.len()\n",
    "temp['tr_movie_id'] = temp['movie_id'].astype(str)\n",
    "temp['tr_movie_id'] = temp['tr_movie_id'].str.zfill(7)"
   ]
  },
  {
   "cell_type": "code",
   "execution_count": 71,
   "metadata": {},
   "outputs": [
    {
     "data": {
      "text/html": [
       "<div>\n",
       "<style scoped>\n",
       "    .dataframe tbody tr th:only-of-type {\n",
       "        vertical-align: middle;\n",
       "    }\n",
       "\n",
       "    .dataframe tbody tr th {\n",
       "        vertical-align: top;\n",
       "    }\n",
       "\n",
       "    .dataframe thead th {\n",
       "        text-align: right;\n",
       "    }\n",
       "</style>\n",
       "<table border=\"1\" class=\"dataframe\">\n",
       "  <thead>\n",
       "    <tr style=\"text-align: right;\">\n",
       "      <th></th>\n",
       "      <th>movie_id</th>\n",
       "      <th>movie_title</th>\n",
       "      <th>genre</th>\n",
       "      <th>movie_year</th>\n",
       "      <th>count_mv_id</th>\n",
       "      <th>tr_movie_id</th>\n",
       "    </tr>\n",
       "  </thead>\n",
       "  <tbody>\n",
       "    <tr>\n",
       "      <th>0</th>\n",
       "      <td>10</td>\n",
       "      <td>La sortie des usines Lumière</td>\n",
       "      <td>Documentary|Short</td>\n",
       "      <td>1895</td>\n",
       "      <td>2</td>\n",
       "      <td>0000010</td>\n",
       "    </tr>\n",
       "    <tr>\n",
       "      <th>1</th>\n",
       "      <td>12</td>\n",
       "      <td>The Arrival of a Train</td>\n",
       "      <td>Documentary|Short</td>\n",
       "      <td>1896</td>\n",
       "      <td>2</td>\n",
       "      <td>0000012</td>\n",
       "    </tr>\n",
       "    <tr>\n",
       "      <th>2</th>\n",
       "      <td>25</td>\n",
       "      <td>The Oxford and Cambridge University Boat Race</td>\n",
       "      <td>noGenre</td>\n",
       "      <td>1895</td>\n",
       "      <td>2</td>\n",
       "      <td>0000025</td>\n",
       "    </tr>\n",
       "    <tr>\n",
       "      <th>3</th>\n",
       "      <td>91</td>\n",
       "      <td>Le manoir du diable</td>\n",
       "      <td>Short|Horror</td>\n",
       "      <td>1896</td>\n",
       "      <td>2</td>\n",
       "      <td>0000091</td>\n",
       "    </tr>\n",
       "    <tr>\n",
       "      <th>4</th>\n",
       "      <td>131</td>\n",
       "      <td>Une nuit terrible</td>\n",
       "      <td>Short|Comedy|Horror</td>\n",
       "      <td>1896</td>\n",
       "      <td>3</td>\n",
       "      <td>0000131</td>\n",
       "    </tr>\n",
       "  </tbody>\n",
       "</table>\n",
       "</div>"
      ],
      "text/plain": [
       "   movie_id                                    movie_title  \\\n",
       "0        10                   La sortie des usines Lumière   \n",
       "1        12                         The Arrival of a Train   \n",
       "2        25  The Oxford and Cambridge University Boat Race   \n",
       "3        91                            Le manoir du diable   \n",
       "4       131                              Une nuit terrible   \n",
       "\n",
       "                 genre movie_year  count_mv_id tr_movie_id  \n",
       "0    Documentary|Short       1895            2     0000010  \n",
       "1    Documentary|Short       1896            2     0000012  \n",
       "2              noGenre       1895            2     0000025  \n",
       "3         Short|Horror       1896            2     0000091  \n",
       "4  Short|Comedy|Horror       1896            3     0000131  "
      ]
     },
     "execution_count": 71,
     "metadata": {},
     "output_type": "execute_result"
    }
   ],
   "source": [
    "temp.head()"
   ]
  },
  {
   "cell_type": "code",
   "execution_count": 72,
   "metadata": {},
   "outputs": [
    {
     "data": {
      "text/plain": [
       "0     10\n",
       "1     12\n",
       "2     25\n",
       "3     91\n",
       "4    131\n",
       "Name: movie_id, dtype: int64"
      ]
     },
     "execution_count": 72,
     "metadata": {},
     "output_type": "execute_result"
    }
   ],
   "source": [
    "temp['movie_id'] "
   ]
  },
  {
   "cell_type": "code",
   "execution_count": 73,
   "metadata": {},
   "outputs": [
    {
     "name": "stderr",
     "output_type": "stream",
     "text": [
      "C:\\Users\\alter\\Anaconda3\\lib\\site-packages\\ipykernel_launcher.py:1: SettingWithCopyWarning: \n",
      "A value is trying to be set on a copy of a slice from a DataFrame.\n",
      "Try using .loc[row_indexer,col_indexer] = value instead\n",
      "\n",
      "See the caveats in the documentation: http://pandas.pydata.org/pandas-docs/stable/indexing.html#indexing-view-versus-copy\n",
      "  \"\"\"Entry point for launching an IPython kernel.\n"
     ]
    }
   ],
   "source": [
    "temp['url_imbd'] = 'http://www.imdb.com/title/tt'+temp['tr_movie_id']"
   ]
  },
  {
   "cell_type": "code",
   "execution_count": 74,
   "metadata": {},
   "outputs": [
    {
     "data": {
      "text/html": [
       "<div>\n",
       "<style scoped>\n",
       "    .dataframe tbody tr th:only-of-type {\n",
       "        vertical-align: middle;\n",
       "    }\n",
       "\n",
       "    .dataframe tbody tr th {\n",
       "        vertical-align: top;\n",
       "    }\n",
       "\n",
       "    .dataframe thead th {\n",
       "        text-align: right;\n",
       "    }\n",
       "</style>\n",
       "<table border=\"1\" class=\"dataframe\">\n",
       "  <thead>\n",
       "    <tr style=\"text-align: right;\">\n",
       "      <th></th>\n",
       "      <th>movie_id</th>\n",
       "      <th>movie_title</th>\n",
       "      <th>genre</th>\n",
       "      <th>movie_year</th>\n",
       "      <th>count_mv_id</th>\n",
       "      <th>tr_movie_id</th>\n",
       "      <th>url_imbd</th>\n",
       "    </tr>\n",
       "  </thead>\n",
       "  <tbody>\n",
       "    <tr>\n",
       "      <th>0</th>\n",
       "      <td>10</td>\n",
       "      <td>La sortie des usines Lumière</td>\n",
       "      <td>Documentary|Short</td>\n",
       "      <td>1895</td>\n",
       "      <td>2</td>\n",
       "      <td>0000010</td>\n",
       "      <td>http://www.imdb.com/title/tt0000010</td>\n",
       "    </tr>\n",
       "    <tr>\n",
       "      <th>1</th>\n",
       "      <td>12</td>\n",
       "      <td>The Arrival of a Train</td>\n",
       "      <td>Documentary|Short</td>\n",
       "      <td>1896</td>\n",
       "      <td>2</td>\n",
       "      <td>0000012</td>\n",
       "      <td>http://www.imdb.com/title/tt0000012</td>\n",
       "    </tr>\n",
       "    <tr>\n",
       "      <th>2</th>\n",
       "      <td>25</td>\n",
       "      <td>The Oxford and Cambridge University Boat Race</td>\n",
       "      <td>noGenre</td>\n",
       "      <td>1895</td>\n",
       "      <td>2</td>\n",
       "      <td>0000025</td>\n",
       "      <td>http://www.imdb.com/title/tt0000025</td>\n",
       "    </tr>\n",
       "    <tr>\n",
       "      <th>3</th>\n",
       "      <td>91</td>\n",
       "      <td>Le manoir du diable</td>\n",
       "      <td>Short|Horror</td>\n",
       "      <td>1896</td>\n",
       "      <td>2</td>\n",
       "      <td>0000091</td>\n",
       "      <td>http://www.imdb.com/title/tt0000091</td>\n",
       "    </tr>\n",
       "    <tr>\n",
       "      <th>4</th>\n",
       "      <td>131</td>\n",
       "      <td>Une nuit terrible</td>\n",
       "      <td>Short|Comedy|Horror</td>\n",
       "      <td>1896</td>\n",
       "      <td>3</td>\n",
       "      <td>0000131</td>\n",
       "      <td>http://www.imdb.com/title/tt0000131</td>\n",
       "    </tr>\n",
       "  </tbody>\n",
       "</table>\n",
       "</div>"
      ],
      "text/plain": [
       "   movie_id                                    movie_title  \\\n",
       "0        10                   La sortie des usines Lumière   \n",
       "1        12                         The Arrival of a Train   \n",
       "2        25  The Oxford and Cambridge University Boat Race   \n",
       "3        91                            Le manoir du diable   \n",
       "4       131                              Une nuit terrible   \n",
       "\n",
       "                 genre movie_year  count_mv_id tr_movie_id  \\\n",
       "0    Documentary|Short       1895            2     0000010   \n",
       "1    Documentary|Short       1896            2     0000012   \n",
       "2              noGenre       1895            2     0000025   \n",
       "3         Short|Horror       1896            2     0000091   \n",
       "4  Short|Comedy|Horror       1896            3     0000131   \n",
       "\n",
       "                              url_imbd  \n",
       "0  http://www.imdb.com/title/tt0000010  \n",
       "1  http://www.imdb.com/title/tt0000012  \n",
       "2  http://www.imdb.com/title/tt0000025  \n",
       "3  http://www.imdb.com/title/tt0000091  \n",
       "4  http://www.imdb.com/title/tt0000131  "
      ]
     },
     "execution_count": 74,
     "metadata": {},
     "output_type": "execute_result"
    }
   ],
   "source": [
    "temp.head()"
   ]
  },
  {
   "cell_type": "markdown",
   "metadata": {},
   "source": [
    "At this point of the process the url are all correct and now they are available to be used in web scraping techniques."
   ]
  },
  {
   "cell_type": "code",
   "execution_count": 75,
   "metadata": {},
   "outputs": [],
   "source": [
    "from urllib.request import urlopen\n",
    "from bs4 import BeautifulSoup"
   ]
  },
  {
   "cell_type": "code",
   "execution_count": 76,
   "metadata": {},
   "outputs": [],
   "source": [
    "url = \"http://www.imdb.com/title/tt0000010\"\n",
    "html = urlopen(url)"
   ]
  },
  {
   "cell_type": "code",
   "execution_count": 77,
   "metadata": {},
   "outputs": [
    {
     "data": {
      "text/plain": [
       "bs4.BeautifulSoup"
      ]
     },
     "execution_count": 77,
     "metadata": {},
     "output_type": "execute_result"
    }
   ],
   "source": [
    "soup = BeautifulSoup(html, 'lxml')\n",
    "type(soup)"
   ]
  },
  {
   "cell_type": "code",
   "execution_count": 78,
   "metadata": {},
   "outputs": [
    {
     "name": "stdout",
     "output_type": "stream",
     "text": [
      "<title>La sortie de l'usine Lumière à Lyon (1895) - IMDb</title>\n"
     ]
    }
   ],
   "source": [
    "title = soup.title\n",
    "print(title)"
   ]
  },
  {
   "cell_type": "raw",
   "metadata": {},
   "source": [
    "text = soup.get_text()\n",
    "print(soup.text)"
   ]
  },
  {
   "cell_type": "raw",
   "metadata": {},
   "source": [
    "soup.find_all('p')"
   ]
  },
  {
   "cell_type": "markdown",
   "metadata": {},
   "source": [
    "Working on it..."
   ]
  },
  {
   "cell_type": "markdown",
   "metadata": {},
   "source": [
    "# Vizualization"
   ]
  },
  {
   "cell_type": "code",
   "execution_count": 151,
   "metadata": {},
   "outputs": [
    {
     "data": {
      "text/html": [
       "<div>\n",
       "<style scoped>\n",
       "    .dataframe tbody tr th:only-of-type {\n",
       "        vertical-align: middle;\n",
       "    }\n",
       "\n",
       "    .dataframe tbody tr th {\n",
       "        vertical-align: top;\n",
       "    }\n",
       "\n",
       "    .dataframe thead th {\n",
       "        text-align: right;\n",
       "    }\n",
       "</style>\n",
       "<table border=\"1\" class=\"dataframe\">\n",
       "  <thead>\n",
       "    <tr style=\"text-align: right;\">\n",
       "      <th></th>\n",
       "      <th>user_id</th>\n",
       "      <th>movie_id</th>\n",
       "      <th>rating</th>\n",
       "    </tr>\n",
       "  </thead>\n",
       "  <tbody>\n",
       "    <tr>\n",
       "      <th>count</th>\n",
       "      <td>817080.000000</td>\n",
       "      <td>8.170800e+05</td>\n",
       "      <td>817080.000000</td>\n",
       "    </tr>\n",
       "    <tr>\n",
       "      <th>mean</th>\n",
       "      <td>30238.106427</td>\n",
       "      <td>2.019199e+06</td>\n",
       "      <td>7.304211</td>\n",
       "    </tr>\n",
       "    <tr>\n",
       "      <th>std</th>\n",
       "      <td>17276.247931</td>\n",
       "      <td>1.748650e+06</td>\n",
       "      <td>1.855595</td>\n",
       "    </tr>\n",
       "    <tr>\n",
       "      <th>min</th>\n",
       "      <td>1.000000</td>\n",
       "      <td>8.000000e+00</td>\n",
       "      <td>0.000000</td>\n",
       "    </tr>\n",
       "    <tr>\n",
       "      <th>25%</th>\n",
       "      <td>15465.000000</td>\n",
       "      <td>7.654460e+05</td>\n",
       "      <td>6.000000</td>\n",
       "    </tr>\n",
       "    <tr>\n",
       "      <th>50%</th>\n",
       "      <td>30274.000000</td>\n",
       "      <td>1.675434e+06</td>\n",
       "      <td>7.000000</td>\n",
       "    </tr>\n",
       "    <tr>\n",
       "      <th>75%</th>\n",
       "      <td>45026.000000</td>\n",
       "      <td>2.674426e+06</td>\n",
       "      <td>9.000000</td>\n",
       "    </tr>\n",
       "    <tr>\n",
       "      <th>max</th>\n",
       "      <td>60470.000000</td>\n",
       "      <td>1.121210e+07</td>\n",
       "      <td>10.000000</td>\n",
       "    </tr>\n",
       "  </tbody>\n",
       "</table>\n",
       "</div>"
      ],
      "text/plain": [
       "             user_id      movie_id         rating\n",
       "count  817080.000000  8.170800e+05  817080.000000\n",
       "mean    30238.106427  2.019199e+06       7.304211\n",
       "std     17276.247931  1.748650e+06       1.855595\n",
       "min         1.000000  8.000000e+00       0.000000\n",
       "25%     15465.000000  7.654460e+05       6.000000\n",
       "50%     30274.000000  1.675434e+06       7.000000\n",
       "75%     45026.000000  2.674426e+06       9.000000\n",
       "max     60470.000000  1.121210e+07      10.000000"
      ]
     },
     "execution_count": 151,
     "metadata": {},
     "output_type": "execute_result"
    }
   ],
   "source": [
    "neuf = rat_file\n",
    "neuf.describe()"
   ]
  },
  {
   "cell_type": "code",
   "execution_count": 152,
   "metadata": {
    "scrolled": false
   },
   "outputs": [
    {
     "data": {
      "text/html": [
       "<div>\n",
       "<style scoped>\n",
       "    .dataframe tbody tr th:only-of-type {\n",
       "        vertical-align: middle;\n",
       "    }\n",
       "\n",
       "    .dataframe tbody tr th {\n",
       "        vertical-align: top;\n",
       "    }\n",
       "\n",
       "    .dataframe thead th {\n",
       "        text-align: right;\n",
       "    }\n",
       "</style>\n",
       "<table border=\"1\" class=\"dataframe\">\n",
       "  <thead>\n",
       "    <tr style=\"text-align: right;\">\n",
       "      <th></th>\n",
       "      <th>user_id</th>\n",
       "      <th>movie_id</th>\n",
       "      <th>rating</th>\n",
       "      <th>date</th>\n",
       "      <th>time</th>\n",
       "    </tr>\n",
       "  </thead>\n",
       "  <tbody>\n",
       "    <tr>\n",
       "      <th>0</th>\n",
       "      <td>1</td>\n",
       "      <td>117060</td>\n",
       "      <td>7</td>\n",
       "      <td>2013-07-10</td>\n",
       "      <td>00:13:51</td>\n",
       "    </tr>\n",
       "    <tr>\n",
       "      <th>1</th>\n",
       "      <td>1</td>\n",
       "      <td>120755</td>\n",
       "      <td>6</td>\n",
       "      <td>2013-07-10</td>\n",
       "      <td>02:46:00</td>\n",
       "    </tr>\n",
       "    <tr>\n",
       "      <th>2</th>\n",
       "      <td>1</td>\n",
       "      <td>317919</td>\n",
       "      <td>6</td>\n",
       "      <td>2013-07-10</td>\n",
       "      <td>22:36:03</td>\n",
       "    </tr>\n",
       "    <tr>\n",
       "      <th>3</th>\n",
       "      <td>1</td>\n",
       "      <td>454876</td>\n",
       "      <td>10</td>\n",
       "      <td>2013-07-12</td>\n",
       "      <td>09:25:25</td>\n",
       "    </tr>\n",
       "    <tr>\n",
       "      <th>4</th>\n",
       "      <td>1</td>\n",
       "      <td>790724</td>\n",
       "      <td>8</td>\n",
       "      <td>2013-07-24</td>\n",
       "      <td>04:48:40</td>\n",
       "    </tr>\n",
       "  </tbody>\n",
       "</table>\n",
       "</div>"
      ],
      "text/plain": [
       "   user_id  movie_id  rating       date      time\n",
       "0        1    117060       7 2013-07-10  00:13:51\n",
       "1        1    120755       6 2013-07-10  02:46:00\n",
       "2        1    317919       6 2013-07-10  22:36:03\n",
       "3        1    454876      10 2013-07-12  09:25:25\n",
       "4        1    790724       8 2013-07-24  04:48:40"
      ]
     },
     "execution_count": 152,
     "metadata": {},
     "output_type": "execute_result"
    }
   ],
   "source": [
    "neuf.head()"
   ]
  },
  {
   "cell_type": "code",
   "execution_count": 153,
   "metadata": {},
   "outputs": [
    {
     "data": {
      "text/plain": [
       "array([ 7,  6, 10,  8,  9,  5,  3,  1,  4,  2,  0], dtype=int64)"
      ]
     },
     "execution_count": 153,
     "metadata": {},
     "output_type": "execute_result"
    }
   ],
   "source": [
    "neuf['rating'].unique()"
   ]
  },
  {
   "cell_type": "code",
   "execution_count": 154,
   "metadata": {},
   "outputs": [
    {
     "data": {
      "text/html": [
       "<div>\n",
       "<style scoped>\n",
       "    .dataframe tbody tr th:only-of-type {\n",
       "        vertical-align: middle;\n",
       "    }\n",
       "\n",
       "    .dataframe tbody tr th {\n",
       "        vertical-align: top;\n",
       "    }\n",
       "\n",
       "    .dataframe thead th {\n",
       "        text-align: right;\n",
       "    }\n",
       "</style>\n",
       "<table border=\"1\" class=\"dataframe\">\n",
       "  <thead>\n",
       "    <tr style=\"text-align: right;\">\n",
       "      <th></th>\n",
       "      <th>rating</th>\n",
       "      <th>period</th>\n",
       "    </tr>\n",
       "  </thead>\n",
       "  <tbody>\n",
       "    <tr>\n",
       "      <th>0</th>\n",
       "      <td>7</td>\n",
       "      <td>2013-07-10 00:13:51</td>\n",
       "    </tr>\n",
       "    <tr>\n",
       "      <th>1</th>\n",
       "      <td>6</td>\n",
       "      <td>2013-07-10 02:46:00</td>\n",
       "    </tr>\n",
       "    <tr>\n",
       "      <th>2</th>\n",
       "      <td>6</td>\n",
       "      <td>2013-07-10 22:36:03</td>\n",
       "    </tr>\n",
       "    <tr>\n",
       "      <th>3</th>\n",
       "      <td>10</td>\n",
       "      <td>2013-07-12 09:25:25</td>\n",
       "    </tr>\n",
       "    <tr>\n",
       "      <th>4</th>\n",
       "      <td>8</td>\n",
       "      <td>2013-07-24 04:48:40</td>\n",
       "    </tr>\n",
       "  </tbody>\n",
       "</table>\n",
       "</div>"
      ],
      "text/plain": [
       "   rating               period\n",
       "0       7  2013-07-10 00:13:51\n",
       "1       6  2013-07-10 02:46:00\n",
       "2       6  2013-07-10 22:36:03\n",
       "3      10  2013-07-12 09:25:25\n",
       "4       8  2013-07-24 04:48:40"
      ]
     },
     "execution_count": 154,
     "metadata": {},
     "output_type": "execute_result"
    }
   ],
   "source": [
    "tmp =neuf['rating'].astype('int')\n",
    "p_viz = pd.DataFrame(tmp)\n",
    "p_viz['period'] = neuf[['date', 'time']].astype(str).apply(lambda x: ' '.join(x), axis=1)\n",
    "#p_viz['period'] = result['date']+' '+result['time']\n",
    "\n",
    "p_viz.head()"
   ]
  },
  {
   "cell_type": "code",
   "execution_count": 155,
   "metadata": {},
   "outputs": [
    {
     "data": {
      "text/plain": [
       "rating     int32\n",
       "period    object\n",
       "dtype: object"
      ]
     },
     "execution_count": 155,
     "metadata": {},
     "output_type": "execute_result"
    }
   ],
   "source": [
    "p_viz.dtypes"
   ]
  },
  {
   "cell_type": "code",
   "execution_count": 156,
   "metadata": {},
   "outputs": [],
   "source": [
    "#p_viz['rating'] = p_viz['rating']\n",
    "p_viz['period'] = pd.to_datetime(p_viz['period'])"
   ]
  },
  {
   "cell_type": "code",
   "execution_count": 157,
   "metadata": {},
   "outputs": [],
   "source": [
    "p_viz = p_viz.set_index(p_viz['period'])\n",
    "p_viz = p_viz.drop(['period'], axis=1)\n",
    "#df.set_index(pd.to_datetime(df['Date']))"
   ]
  },
  {
   "cell_type": "code",
   "execution_count": 158,
   "metadata": {},
   "outputs": [
    {
     "data": {
      "text/plain": [
       "rating    int32\n",
       "dtype: object"
      ]
     },
     "execution_count": 158,
     "metadata": {},
     "output_type": "execute_result"
    }
   ],
   "source": [
    "p_viz.dtypes"
   ]
  },
  {
   "cell_type": "code",
   "execution_count": 159,
   "metadata": {
    "scrolled": true
   },
   "outputs": [
    {
     "data": {
      "text/html": [
       "<div>\n",
       "<style scoped>\n",
       "    .dataframe tbody tr th:only-of-type {\n",
       "        vertical-align: middle;\n",
       "    }\n",
       "\n",
       "    .dataframe tbody tr th {\n",
       "        vertical-align: top;\n",
       "    }\n",
       "\n",
       "    .dataframe thead th {\n",
       "        text-align: right;\n",
       "    }\n",
       "</style>\n",
       "<table border=\"1\" class=\"dataframe\">\n",
       "  <thead>\n",
       "    <tr style=\"text-align: right;\">\n",
       "      <th></th>\n",
       "      <th>rating</th>\n",
       "    </tr>\n",
       "    <tr>\n",
       "      <th>period</th>\n",
       "      <th></th>\n",
       "    </tr>\n",
       "  </thead>\n",
       "  <tbody>\n",
       "    <tr>\n",
       "      <th>2013-02-28 14:30:00</th>\n",
       "      <td>8.0</td>\n",
       "    </tr>\n",
       "    <tr>\n",
       "      <th>2013-02-28 14:45:00</th>\n",
       "      <td>7.0</td>\n",
       "    </tr>\n",
       "    <tr>\n",
       "      <th>2013-02-28 15:00:00</th>\n",
       "      <td>9.0</td>\n",
       "    </tr>\n",
       "    <tr>\n",
       "      <th>2013-02-28 15:15:00</th>\n",
       "      <td>7.0</td>\n",
       "    </tr>\n",
       "    <tr>\n",
       "      <th>2013-02-28 15:30:00</th>\n",
       "      <td>7.0</td>\n",
       "    </tr>\n",
       "    <tr>\n",
       "      <th>2013-02-28 15:45:00</th>\n",
       "      <td>5.0</td>\n",
       "    </tr>\n",
       "    <tr>\n",
       "      <th>2013-02-28 16:00:00</th>\n",
       "      <td>8.0</td>\n",
       "    </tr>\n",
       "    <tr>\n",
       "      <th>2013-02-28 16:15:00</th>\n",
       "      <td>8.0</td>\n",
       "    </tr>\n",
       "    <tr>\n",
       "      <th>2013-02-28 16:30:00</th>\n",
       "      <td>10.0</td>\n",
       "    </tr>\n",
       "    <tr>\n",
       "      <th>2013-02-28 16:45:00</th>\n",
       "      <td>10.0</td>\n",
       "    </tr>\n",
       "    <tr>\n",
       "      <th>2013-02-28 17:00:00</th>\n",
       "      <td>7.0</td>\n",
       "    </tr>\n",
       "    <tr>\n",
       "      <th>2013-02-28 17:15:00</th>\n",
       "      <td>8.0</td>\n",
       "    </tr>\n",
       "    <tr>\n",
       "      <th>2013-02-28 17:30:00</th>\n",
       "      <td>5.0</td>\n",
       "    </tr>\n",
       "    <tr>\n",
       "      <th>2013-02-28 17:45:00</th>\n",
       "      <td>7.0</td>\n",
       "    </tr>\n",
       "    <tr>\n",
       "      <th>2013-02-28 18:00:00</th>\n",
       "      <td>10.0</td>\n",
       "    </tr>\n",
       "    <tr>\n",
       "      <th>2013-02-28 18:15:00</th>\n",
       "      <td>5.0</td>\n",
       "    </tr>\n",
       "    <tr>\n",
       "      <th>2013-02-28 18:30:00</th>\n",
       "      <td>8.0</td>\n",
       "    </tr>\n",
       "    <tr>\n",
       "      <th>2013-02-28 18:45:00</th>\n",
       "      <td>8.0</td>\n",
       "    </tr>\n",
       "    <tr>\n",
       "      <th>2013-02-28 19:00:00</th>\n",
       "      <td>8.0</td>\n",
       "    </tr>\n",
       "    <tr>\n",
       "      <th>2013-02-28 19:15:00</th>\n",
       "      <td>9.0</td>\n",
       "    </tr>\n",
       "    <tr>\n",
       "      <th>2013-02-28 19:30:00</th>\n",
       "      <td>7.0</td>\n",
       "    </tr>\n",
       "    <tr>\n",
       "      <th>2013-02-28 19:45:00</th>\n",
       "      <td>9.0</td>\n",
       "    </tr>\n",
       "    <tr>\n",
       "      <th>2013-02-28 20:00:00</th>\n",
       "      <td>5.0</td>\n",
       "    </tr>\n",
       "    <tr>\n",
       "      <th>2013-02-28 20:15:00</th>\n",
       "      <td>6.0</td>\n",
       "    </tr>\n",
       "    <tr>\n",
       "      <th>2013-02-28 20:30:00</th>\n",
       "      <td>7.0</td>\n",
       "    </tr>\n",
       "    <tr>\n",
       "      <th>2013-02-28 20:45:00</th>\n",
       "      <td>10.0</td>\n",
       "    </tr>\n",
       "    <tr>\n",
       "      <th>2013-02-28 21:00:00</th>\n",
       "      <td>7.0</td>\n",
       "    </tr>\n",
       "    <tr>\n",
       "      <th>2013-02-28 21:15:00</th>\n",
       "      <td>10.0</td>\n",
       "    </tr>\n",
       "    <tr>\n",
       "      <th>2013-02-28 21:30:00</th>\n",
       "      <td>9.0</td>\n",
       "    </tr>\n",
       "    <tr>\n",
       "      <th>2013-02-28 21:45:00</th>\n",
       "      <td>8.0</td>\n",
       "    </tr>\n",
       "    <tr>\n",
       "      <th>...</th>\n",
       "      <td>...</td>\n",
       "    </tr>\n",
       "    <tr>\n",
       "      <th>2019-11-21 16:45:00</th>\n",
       "      <td>7.0</td>\n",
       "    </tr>\n",
       "    <tr>\n",
       "      <th>2019-11-21 17:00:00</th>\n",
       "      <td>8.0</td>\n",
       "    </tr>\n",
       "    <tr>\n",
       "      <th>2019-11-21 17:15:00</th>\n",
       "      <td>5.0</td>\n",
       "    </tr>\n",
       "    <tr>\n",
       "      <th>2019-11-21 17:30:00</th>\n",
       "      <td>10.0</td>\n",
       "    </tr>\n",
       "    <tr>\n",
       "      <th>2019-11-21 17:45:00</th>\n",
       "      <td>9.0</td>\n",
       "    </tr>\n",
       "    <tr>\n",
       "      <th>2019-11-21 18:00:00</th>\n",
       "      <td>6.0</td>\n",
       "    </tr>\n",
       "    <tr>\n",
       "      <th>2019-11-21 18:15:00</th>\n",
       "      <td>9.0</td>\n",
       "    </tr>\n",
       "    <tr>\n",
       "      <th>2019-11-21 18:30:00</th>\n",
       "      <td>5.0</td>\n",
       "    </tr>\n",
       "    <tr>\n",
       "      <th>2019-11-21 18:45:00</th>\n",
       "      <td>6.0</td>\n",
       "    </tr>\n",
       "    <tr>\n",
       "      <th>2019-11-21 19:00:00</th>\n",
       "      <td>8.0</td>\n",
       "    </tr>\n",
       "    <tr>\n",
       "      <th>2019-11-21 19:15:00</th>\n",
       "      <td>5.0</td>\n",
       "    </tr>\n",
       "    <tr>\n",
       "      <th>2019-11-21 19:30:00</th>\n",
       "      <td>8.0</td>\n",
       "    </tr>\n",
       "    <tr>\n",
       "      <th>2019-11-21 19:45:00</th>\n",
       "      <td>10.0</td>\n",
       "    </tr>\n",
       "    <tr>\n",
       "      <th>2019-11-21 20:00:00</th>\n",
       "      <td>5.0</td>\n",
       "    </tr>\n",
       "    <tr>\n",
       "      <th>2019-11-21 20:15:00</th>\n",
       "      <td>8.0</td>\n",
       "    </tr>\n",
       "    <tr>\n",
       "      <th>2019-11-21 20:30:00</th>\n",
       "      <td>5.0</td>\n",
       "    </tr>\n",
       "    <tr>\n",
       "      <th>2019-11-21 20:45:00</th>\n",
       "      <td>8.0</td>\n",
       "    </tr>\n",
       "    <tr>\n",
       "      <th>2019-11-21 21:00:00</th>\n",
       "      <td>8.0</td>\n",
       "    </tr>\n",
       "    <tr>\n",
       "      <th>2019-11-21 21:15:00</th>\n",
       "      <td>10.0</td>\n",
       "    </tr>\n",
       "    <tr>\n",
       "      <th>2019-11-21 21:30:00</th>\n",
       "      <td>9.0</td>\n",
       "    </tr>\n",
       "    <tr>\n",
       "      <th>2019-11-21 21:45:00</th>\n",
       "      <td>6.0</td>\n",
       "    </tr>\n",
       "    <tr>\n",
       "      <th>2019-11-21 22:00:00</th>\n",
       "      <td>8.0</td>\n",
       "    </tr>\n",
       "    <tr>\n",
       "      <th>2019-11-21 22:15:00</th>\n",
       "      <td>9.0</td>\n",
       "    </tr>\n",
       "    <tr>\n",
       "      <th>2019-11-21 22:30:00</th>\n",
       "      <td>NaN</td>\n",
       "    </tr>\n",
       "    <tr>\n",
       "      <th>2019-11-21 22:45:00</th>\n",
       "      <td>9.0</td>\n",
       "    </tr>\n",
       "    <tr>\n",
       "      <th>2019-11-21 23:00:00</th>\n",
       "      <td>10.0</td>\n",
       "    </tr>\n",
       "    <tr>\n",
       "      <th>2019-11-21 23:15:00</th>\n",
       "      <td>7.0</td>\n",
       "    </tr>\n",
       "    <tr>\n",
       "      <th>2019-11-21 23:30:00</th>\n",
       "      <td>8.0</td>\n",
       "    </tr>\n",
       "    <tr>\n",
       "      <th>2019-11-21 23:45:00</th>\n",
       "      <td>6.0</td>\n",
       "    </tr>\n",
       "    <tr>\n",
       "      <th>2019-11-22 00:00:00</th>\n",
       "      <td>9.0</td>\n",
       "    </tr>\n",
       "  </tbody>\n",
       "</table>\n",
       "<p>235911 rows × 1 columns</p>\n",
       "</div>"
      ],
      "text/plain": [
       "                     rating\n",
       "period                     \n",
       "2013-02-28 14:30:00     8.0\n",
       "2013-02-28 14:45:00     7.0\n",
       "2013-02-28 15:00:00     9.0\n",
       "2013-02-28 15:15:00     7.0\n",
       "2013-02-28 15:30:00     7.0\n",
       "2013-02-28 15:45:00     5.0\n",
       "2013-02-28 16:00:00     8.0\n",
       "2013-02-28 16:15:00     8.0\n",
       "2013-02-28 16:30:00    10.0\n",
       "2013-02-28 16:45:00    10.0\n",
       "2013-02-28 17:00:00     7.0\n",
       "2013-02-28 17:15:00     8.0\n",
       "2013-02-28 17:30:00     5.0\n",
       "2013-02-28 17:45:00     7.0\n",
       "2013-02-28 18:00:00    10.0\n",
       "2013-02-28 18:15:00     5.0\n",
       "2013-02-28 18:30:00     8.0\n",
       "2013-02-28 18:45:00     8.0\n",
       "2013-02-28 19:00:00     8.0\n",
       "2013-02-28 19:15:00     9.0\n",
       "2013-02-28 19:30:00     7.0\n",
       "2013-02-28 19:45:00     9.0\n",
       "2013-02-28 20:00:00     5.0\n",
       "2013-02-28 20:15:00     6.0\n",
       "2013-02-28 20:30:00     7.0\n",
       "2013-02-28 20:45:00    10.0\n",
       "2013-02-28 21:00:00     7.0\n",
       "2013-02-28 21:15:00    10.0\n",
       "2013-02-28 21:30:00     9.0\n",
       "2013-02-28 21:45:00     8.0\n",
       "...                     ...\n",
       "2019-11-21 16:45:00     7.0\n",
       "2019-11-21 17:00:00     8.0\n",
       "2019-11-21 17:15:00     5.0\n",
       "2019-11-21 17:30:00    10.0\n",
       "2019-11-21 17:45:00     9.0\n",
       "2019-11-21 18:00:00     6.0\n",
       "2019-11-21 18:15:00     9.0\n",
       "2019-11-21 18:30:00     5.0\n",
       "2019-11-21 18:45:00     6.0\n",
       "2019-11-21 19:00:00     8.0\n",
       "2019-11-21 19:15:00     5.0\n",
       "2019-11-21 19:30:00     8.0\n",
       "2019-11-21 19:45:00    10.0\n",
       "2019-11-21 20:00:00     5.0\n",
       "2019-11-21 20:15:00     8.0\n",
       "2019-11-21 20:30:00     5.0\n",
       "2019-11-21 20:45:00     8.0\n",
       "2019-11-21 21:00:00     8.0\n",
       "2019-11-21 21:15:00    10.0\n",
       "2019-11-21 21:30:00     9.0\n",
       "2019-11-21 21:45:00     6.0\n",
       "2019-11-21 22:00:00     8.0\n",
       "2019-11-21 22:15:00     9.0\n",
       "2019-11-21 22:30:00     NaN\n",
       "2019-11-21 22:45:00     9.0\n",
       "2019-11-21 23:00:00    10.0\n",
       "2019-11-21 23:15:00     7.0\n",
       "2019-11-21 23:30:00     8.0\n",
       "2019-11-21 23:45:00     6.0\n",
       "2019-11-22 00:00:00     9.0\n",
       "\n",
       "[235911 rows x 1 columns]"
      ]
     },
     "execution_count": 159,
     "metadata": {},
     "output_type": "execute_result"
    }
   ],
   "source": [
    "p_viz.resample('15T').last()"
   ]
  },
  {
   "cell_type": "markdown",
   "metadata": {},
   "source": [
    "Distribution of the rating along the time."
   ]
  },
  {
   "cell_type": "code",
   "execution_count": 183,
   "metadata": {
    "scrolled": true
   },
   "outputs": [
    {
     "data": {
      "text/plain": [
       "[<matplotlib.lines.Line2D at 0x243d2353518>,\n",
       " <matplotlib.lines.Line2D at 0x243d23079e8>,\n",
       " <matplotlib.lines.Line2D at 0x243d2307518>]"
      ]
     },
     "execution_count": 183,
     "metadata": {},
     "output_type": "execute_result"
    },
    {
     "data": {
      "image/png": "[encoded data removed]",
      "text/plain": [
       "<Figure size 1080x432 with 1 Axes>"
      ]
     },
     "metadata": {
      "needs_background": "light"
     },
     "output_type": "display_data"
    }
   ],
   "source": [
    "plt.figure(figsize=(15,6))\n",
    "plt.plot(p_viz.resample('6D').agg(['min','mean','max']))"
   ]
  },
  {
   "cell_type": "code",
   "execution_count": 178,
   "metadata": {},
   "outputs": [
    {
     "data": {
      "image/png": "[encoded data removed]",
      "text/plain": [
       "<Figure size 1080x288 with 3 Axes>"
      ]
     },
     "metadata": {
      "needs_background": "light"
     },
     "output_type": "display_data"
    }
   ],
   "source": [
    "fig, axes = plt.subplots(1,3,figsize=(15,4))\n",
    "for i, freq in enumerate(['24H','3D','7D']):\n",
    "    p_viz.resample(freq).agg(['max','mean','min']).plot(ax= axes[i], title=freq)"
   ]
  },
  {
   "cell_type": "markdown",
   "metadata": {},
   "source": [
    "# Playground area"
   ]
  },
  {
   "cell_type": "code",
   "execution_count": null,
   "metadata": {
    "scrolled": true
   },
   "outputs": [],
   "source": [
    "import pandas as pd\n",
    "df = pd.DataFrame(['a b c']*100000, columns=['col'])\n",
    "df.head()"
   ]
  },
  {
   "cell_type": "code",
   "execution_count": null,
   "metadata": {
    "scrolled": true
   },
   "outputs": [],
   "source": [
    "print (pd.DataFrame(dict(zip(range(3), [df['col'].apply(lambda x : x.split(' ')[i]) for i in range(3)]))).head())"
   ]
  },
  {
   "cell_type": "code",
   "execution_count": null,
   "metadata": {
    "scrolled": true
   },
   "outputs": [],
   "source": [
    "s = pruebas['genre'].str.split('|')\n",
    "s"
   ]
  },
  {
   "cell_type": "code",
   "execution_count": null,
   "metadata": {},
   "outputs": [],
   "source": [
    "q = pruebas['genre'].str.split('|').tolist()\n",
    "q"
   ]
  },
  {
   "cell_type": "code",
   "execution_count": null,
   "metadata": {
    "scrolled": false
   },
   "outputs": [],
   "source": [
    "pd.DataFrame(dict(zip(range(16), [pruebas['genre'].apply(lambda x : x.split('|')[i]) for i in range(2)])))"
   ]
  },
  {
   "cell_type": "code",
   "execution_count": null,
   "metadata": {},
   "outputs": [],
   "source": [
    "s = pruebas['genre'].str.split('|').apply(pd.Series, 1).stack()\n",
    "s"
   ]
  },
  {
   "cell_type": "code",
   "execution_count": null,
   "metadata": {
    "scrolled": true
   },
   "outputs": [],
   "source": [
    "s.index = s.index.droplevel(-1)\n",
    "s.name = 'genres'\n",
    "s"
   ]
  },
  {
   "cell_type": "code",
   "execution_count": null,
   "metadata": {},
   "outputs": [],
   "source": []
  },
  {
   "cell_type": "code",
   "execution_count": null,
   "metadata": {},
   "outputs": [],
   "source": []
  }
 ],
 "metadata": {
  "kernelspec": {
   "display_name": "Python 3",
   "language": "python",
   "name": "python3"
  },
  "language_info": {
   "codemirror_mode": {
    "name": "ipython",
    "version": 3
   },
   "file_extension": ".py",
   "mimetype": "text/x-python",
   "name": "python",
   "nbconvert_exporter": "python",
   "pygments_lexer": "ipython3",
   "version": "3.7.0"
  }
 },
 "nbformat": 4,
 "nbformat_minor": 2
}
