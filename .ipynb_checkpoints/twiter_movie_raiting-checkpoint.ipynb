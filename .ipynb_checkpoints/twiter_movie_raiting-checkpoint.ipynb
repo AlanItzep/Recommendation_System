{
 "cells": [
  {
   "cell_type": "code",
   "execution_count": 1,
   "metadata": {},
   "outputs": [],
   "source": [
    "import pandas as pd\n",
    "import numpy as np\n",
    "import requests\n",
    "import io\n",
    "from datetime import datetime"
   ]
  },
  {
   "cell_type": "markdown",
   "metadata": {},
   "source": [
    "## Pruebas de carga local"
   ]
  },
  {
   "cell_type": "raw",
   "metadata": {},
   "source": [
    "itm_file = pd.read_csv('movies.dat', sep='::', engine='python')\n",
    "use_file = pd.read_csv('users.dat', sep='::', engine='python')\n",
    "rat_file = pd.read_csv('ratings.dat', sep='::', engine='python')\n",
    "\n",
    "itm_file.columns = ['movie_id', 'movie_title', 'genre']\n",
    "use_file.columns = ['userid', 'twitter_id']\n",
    "rat_file.columns = ['user_id','movie_id','rating','rating_timestamp']"
   ]
  },
  {
   "cell_type": "markdown",
   "metadata": {},
   "source": [
    "## Pruebas de carga desde una URL"
   ]
  },
  {
   "cell_type": "raw",
   "metadata": {},
   "source": [
    "url=\"https://raw.githubusercontent.com/sidooms/MovieTweetings/master/latest/movies.dat\"\n",
    "c=pd.read_csv(url, sep='::',encoding='utf8',error_bad_lines=False,engine='python')\n",
    "c.columns = ['movie_id', 'movie_title', 'genre']\n",
    "c"
   ]
  },
  {
   "cell_type": "markdown",
   "metadata": {},
   "source": [
    "## Inicio"
   ]
  },
  {
   "cell_type": "code",
   "execution_count": 2,
   "metadata": {
    "scrolled": true
   },
   "outputs": [],
   "source": [
    "url_items = \"https://raw.githubusercontent.com/sidooms/MovieTweetings/master/latest/movies.dat\"\n",
    "url_ratin = \"https://raw.githubusercontent.com/sidooms/MovieTweetings/master/latest/ratings.dat\"\n",
    "url_users = \"https://raw.githubusercontent.com/sidooms/MovieTweetings/master/latest/users.dat\"\n",
    "\n",
    "itm_file = pd.read_csv(url_items, sep='::',encoding='utf8',error_bad_lines=False,engine='python')\n",
    "use_file = pd.read_csv(url_users, sep='::',encoding='utf8',error_bad_lines=False,engine='python')\n",
    "rat_file = pd.read_csv(url_ratin, sep='::',encoding='utf8',error_bad_lines=False,engine='python')\n",
    "\n",
    "itm_file.columns = ['movie_id', 'movie_title', 'genre']\n",
    "use_file.columns = ['userid', 'twitter_id']\n",
    "rat_file.columns = ['user_id','movie_id','rating','rating_timestamp']"
   ]
  },
  {
   "cell_type": "code",
   "execution_count": 3,
   "metadata": {
    "scrolled": true
   },
   "outputs": [
    {
     "data": {
      "text/html": [
       "<div>\n",
       "<style scoped>\n",
       "    .dataframe tbody tr th:only-of-type {\n",
       "        vertical-align: middle;\n",
       "    }\n",
       "\n",
       "    .dataframe tbody tr th {\n",
       "        vertical-align: top;\n",
       "    }\n",
       "\n",
       "    .dataframe thead th {\n",
       "        text-align: right;\n",
       "    }\n",
       "</style>\n",
       "<table border=\"1\" class=\"dataframe\">\n",
       "  <thead>\n",
       "    <tr style=\"text-align: right;\">\n",
       "      <th></th>\n",
       "      <th>movie_id</th>\n",
       "      <th>movie_title</th>\n",
       "      <th>genre</th>\n",
       "    </tr>\n",
       "  </thead>\n",
       "  <tbody>\n",
       "    <tr>\n",
       "      <th>0</th>\n",
       "      <td>10</td>\n",
       "      <td>La sortie des usines Lumière (1895)</td>\n",
       "      <td>Documentary|Short</td>\n",
       "    </tr>\n",
       "    <tr>\n",
       "      <th>1</th>\n",
       "      <td>12</td>\n",
       "      <td>The Arrival of a Train (1896)</td>\n",
       "      <td>Documentary|Short</td>\n",
       "    </tr>\n",
       "    <tr>\n",
       "      <th>2</th>\n",
       "      <td>25</td>\n",
       "      <td>The Oxford and Cambridge University Boat Race ...</td>\n",
       "      <td>NaN</td>\n",
       "    </tr>\n",
       "    <tr>\n",
       "      <th>3</th>\n",
       "      <td>91</td>\n",
       "      <td>Le manoir du diable (1896)</td>\n",
       "      <td>Short|Horror</td>\n",
       "    </tr>\n",
       "    <tr>\n",
       "      <th>4</th>\n",
       "      <td>131</td>\n",
       "      <td>Une nuit terrible (1896)</td>\n",
       "      <td>Short|Comedy|Horror</td>\n",
       "    </tr>\n",
       "  </tbody>\n",
       "</table>\n",
       "</div>"
      ],
      "text/plain": [
       "   movie_id                                        movie_title  \\\n",
       "0        10                La sortie des usines Lumière (1895)   \n",
       "1        12                      The Arrival of a Train (1896)   \n",
       "2        25  The Oxford and Cambridge University Boat Race ...   \n",
       "3        91                         Le manoir du diable (1896)   \n",
       "4       131                           Une nuit terrible (1896)   \n",
       "\n",
       "                 genre  \n",
       "0    Documentary|Short  \n",
       "1    Documentary|Short  \n",
       "2                  NaN  \n",
       "3         Short|Horror  \n",
       "4  Short|Comedy|Horror  "
      ]
     },
     "execution_count": 3,
     "metadata": {},
     "output_type": "execute_result"
    }
   ],
   "source": [
    "itm_file.head() "
   ]
  },
  {
   "cell_type": "code",
   "execution_count": 4,
   "metadata": {},
   "outputs": [
    {
     "data": {
      "text/plain": [
       "(34421, 3)"
      ]
     },
     "execution_count": 4,
     "metadata": {},
     "output_type": "execute_result"
    }
   ],
   "source": [
    "itm_file.shape"
   ]
  },
  {
   "cell_type": "code",
   "execution_count": 5,
   "metadata": {
    "scrolled": false
   },
   "outputs": [
    {
     "data": {
      "text/html": [
       "<div>\n",
       "<style scoped>\n",
       "    .dataframe tbody tr th:only-of-type {\n",
       "        vertical-align: middle;\n",
       "    }\n",
       "\n",
       "    .dataframe tbody tr th {\n",
       "        vertical-align: top;\n",
       "    }\n",
       "\n",
       "    .dataframe thead th {\n",
       "        text-align: right;\n",
       "    }\n",
       "</style>\n",
       "<table border=\"1\" class=\"dataframe\">\n",
       "  <thead>\n",
       "    <tr style=\"text-align: right;\">\n",
       "      <th></th>\n",
       "      <th>userid</th>\n",
       "      <th>twitter_id</th>\n",
       "    </tr>\n",
       "  </thead>\n",
       "  <tbody>\n",
       "    <tr>\n",
       "      <th>0</th>\n",
       "      <td>2</td>\n",
       "      <td>40501255</td>\n",
       "    </tr>\n",
       "    <tr>\n",
       "      <th>1</th>\n",
       "      <td>3</td>\n",
       "      <td>417333257</td>\n",
       "    </tr>\n",
       "    <tr>\n",
       "      <th>2</th>\n",
       "      <td>4</td>\n",
       "      <td>138805259</td>\n",
       "    </tr>\n",
       "    <tr>\n",
       "      <th>3</th>\n",
       "      <td>5</td>\n",
       "      <td>2452094989</td>\n",
       "    </tr>\n",
       "    <tr>\n",
       "      <th>4</th>\n",
       "      <td>6</td>\n",
       "      <td>391774225</td>\n",
       "    </tr>\n",
       "  </tbody>\n",
       "</table>\n",
       "</div>"
      ],
      "text/plain": [
       "   userid  twitter_id\n",
       "0       2    40501255\n",
       "1       3   417333257\n",
       "2       4   138805259\n",
       "3       5  2452094989\n",
       "4       6   391774225"
      ]
     },
     "execution_count": 5,
     "metadata": {},
     "output_type": "execute_result"
    }
   ],
   "source": [
    "use_file.head()"
   ]
  },
  {
   "cell_type": "code",
   "execution_count": 6,
   "metadata": {},
   "outputs": [
    {
     "data": {
      "text/plain": [
       "(60279, 2)"
      ]
     },
     "execution_count": 6,
     "metadata": {},
     "output_type": "execute_result"
    }
   ],
   "source": [
    "use_file.shape"
   ]
  },
  {
   "cell_type": "code",
   "execution_count": 7,
   "metadata": {},
   "outputs": [],
   "source": [
    "use_file = use_file.rename(columns = {'userid':'user_id'})"
   ]
  },
  {
   "cell_type": "code",
   "execution_count": 8,
   "metadata": {
    "scrolled": true
   },
   "outputs": [
    {
     "data": {
      "text/html": [
       "<div>\n",
       "<style scoped>\n",
       "    .dataframe tbody tr th:only-of-type {\n",
       "        vertical-align: middle;\n",
       "    }\n",
       "\n",
       "    .dataframe tbody tr th {\n",
       "        vertical-align: top;\n",
       "    }\n",
       "\n",
       "    .dataframe thead th {\n",
       "        text-align: right;\n",
       "    }\n",
       "</style>\n",
       "<table border=\"1\" class=\"dataframe\">\n",
       "  <thead>\n",
       "    <tr style=\"text-align: right;\">\n",
       "      <th></th>\n",
       "      <th>user_id</th>\n",
       "      <th>movie_id</th>\n",
       "      <th>rating</th>\n",
       "      <th>rating_timestamp</th>\n",
       "    </tr>\n",
       "  </thead>\n",
       "  <tbody>\n",
       "    <tr>\n",
       "      <th>814225</th>\n",
       "      <td>60278</td>\n",
       "      <td>8695030</td>\n",
       "      <td>1</td>\n",
       "      <td>1567816456</td>\n",
       "    </tr>\n",
       "    <tr>\n",
       "      <th>814226</th>\n",
       "      <td>60278</td>\n",
       "      <td>9398640</td>\n",
       "      <td>1</td>\n",
       "      <td>1569026144</td>\n",
       "    </tr>\n",
       "    <tr>\n",
       "      <th>814227</th>\n",
       "      <td>60279</td>\n",
       "      <td>816711</td>\n",
       "      <td>8</td>\n",
       "      <td>1371972851</td>\n",
       "    </tr>\n",
       "    <tr>\n",
       "      <th>814228</th>\n",
       "      <td>60280</td>\n",
       "      <td>1559547</td>\n",
       "      <td>2</td>\n",
       "      <td>1373287369</td>\n",
       "    </tr>\n",
       "    <tr>\n",
       "      <th>814229</th>\n",
       "      <td>60280</td>\n",
       "      <td>2415464</td>\n",
       "      <td>2</td>\n",
       "      <td>1373772560</td>\n",
       "    </tr>\n",
       "  </tbody>\n",
       "</table>\n",
       "</div>"
      ],
      "text/plain": [
       "        user_id  movie_id  rating  rating_timestamp\n",
       "814225    60278   8695030       1        1567816456\n",
       "814226    60278   9398640       1        1569026144\n",
       "814227    60279    816711       8        1371972851\n",
       "814228    60280   1559547       2        1373287369\n",
       "814229    60280   2415464       2        1373772560"
      ]
     },
     "execution_count": 8,
     "metadata": {},
     "output_type": "execute_result"
    }
   ],
   "source": [
    "rat_file.tail()"
   ]
  },
  {
   "cell_type": "code",
   "execution_count": 9,
   "metadata": {},
   "outputs": [
    {
     "data": {
      "text/plain": [
       "(814230, 4)"
      ]
     },
     "execution_count": 9,
     "metadata": {},
     "output_type": "execute_result"
    }
   ],
   "source": [
    "rat_file.shape"
   ]
  },
  {
   "cell_type": "code",
   "execution_count": 10,
   "metadata": {
    "scrolled": true
   },
   "outputs": [
    {
     "data": {
      "text/html": [
       "<div>\n",
       "<style scoped>\n",
       "    .dataframe tbody tr th:only-of-type {\n",
       "        vertical-align: middle;\n",
       "    }\n",
       "\n",
       "    .dataframe tbody tr th {\n",
       "        vertical-align: top;\n",
       "    }\n",
       "\n",
       "    .dataframe thead th {\n",
       "        text-align: right;\n",
       "    }\n",
       "</style>\n",
       "<table border=\"1\" class=\"dataframe\">\n",
       "  <thead>\n",
       "    <tr style=\"text-align: right;\">\n",
       "      <th></th>\n",
       "      <th>user_id</th>\n",
       "      <th>movie_id</th>\n",
       "      <th>rating</th>\n",
       "      <th>rating_timestamp</th>\n",
       "    </tr>\n",
       "  </thead>\n",
       "  <tbody>\n",
       "    <tr>\n",
       "      <th>814225</th>\n",
       "      <td>60278</td>\n",
       "      <td>8695030</td>\n",
       "      <td>1</td>\n",
       "      <td>2019-09-07 00:34:16</td>\n",
       "    </tr>\n",
       "    <tr>\n",
       "      <th>814226</th>\n",
       "      <td>60278</td>\n",
       "      <td>9398640</td>\n",
       "      <td>1</td>\n",
       "      <td>2019-09-21 00:35:44</td>\n",
       "    </tr>\n",
       "    <tr>\n",
       "      <th>814227</th>\n",
       "      <td>60279</td>\n",
       "      <td>816711</td>\n",
       "      <td>8</td>\n",
       "      <td>2013-06-23 07:34:11</td>\n",
       "    </tr>\n",
       "    <tr>\n",
       "      <th>814228</th>\n",
       "      <td>60280</td>\n",
       "      <td>1559547</td>\n",
       "      <td>2</td>\n",
       "      <td>2013-07-08 12:42:49</td>\n",
       "    </tr>\n",
       "    <tr>\n",
       "      <th>814229</th>\n",
       "      <td>60280</td>\n",
       "      <td>2415464</td>\n",
       "      <td>2</td>\n",
       "      <td>2013-07-14 03:29:20</td>\n",
       "    </tr>\n",
       "  </tbody>\n",
       "</table>\n",
       "</div>"
      ],
      "text/plain": [
       "        user_id  movie_id  rating    rating_timestamp\n",
       "814225    60278   8695030       1 2019-09-07 00:34:16\n",
       "814226    60278   9398640       1 2019-09-21 00:35:44\n",
       "814227    60279    816711       8 2013-06-23 07:34:11\n",
       "814228    60280   1559547       2 2013-07-08 12:42:49\n",
       "814229    60280   2415464       2 2013-07-14 03:29:20"
      ]
     },
     "execution_count": 10,
     "metadata": {},
     "output_type": "execute_result"
    }
   ],
   "source": [
    "rat_file['rating_timestamp'] = pd.to_datetime(rat_file['rating_timestamp'], unit='s')\n",
    "rat_file.tail()"
   ]
  },
  {
   "cell_type": "code",
   "execution_count": null,
   "metadata": {},
   "outputs": [],
   "source": [
    "rat_file = rat_file.rename(columns = {'rating_timestamp':'date'})\n",
    "rat_file['time'] = rat_file['date'].astype(str)\n",
    "rat_file['date'] = rat_file['date'].astype(str)"
   ]
  },
  {
   "cell_type": "code",
   "execution_count": null,
   "metadata": {},
   "outputs": [],
   "source": [
    "rat_file.time.dtype"
   ]
  },
  {
   "cell_type": "code",
   "execution_count": null,
   "metadata": {},
   "outputs": [],
   "source": [
    "rat_file['date'] = rat_file['date'].str.split(' ').str[0]\n",
    "rat_file['time'] = rat_file['time'].str[-8:]"
   ]
  },
  {
   "cell_type": "code",
   "execution_count": null,
   "metadata": {},
   "outputs": [],
   "source": [
    "rat_file.head()"
   ]
  },
  {
   "cell_type": "code",
   "execution_count": null,
   "metadata": {},
   "outputs": [],
   "source": [
    "itm_file['movie_year'] = itm_file['movie_title']"
   ]
  },
  {
   "cell_type": "code",
   "execution_count": null,
   "metadata": {},
   "outputs": [],
   "source": [
    "itm_file['movie_title'] = itm_file['movie_title'].str.split('(').str[0]\n",
    "itm_file['movie_title'] = itm_file['movie_title'].str.strip()\n",
    "itm_file['movie_year'] = itm_file['movie_year'].str[-6:]"
   ]
  },
  {
   "cell_type": "code",
   "execution_count": null,
   "metadata": {},
   "outputs": [],
   "source": [
    "itm_file['movie_year'] = itm_file['movie_year'].str.split('(').str[1]\n",
    "itm_file['movie_year'] = itm_file['movie_year'].str.split(')').str[0]"
   ]
  },
  {
   "cell_type": "code",
   "execution_count": null,
   "metadata": {
    "scrolled": true
   },
   "outputs": [],
   "source": [
    "itm_file.head() "
   ]
  },
  {
   "cell_type": "code",
   "execution_count": null,
   "metadata": {},
   "outputs": [],
   "source": [
    "itm_file.shape"
   ]
  },
  {
   "cell_type": "code",
   "execution_count": null,
   "metadata": {},
   "outputs": [],
   "source": [
    "df = rat_file"
   ]
  },
  {
   "cell_type": "code",
   "execution_count": null,
   "metadata": {},
   "outputs": [],
   "source": [
    "df.head()"
   ]
  },
  {
   "cell_type": "code",
   "execution_count": null,
   "metadata": {},
   "outputs": [],
   "source": [
    "df['date']=df['date'].astype(str)"
   ]
  },
  {
   "cell_type": "code",
   "execution_count": null,
   "metadata": {},
   "outputs": [],
   "source": [
    "df.head()"
   ]
  },
  {
   "cell_type": "code",
   "execution_count": null,
   "metadata": {},
   "outputs": [],
   "source": [
    "df['date']= pd.to_datetime(df['date']) "
   ]
  },
  {
   "cell_type": "code",
   "execution_count": null,
   "metadata": {
    "scrolled": true
   },
   "outputs": [],
   "source": [
    "df['date'].unique()"
   ]
  },
  {
   "cell_type": "code",
   "execution_count": null,
   "metadata": {
    "scrolled": true
   },
   "outputs": [],
   "source": [
    "df.head()"
   ]
  },
  {
   "cell_type": "code",
   "execution_count": null,
   "metadata": {},
   "outputs": [],
   "source": [
    "df = df.sort_values(by='date')\n",
    "df.reset_index(drop=True, inplace=True)\n",
    "df.head()"
   ]
  },
  {
   "cell_type": "code",
   "execution_count": null,
   "metadata": {},
   "outputs": [],
   "source": [
    "df_2 = pd.merge(df,itm_file, on='movie_id')"
   ]
  },
  {
   "cell_type": "code",
   "execution_count": null,
   "metadata": {},
   "outputs": [],
   "source": [
    "df_2.head()"
   ]
  },
  {
   "cell_type": "code",
   "execution_count": null,
   "metadata": {},
   "outputs": [],
   "source": [
    "df_final =pd.merge(df_2, use_file, on='user_id')\n",
    "df_final = df_final.sort_values(by='date')\n",
    "df_final.reset_index(drop=True, inplace=True)\n",
    "df_final"
   ]
  },
  {
   "cell_type": "code",
   "execution_count": null,
   "metadata": {},
   "outputs": [],
   "source": [
    "df_cross = pd.DataFrame(df_final.genre)\n",
    "\n",
    "numeration = int(len(df_final))+1\n",
    "df_cross['id'] = pd.Series(range(1,numeration))"
   ]
  },
  {
   "cell_type": "code",
   "execution_count": null,
   "metadata": {
    "scrolled": true
   },
   "outputs": [],
   "source": [
    "df_cross"
   ]
  },
  {
   "cell_type": "code",
   "execution_count": null,
   "metadata": {
    "scrolled": true
   },
   "outputs": [],
   "source": [
    "df_cross.isnull().values.any()"
   ]
  },
  {
   "cell_type": "code",
   "execution_count": null,
   "metadata": {},
   "outputs": [],
   "source": [
    "df_cross.isnull().sum()"
   ]
  },
  {
   "cell_type": "code",
   "execution_count": null,
   "metadata": {},
   "outputs": [],
   "source": [
    "df_cross['genre'] = df_cross.fillna('noGenre')"
   ]
  },
  {
   "cell_type": "code",
   "execution_count": null,
   "metadata": {},
   "outputs": [],
   "source": [
    "newdf_cross = pd.concat([pd.Series(row['id'], row['genre'].split('|'))\n",
    "           for _, row in df_cross.iterrows()]).reset_index()"
   ]
  },
  {
   "cell_type": "code",
   "execution_count": null,
   "metadata": {},
   "outputs": [],
   "source": [
    "newdf_cross.columns"
   ]
  },
  {
   "cell_type": "code",
   "execution_count": null,
   "metadata": {},
   "outputs": [],
   "source": [
    "new_dfcross = pd.crosstab(newdf_cross[0], newdf_cross['index'])"
   ]
  },
  {
   "cell_type": "code",
   "execution_count": null,
   "metadata": {},
   "outputs": [],
   "source": [
    "new_dfcross"
   ]
  },
  {
   "cell_type": "code",
   "execution_count": null,
   "metadata": {},
   "outputs": [],
   "source": [
    "new_dfcross.rename(columns={'index': 'genre', 0: 'id'}, inplace=True)"
   ]
  },
  {
   "cell_type": "code",
   "execution_count": null,
   "metadata": {
    "scrolled": true
   },
   "outputs": [],
   "source": [
    "new_dfcross.columns"
   ]
  },
  {
   "cell_type": "code",
   "execution_count": null,
   "metadata": {},
   "outputs": [],
   "source": [
    "result = pd.merge(df_final.reset_index(),\n",
    "                  new_dfcross.reset_index(), \n",
    "                  left_index=True, \n",
    "                  right_index=True)\n",
    "result"
   ]
  },
  {
   "cell_type": "code",
   "execution_count": null,
   "metadata": {},
   "outputs": [],
   "source": [
    "result.columns"
   ]
  },
  {
   "cell_type": "code",
   "execution_count": null,
   "metadata": {},
   "outputs": [],
   "source": []
  },
  {
   "cell_type": "code",
   "execution_count": null,
   "metadata": {},
   "outputs": [],
   "source": []
  },
  {
   "cell_type": "code",
   "execution_count": null,
   "metadata": {},
   "outputs": [],
   "source": []
  },
  {
   "cell_type": "markdown",
   "metadata": {},
   "source": [
    "#  Pruebas"
   ]
  },
  {
   "cell_type": "code",
   "execution_count": null,
   "metadata": {},
   "outputs": [],
   "source": [
    "df_testing = pd.DataFrame(df_final.genre)\n",
    "\n",
    "pruebas = df_testing.head()\n",
    "jj = int(pruebas.count()+1)\n",
    "pruebas['id'] = pd.Series(range(1,jj))"
   ]
  },
  {
   "cell_type": "code",
   "execution_count": null,
   "metadata": {},
   "outputs": [],
   "source": [
    "pruebas"
   ]
  },
  {
   "cell_type": "code",
   "execution_count": null,
   "metadata": {},
   "outputs": [],
   "source": [
    "pd.concat([pd.Series(row['id'], row['genre'].split('|'))\n",
    "           for _, row in pruebas.iterrows()]).reset_index()"
   ]
  },
  {
   "cell_type": "code",
   "execution_count": null,
   "metadata": {
    "scrolled": true
   },
   "outputs": [],
   "source": [
    "import pandas as pd\n",
    "df = pd.DataFrame(['a b c']*100000, columns=['col'])\n",
    "df.head()"
   ]
  },
  {
   "cell_type": "code",
   "execution_count": null,
   "metadata": {},
   "outputs": [],
   "source": [
    "print (pd.DataFrame(dict(zip(range(3), [df['col'].apply(lambda x : x.split(' ')[i]) for i in range(3)]))).head())"
   ]
  },
  {
   "cell_type": "code",
   "execution_count": null,
   "metadata": {},
   "outputs": [],
   "source": [
    "s = pruebas['genre'].str.split('|')\n",
    "s"
   ]
  },
  {
   "cell_type": "code",
   "execution_count": null,
   "metadata": {},
   "outputs": [],
   "source": [
    "q = pruebas['genre'].str.split('|').tolist()\n",
    "q"
   ]
  },
  {
   "cell_type": "code",
   "execution_count": null,
   "metadata": {
    "scrolled": false
   },
   "outputs": [],
   "source": [
    "pd.DataFrame(dict(zip(range(16), [pruebas['genre'].apply(lambda x : x.split('|')[i]) for i in range(2)])))"
   ]
  },
  {
   "cell_type": "code",
   "execution_count": null,
   "metadata": {},
   "outputs": [],
   "source": [
    "s = pruebas['genre'].str.split('|').apply(pd.Series, 1).stack()\n",
    "s"
   ]
  },
  {
   "cell_type": "code",
   "execution_count": null,
   "metadata": {},
   "outputs": [],
   "source": [
    "s.index = s.index.droplevel(-1)\n",
    "s.name = 'genres'\n",
    "s"
   ]
  },
  {
   "cell_type": "code",
   "execution_count": null,
   "metadata": {
    "scrolled": true
   },
   "outputs": [],
   "source": [
    "# s = pruebas['genre']\n",
    "s = pruebas['genre'].str.split('|').apply(pd.Series, 1).stack()\n",
    "s.index = s.index.droplevel(-1)\n",
    "s.name = 'genres'\n",
    "pruebas.join(s.apply(lambda x: pd.Series(x.split('|'))))\n",
    "pruebas = pruebas.join(s)\n",
    "pruebas"
   ]
  },
  {
   "cell_type": "code",
   "execution_count": null,
   "metadata": {},
   "outputs": [],
   "source": [
    "uni_gen = pruebas['genres'].unique()\n",
    "uni_gen"
   ]
  },
  {
   "cell_type": "code",
   "execution_count": null,
   "metadata": {
    "scrolled": true
   },
   "outputs": [],
   "source": [
    "process = pd.get_dummies(pd.Series(list(pruebas['genres'])))"
   ]
  },
  {
   "cell_type": "code",
   "execution_count": null,
   "metadata": {},
   "outputs": [],
   "source": [
    "result = pd.merge(pruebas.reset_index(),\n",
    "                  process.reset_index(), \n",
    "                  left_index=True, \n",
    "                  right_index=True)\n",
    "result"
   ]
  },
  {
   "cell_type": "code",
   "execution_count": null,
   "metadata": {},
   "outputs": [],
   "source": [
    "new_df = pd.crosstab(result['id'], result['genres'])"
   ]
  },
  {
   "cell_type": "code",
   "execution_count": null,
   "metadata": {},
   "outputs": [],
   "source": [
    "new_df"
   ]
  },
  {
   "cell_type": "code",
   "execution_count": null,
   "metadata": {},
   "outputs": [],
   "source": [
    "data = pd.DataFrame(columns=(uni_gen))\n",
    "data['id'] = pd.Series(range(1,jj))\n",
    "data"
   ]
  },
  {
   "cell_type": "code",
   "execution_count": null,
   "metadata": {},
   "outputs": [],
   "source": [
    "df_final.shape"
   ]
  },
  {
   "cell_type": "code",
   "execution_count": null,
   "metadata": {
    "scrolled": true
   },
   "outputs": [],
   "source": [
    "df_final['movie_title'].nunique()\n",
    "#34314"
   ]
  },
  {
   "cell_type": "code",
   "execution_count": null,
   "metadata": {},
   "outputs": [],
   "source": []
  },
  {
   "cell_type": "code",
   "execution_count": null,
   "metadata": {},
   "outputs": [],
   "source": [
    "lista_m = itm_file['movie_title']\n",
    "\n",
    "lista_f = df_final['movie_title']"
   ]
  },
  {
   "cell_type": "code",
   "execution_count": null,
   "metadata": {},
   "outputs": [],
   "source": [
    "df_final[['dID','hID']].groupby(df['mID']).agg(['count', 'size', 'nunique'])"
   ]
  },
  {
   "cell_type": "code",
   "execution_count": null,
   "metadata": {},
   "outputs": [],
   "source": [
    "lista_m.iloc['Joker']\n",
    "\n",
    "is_male = lista_m.loc[:,] == 'Joker'\n",
    "df_male = lista_m.loc[is_male]\n",
    "df_male.head()"
   ]
  },
  {
   "cell_type": "code",
   "execution_count": null,
   "metadata": {},
   "outputs": [],
   "source": [
    "lista_f = pd.DataFrame(lista_f)\n",
    "lista_f"
   ]
  },
  {
   "cell_type": "code",
   "execution_count": null,
   "metadata": {
    "scrolled": true
   },
   "outputs": [],
   "source": [
    "#surveys_df.loc[[0, 10], :] surveys_df[surveys_df.year == 2002]\n",
    "\n",
    "lista_m = pd.DataFrame(lista_m)\n",
    "lista_m['movie_title'].iloc[2]"
   ]
  },
  {
   "cell_type": "code",
   "execution_count": null,
   "metadata": {},
   "outputs": [],
   "source": [
    "lista_m.movie_title.dtypes"
   ]
  },
  {
   "cell_type": "code",
   "execution_count": null,
   "metadata": {},
   "outputs": [],
   "source": [
    "lista_m.movie_title =='The Oxford and Cambridge University Boat Race'"
   ]
  },
  {
   "cell_type": "code",
   "execution_count": null,
   "metadata": {},
   "outputs": [],
   "source": [
    "is_joker = lista_m.loc[:, 'movie_title'] == 'Upstarts'\n",
    "df_joker = lista_m.loc[is_joker]\n",
    "df_joker.head()"
   ]
  },
  {
   "cell_type": "code",
   "execution_count": null,
   "metadata": {},
   "outputs": [],
   "source": [
    "is_joker.unique()"
   ]
  },
  {
   "cell_type": "code",
   "execution_count": null,
   "metadata": {
    "scrolled": true
   },
   "outputs": [],
   "source": [
    "comparacion = []\n",
    "for item in lista_m:\n",
    "    if item in lista_m:\n",
    "        comparacion.append(item)\n",
    "\n",
    "if len(comparacion) > 0:\n",
    "    print('Ambas listas contienen estos elementos')\n",
    "    for item in comparacion: print('%s' % item)\n",
    "\n",
    "else:\n",
    "    print('No existe ningun elemento igual en las listas')"
   ]
  },
  {
   "cell_type": "code",
   "execution_count": null,
   "metadata": {},
   "outputs": [],
   "source": [
    "lista1=[\"paco\",\"pepe\",\"luis\"]\n",
    "\n",
    "lista2=[\"diego\",\"mari\",\"luis\"]\n",
    "\n",
    "comparacion = []\n",
    "\n",
    " \n",
    "\n",
    "for item in lista1:\n",
    "\n",
    "  if item in lista2:\n",
    "\n",
    "    comparacion.append(item)\n",
    "\n",
    " \n",
    "\n",
    "if len(comparacion) > 0:\n",
    "\n",
    "  print 'Ambas listas contienen estos elementos'\n",
    "\n",
    "  for item in comparacion: print '%s' % item\n",
    "\n",
    "else:\n",
    "\n",
    "  print 'No existe ningun elemento igual en las listas'"
   ]
  },
  {
   "cell_type": "code",
   "execution_count": null,
   "metadata": {
    "scrolled": true
   },
   "outputs": [],
   "source": [
    "n_col = df_final.columns\n",
    "\n",
    "for col in n_col:\n",
    "    print(df[col].unique)"
   ]
  },
  {
   "cell_type": "code",
   "execution_count": null,
   "metadata": {},
   "outputs": [],
   "source": []
  }
 ],
 "metadata": {
  "kernelspec": {
   "display_name": "Python 3",
   "language": "python",
   "name": "python3"
  },
  "language_info": {
   "codemirror_mode": {
    "name": "ipython",
    "version": 3
   },
   "file_extension": ".py",
   "mimetype": "text/x-python",
   "name": "python",
   "nbconvert_exporter": "python",
   "pygments_lexer": "ipython3",
   "version": "3.7.0"
  }
 },
 "nbformat": 4,
 "nbformat_minor": 2
}
